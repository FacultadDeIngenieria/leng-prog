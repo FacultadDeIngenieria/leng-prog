{
 "cells": [
  {
   "cell_type": "markdown",
   "id": "f7fe7e54",
   "metadata": {
    "pycharm": {
     "name": "#%% md\n"
    },
    "slideshow": {
     "slide_type": "slide"
    }
   },
   "source": [
    "# User Defined Types\n",
    "# Error Handling\n",
    "# Type Classes"
   ]
  },
  {
   "cell_type": "code",
   "execution_count": null,
   "id": "a188c100",
   "metadata": {},
   "outputs": [],
   "source": []
  },
  {
   "cell_type": "code",
   "execution_count": 23,
   "id": "94346184",
   "metadata": {
    "slideshow": {
     "slide_type": "skip"
    }
   },
   "outputs": [],
   "source": [
    ":option no-lint\n",
    ":option no-show-types\n",
    "import Data.List"
   ]
  },
  {
   "cell_type": "markdown",
   "id": "8955f1bf",
   "metadata": {
    "slideshow": {
     "slide_type": "slide"
    }
   },
   "source": [
    "## Algebraic Data Types (ADTs)\n",
    "\n",
    "* Is a composite _data type_ that incorporates logic in it's composition. \n",
    "* They are introduced using the `data` keyword\n",
    "* The are constructed using 2 operations:\n",
    "    - **Sum**: Provides different alternatives. (You can think of the new type as the _sum_ or _union_ between the alternatives. \n",
    "    - **Product**: combine multiple types into one. (A _tuple_ is actually a product type)."
   ]
  },
  {
   "cell_type": "markdown",
   "id": "b0449910",
   "metadata": {
    "pycharm": {
     "name": "#%% md\n"
    },
    "slideshow": {
     "slide_type": "slide"
    }
   },
   "source": [
    "## Enumerated Types\n",
    "\n",
    "They are the simplest case of a **sum** (or **union**) type"
   ]
  },
  {
   "cell_type": "code",
   "execution_count": 2,
   "id": "cf3316a4",
   "metadata": {
    "pycharm": {
     "name": "#%% md\n"
    },
    "slideshow": {
     "slide_type": "fragment"
    }
   },
   "outputs": [],
   "source": [
    "data Weekday = Sunday | Monday | Tuesday | Wednesday | Thursday \n",
    "             | Friday | Saturday"
   ]
  },
  {
   "cell_type": "markdown",
   "id": "f6b889cf",
   "metadata": {
    "slideshow": {
     "slide_type": "-"
    }
   },
   "source": [
    "The identifier after `data` (`Weekday`) is the **name** of the new type. The names at the right (`Sunday`, etc) are called **constructors**"
   ]
  },
  {
   "cell_type": "code",
   "execution_count": 24,
   "id": "824620a5",
   "metadata": {
    "pycharm": {
     "name": "#%% md\n"
    },
    "slideshow": {
     "slide_type": "fragment"
    }
   },
   "outputs": [
    {
     "data": {
      "text/plain": [
       "False"
      ]
     },
     "metadata": {},
     "output_type": "display_data"
    }
   ],
   "source": [
    "isWeekend :: Weekday -> Bool\n",
    "isWeekend Sunday   = True\n",
    "isWeekend Saturday = True\n",
    "isWeekend _        = False\n",
    "\n",
    "isWeekend Friday"
   ]
  },
  {
   "cell_type": "code",
   "execution_count": 6,
   "id": "951a1557",
   "metadata": {
    "slideshow": {
     "slide_type": "fragment"
    }
   },
   "outputs": [
    {
     "data": {
      "text/plain": [
       "True"
      ]
     },
     "metadata": {},
     "output_type": "display_data"
    }
   ],
   "source": [
    "data Weekday = Sunday | Monday | Tuesday | Wednesday | Thursday \n",
    "             | Friday | Saturday deriving (Eq)\n",
    "                    \n",
    "isWeekend2 :: Weekday -> Bool\n",
    "isWeekend2 w = w == Sunday || w == Saturday\n",
    "\n",
    "isWeekend2 Sunday"
   ]
  },
  {
   "cell_type": "markdown",
   "id": "608a05bf",
   "metadata": {
    "pycharm": {
     "name": "#%% md\n"
    },
    "slideshow": {
     "slide_type": "slide"
    }
   },
   "source": [
    "## Deriving\n",
    "\n",
    "\n",
    "> Haskell can automatically make our type implement any of the following: \n",
    "> `Eq`, `Ord`, `Show`, `Read`, `Enum`, `Bounded`.  "
   ]
  },
  {
   "cell_type": "markdown",
   "id": "642ab83f",
   "metadata": {
    "slideshow": {
     "slide_type": "fragment"
    }
   },
   "source": [
    "* `Eq` and `Ord`"
   ]
  },
  {
   "cell_type": "code",
   "execution_count": 8,
   "id": "4749710c",
   "metadata": {
    "slideshow": {
     "slide_type": "fragment"
    }
   },
   "outputs": [
    {
     "data": {
      "text/plain": [
       "False"
      ]
     },
     "metadata": {},
     "output_type": "display_data"
    },
    {
     "data": {
      "text/plain": [
       "True"
      ]
     },
     "metadata": {},
     "output_type": "display_data"
    },
    {
     "data": {
      "text/plain": [
       "True"
      ]
     },
     "metadata": {},
     "output_type": "display_data"
    }
   ],
   "source": [
    "data Weekday = Sunday | Monday | Tuesday | Wednesday | Thursday | Friday | Saturday\n",
    "                    deriving (Eq, Ord)\n",
    "                    \n",
    "isWeekend2 :: Weekday -> Bool\n",
    "isWeekend2 w = w == Sunday || w == Saturday\n",
    "\n",
    "-- isWeekend2 Tuesday\n",
    "\n",
    "Tuesday > Monday\n",
    "Sunday < Monday"
   ]
  },
  {
   "cell_type": "markdown",
   "id": "0481e1d8",
   "metadata": {
    "slideshow": {
     "slide_type": "fragment"
    }
   },
   "source": [
    "* `Show` and `Read`"
   ]
  },
  {
   "cell_type": "markdown",
   "id": "1e3ae670",
   "metadata": {
    "slideshow": {
     "slide_type": "slide"
    }
   },
   "source": [
    "## Show and Read\n",
    "\n",
    "> Implement conversions to and from an `String`"
   ]
  },
  {
   "cell_type": "markdown",
   "id": "1a228d9b",
   "metadata": {
    "slideshow": {
     "slide_type": "fragment"
    }
   },
   "source": [
    "* Show"
   ]
  },
  {
   "cell_type": "code",
   "execution_count": 14,
   "id": "f1b8b006",
   "metadata": {
    "slideshow": {
     "slide_type": "fragment"
    }
   },
   "outputs": [
    {
     "data": {
      "text/plain": [
       "Monday"
      ]
     },
     "metadata": {},
     "output_type": "display_data"
    },
    {
     "data": {
      "text/plain": [
       "\"Fridays\""
      ]
     },
     "metadata": {},
     "output_type": "display_data"
    }
   ],
   "source": [
    "data Weekday = Sunday | Monday | Tuesday | Wednesday | Thursday | Friday \n",
    "             | Saturday \n",
    "                deriving (Eq, Ord,Show, Read)\n",
    " \n",
    "Monday \n",
    "\n",
    "plural::Weekday -> String\n",
    "plural day = show day ++ \"s\""
   ]
  },
  {
   "cell_type": "markdown",
   "id": "7ef7185b",
   "metadata": {
    "slideshow": {
     "slide_type": "fragment"
    }
   },
   "source": [
    "* Read"
   ]
  },
  {
   "cell_type": "code",
   "execution_count": 26,
   "id": "15478043",
   "metadata": {
    "slideshow": {
     "slide_type": "fragment"
    }
   },
   "outputs": [
    {
     "data": {
      "text/plain": [
       "Sunday"
      ]
     },
     "metadata": {},
     "output_type": "display_data"
    },
    {
     "data": {
      "text/plain": [
       "\"Sundays\""
      ]
     },
     "metadata": {},
     "output_type": "display_data"
    },
    {
     "data": {
      "text/plain": [
       "False"
      ]
     },
     "metadata": {},
     "output_type": "display_data"
    }
   ],
   "source": [
    "isWeekend :: Weekday -> Bool\n",
    "isWeekend w = w == Sunday || w == Saturday\n",
    "\n",
    "(read \"Sunday\")::Weekday\n",
    "\n",
    "plural (read \"Sunday\")\n",
    "\n",
    "isWeekend (read \"Friday\")"
   ]
  },
  {
   "cell_type": "code",
   "execution_count": 30,
   "id": "d95b20f4",
   "metadata": {
    "slideshow": {
     "slide_type": "fragment"
    }
   },
   "outputs": [
    {
     "data": {
      "text/plain": [
       "[]"
      ]
     },
     "metadata": {},
     "output_type": "display_data"
    },
    {
     "data": {
      "text/plain": [
       "[(Sunday,\" Monday bloody Sunday\")]"
      ]
     },
     "metadata": {},
     "output_type": "display_data"
    }
   ],
   "source": [
    "(reads \"Sonday\")::[(Weekday, String)]\n",
    "(reads \"Sunday bloody Sunday\")::[(Weekday, String)]"
   ]
  },
  {
   "cell_type": "markdown",
   "id": "d03bcaa8",
   "metadata": {
    "slideshow": {
     "slide_type": "slide"
    }
   },
   "source": [
    "## Enum and Bounded\n",
    "\n",
    "`Enum` Defines operations on sequentially ordered types:\n",
    "`succ`, `pred`, `toEnum`, `fromEnum`, operations to support ranges (`enumFromTo`, etc)\n"
   ]
  },
  {
   "cell_type": "code",
   "execution_count": 2,
   "id": "5bb66659",
   "metadata": {
    "slideshow": {
     "slide_type": "fragment"
    }
   },
   "outputs": [],
   "source": [
    "data Weekday = Sunday | Monday | Tuesday | Wednesday | Thursday | Friday | Saturday \n",
    "                deriving (Eq, Ord, Show, Read, Enum, Bounded) "
   ]
  },
  {
   "cell_type": "code",
   "execution_count": 3,
   "id": "e53cb117",
   "metadata": {
    "slideshow": {
     "slide_type": "fragment"
    }
   },
   "outputs": [
    {
     "data": {
      "text/plain": [
       "Monday"
      ]
     },
     "metadata": {},
     "output_type": "display_data"
    },
    {
     "data": {
      "text/plain": [
       "Thursday"
      ]
     },
     "metadata": {},
     "output_type": "display_data"
    },
    {
     "data": {
      "text/plain": [
       "2"
      ]
     },
     "metadata": {},
     "output_type": "display_data"
    },
    {
     "data": {
      "text/plain": [
       "Tuesday"
      ]
     },
     "metadata": {},
     "output_type": "display_data"
    },
    {
     "data": {
      "text/plain": [
       "[Monday,Wednesday,Friday]"
      ]
     },
     "metadata": {},
     "output_type": "display_data"
    }
   ],
   "source": [
    "succ Sunday\n",
    "\n",
    "pred Friday\n",
    "\n",
    "fromEnum Tuesday\n",
    "\n",
    "(toEnum 2)::Weekday\n",
    "\n",
    "[Monday, Wednesday .. ]"
   ]
  },
  {
   "cell_type": "markdown",
   "id": "426b1146",
   "metadata": {
    "slideshow": {
     "slide_type": "fragment"
    }
   },
   "source": [
    "`Bounded` Defines the limits of a type (`minBound` and `maxBound`)"
   ]
  },
  {
   "cell_type": "code",
   "execution_count": null,
   "id": "e3419e35",
   "metadata": {},
   "outputs": [
    {
     "data": {
      "text/plain": [
       "Sunday"
      ]
     },
     "metadata": {},
     "output_type": "display_data"
    }
   ],
   "source": [
    "\n",
    "x = minBound::Weekday\n",
    "x"
   ]
  },
  {
   "cell_type": "markdown",
   "id": "21af1605",
   "metadata": {
    "pycharm": {
     "name": "#%% md\n"
    },
    "slideshow": {
     "slide_type": "slide"
    }
   },
   "source": [
    "## Product Types\n"
   ]
  },
  {
   "cell_type": "markdown",
   "id": "b5c679be",
   "metadata": {
    "slideshow": {
     "slide_type": "fragment"
    }
   },
   "source": [
    "Instead of using _tuples_ we can use `data` to create new types combining existing ones."
   ]
  },
  {
   "cell_type": "code",
   "execution_count": 48,
   "id": "8c47268b",
   "metadata": {
    "slideshow": {
     "slide_type": "fragment"
    }
   },
   "outputs": [
    {
     "data": {
      "text/plain": [
       "Pt 10.0 3.5"
      ]
     },
     "metadata": {},
     "output_type": "display_data"
    },
    {
     "data": {
      "text/plain": [
       "Pt 0.0 0.0"
      ]
     },
     "metadata": {},
     "output_type": "display_data"
    }
   ],
   "source": [
    "data Point = Pt Double Double deriving (Eq, Show)\n",
    "\n",
    "Pt 10.0 3.5\n",
    "origin = Pt 0 0\n",
    "origin"
   ]
  },
  {
   "cell_type": "markdown",
   "id": "800e6642",
   "metadata": {
    "slideshow": {
     "slide_type": "fragment"
    }
   },
   "source": [
    "**Point** is the name of the new type. **Pt** is the constructor.\n",
    "\n",
    "This is also valid: `data Point = Point Double Double`.\n",
    "\n",
    "_Type names_ and _Constructors_ are in different _namespaces_, so then don't interfere."
   ]
  },
  {
   "cell_type": "markdown",
   "id": "e094c26d",
   "metadata": {
    "slideshow": {
     "slide_type": "fragment"
    }
   },
   "source": [
    "Constructors are actually functions"
   ]
  },
  {
   "cell_type": "code",
   "execution_count": 54,
   "id": "4346a505",
   "metadata": {},
   "outputs": [
    {
     "data": {
      "text/html": [
       "<style>/* Styles used for the Hoogle display in the pager */\n",
       ".hoogle-doc {\n",
       "display: block;\n",
       "padding-bottom: 1.3em;\n",
       "padding-left: 0.4em;\n",
       "}\n",
       ".hoogle-code {\n",
       "display: block;\n",
       "font-family: monospace;\n",
       "white-space: pre;\n",
       "}\n",
       ".hoogle-text {\n",
       "display: block;\n",
       "}\n",
       ".hoogle-name {\n",
       "color: green;\n",
       "font-weight: bold;\n",
       "}\n",
       ".hoogle-head {\n",
       "font-weight: bold;\n",
       "}\n",
       ".hoogle-sub {\n",
       "display: block;\n",
       "margin-left: 0.4em;\n",
       "}\n",
       ".hoogle-package {\n",
       "font-weight: bold;\n",
       "font-style: italic;\n",
       "}\n",
       ".hoogle-module {\n",
       "font-weight: bold;\n",
       "}\n",
       ".hoogle-class {\n",
       "font-weight: bold;\n",
       "}\n",
       ".get-type {\n",
       "color: green;\n",
       "font-weight: bold;\n",
       "font-family: monospace;\n",
       "display: block;\n",
       "white-space: pre-wrap;\n",
       "}\n",
       ".show-type {\n",
       "color: green;\n",
       "font-weight: bold;\n",
       "font-family: monospace;\n",
       "margin-left: 1em;\n",
       "}\n",
       ".mono {\n",
       "font-family: monospace;\n",
       "display: block;\n",
       "}\n",
       ".err-msg {\n",
       "color: red;\n",
       "font-style: italic;\n",
       "font-family: monospace;\n",
       "white-space: pre;\n",
       "display: block;\n",
       "}\n",
       "#unshowable {\n",
       "color: red;\n",
       "font-weight: bold;\n",
       "}\n",
       ".err-msg.in.collapse {\n",
       "padding-top: 0.7em;\n",
       "}\n",
       ".highlight-code {\n",
       "white-space: pre;\n",
       "font-family: monospace;\n",
       "}\n",
       ".suggestion-warning { \n",
       "font-weight: bold;\n",
       "color: rgb(200, 130, 0);\n",
       "}\n",
       ".suggestion-error { \n",
       "font-weight: bold;\n",
       "color: red;\n",
       "}\n",
       ".suggestion-name {\n",
       "font-weight: bold;\n",
       "}\n",
       "</style><span class='get-type'>(Pt 2.0) :: Double -> Point</span>"
      ],
      "text/plain": [
       "(Pt 2.0) :: Double -> Point"
      ]
     },
     "metadata": {},
     "output_type": "display_data"
    },
    {
     "data": {
      "text/plain": [
       "[Pt 2.0 1.0,Pt 2.0 2.0,Pt 2.0 3.0,Pt 2.0 4.0,Pt 2.0 5.0]"
      ]
     },
     "metadata": {},
     "output_type": "display_data"
    }
   ],
   "source": [
    ":t (Pt 2.0)\n",
    "\n",
    "map (Pt 2.0) [1 .. 5] "
   ]
  },
  {
   "cell_type": "markdown",
   "id": "45e78eee",
   "metadata": {
    "pycharm": {
     "name": "#%% md\n"
    },
    "slideshow": {
     "slide_type": "slide"
    }
   },
   "source": [
    "## Product Types - Pattern Matching\n"
   ]
  },
  {
   "cell_type": "markdown",
   "id": "8cf870de",
   "metadata": {
    "slideshow": {
     "slide_type": "fragment"
    }
   },
   "source": [
    "You can do _pattern matching_ using the _ADT_ constructors "
   ]
  },
  {
   "cell_type": "code",
   "execution_count": 60,
   "id": "1fc8f6bc",
   "metadata": {
    "slideshow": {
     "slide_type": "fragment"
    }
   },
   "outputs": [
    {
     "data": {
      "text/plain": [
       "5.0"
      ]
     },
     "metadata": {},
     "output_type": "display_data"
    }
   ],
   "source": [
    "distance :: Point -> Point -> Double\n",
    "distance (Pt x1 y1) (Pt x2 y2) = sqrt $ (x1-x2)^2 + (y1-y2)^2 \n",
    "\n",
    "distance (Pt 3 4) origin "
   ]
  },
  {
   "cell_type": "markdown",
   "id": "dd6fc0c2",
   "metadata": {
    "slideshow": {
     "slide_type": "fragment"
    }
   },
   "source": [
    "Constructors are actually functions, you can use symbols to define them. Names must begin in **Uppercase**, symbols must begin with ':' (**colon**)"
   ]
  },
  {
   "cell_type": "code",
   "execution_count": 63,
   "id": "0059b749",
   "metadata": {
    "slideshow": {
     "slide_type": "fragment"
    }
   },
   "outputs": [
    {
     "data": {
      "text/plain": [
       "1 :/: 3"
      ]
     },
     "metadata": {},
     "output_type": "display_data"
    }
   ],
   "source": [
    "\n",
    "data Fraction = Integer :/: Integer deriving (Eq, Show)\n",
    "\n",
    "1 :/: 3"
   ]
  },
  {
   "cell_type": "code",
   "execution_count": 64,
   "id": "efaf4651",
   "metadata": {
    "slideshow": {
     "slide_type": "fragment"
    }
   },
   "outputs": [
    {
     "data": {
      "text/plain": [
       "2 :/: 6"
      ]
     },
     "metadata": {},
     "output_type": "display_data"
    }
   ],
   "source": [
    "mul :: Fraction -> Fraction -> Fraction\n",
    "mul (n1 :/: d1) (n2 :/: d2) = (n1 * n2) :/: (d1 * d2)\n",
    "\n",
    "mul (1 :/: 2) (2 :/: 3)"
   ]
  },
  {
   "cell_type": "markdown",
   "id": "0f07895b",
   "metadata": {
    "slideshow": {
     "slide_type": "slide"
    }
   },
   "source": [
    "## Records"
   ]
  },
  {
   "cell_type": "code",
   "execution_count": 65,
   "id": "6a037e0a",
   "metadata": {
    "slideshow": {
     "slide_type": "fragment"
    }
   },
   "outputs": [
    {
     "data": {
      "text/plain": [
       "35"
      ]
     },
     "metadata": {},
     "output_type": "display_data"
    }
   ],
   "source": [
    "-- define a Person with firstName, lastName, age and height\n",
    "data Person = Person String String Int Float deriving (Show) \n",
    "\n",
    "age::Person -> Int\n",
    "age (Person _ _ n _ ) = n\n",
    "\n",
    "messi = Person \"Leo\" \"Messi\" 35 1.68\n",
    "\n",
    "age messi "
   ]
  },
  {
   "cell_type": "markdown",
   "id": "bf85b402",
   "metadata": {
    "slideshow": {
     "slide_type": "fragment"
    }
   },
   "source": [
    "This can be cumbersome and not very readable. To simplify this there is a **record** syntax."
   ]
  },
  {
   "cell_type": "code",
   "execution_count": 71,
   "id": "a218837f",
   "metadata": {
    "slideshow": {
     "slide_type": "fragment"
    }
   },
   "outputs": [
    {
     "data": {
      "text/plain": [
       "Person {firstName = \"Leo\", lastName = \"Messi\", age = 35, height = 1.68}"
      ]
     },
     "metadata": {},
     "output_type": "display_data"
    },
    {
     "data": {
      "text/plain": [
       "35"
      ]
     },
     "metadata": {},
     "output_type": "display_data"
    },
    {
     "data": {
      "text/plain": [
       "1.68"
      ]
     },
     "metadata": {},
     "output_type": "display_data"
    },
    {
     "data": {
      "text/html": [
       "<style>/* Styles used for the Hoogle display in the pager */\n",
       ".hoogle-doc {\n",
       "display: block;\n",
       "padding-bottom: 1.3em;\n",
       "padding-left: 0.4em;\n",
       "}\n",
       ".hoogle-code {\n",
       "display: block;\n",
       "font-family: monospace;\n",
       "white-space: pre;\n",
       "}\n",
       ".hoogle-text {\n",
       "display: block;\n",
       "}\n",
       ".hoogle-name {\n",
       "color: green;\n",
       "font-weight: bold;\n",
       "}\n",
       ".hoogle-head {\n",
       "font-weight: bold;\n",
       "}\n",
       ".hoogle-sub {\n",
       "display: block;\n",
       "margin-left: 0.4em;\n",
       "}\n",
       ".hoogle-package {\n",
       "font-weight: bold;\n",
       "font-style: italic;\n",
       "}\n",
       ".hoogle-module {\n",
       "font-weight: bold;\n",
       "}\n",
       ".hoogle-class {\n",
       "font-weight: bold;\n",
       "}\n",
       ".get-type {\n",
       "color: green;\n",
       "font-weight: bold;\n",
       "font-family: monospace;\n",
       "display: block;\n",
       "white-space: pre-wrap;\n",
       "}\n",
       ".show-type {\n",
       "color: green;\n",
       "font-weight: bold;\n",
       "font-family: monospace;\n",
       "margin-left: 1em;\n",
       "}\n",
       ".mono {\n",
       "font-family: monospace;\n",
       "display: block;\n",
       "}\n",
       ".err-msg {\n",
       "color: red;\n",
       "font-style: italic;\n",
       "font-family: monospace;\n",
       "white-space: pre;\n",
       "display: block;\n",
       "}\n",
       "#unshowable {\n",
       "color: red;\n",
       "font-weight: bold;\n",
       "}\n",
       ".err-msg.in.collapse {\n",
       "padding-top: 0.7em;\n",
       "}\n",
       ".highlight-code {\n",
       "white-space: pre;\n",
       "font-family: monospace;\n",
       "}\n",
       ".suggestion-warning { \n",
       "font-weight: bold;\n",
       "color: rgb(200, 130, 0);\n",
       "}\n",
       ".suggestion-error { \n",
       "font-weight: bold;\n",
       "color: red;\n",
       "}\n",
       ".suggestion-name {\n",
       "font-weight: bold;\n",
       "}\n",
       "</style><span class='get-type'>age :: Person -> Int</span>"
      ],
      "text/plain": [
       "age :: Person -> Int"
      ]
     },
     "metadata": {},
     "output_type": "display_data"
    }
   ],
   "source": [
    "data Person = Person { firstName::String, lastName::String,\n",
    "                       age::Int, height::Float } deriving (Show) \n",
    "\n",
    "messi = Person { age=35, firstName=\"Leo\", lastName=\"Messi\", height=1.68 }\n",
    "messi\n",
    "age messi\n",
    "height messi"
   ]
  },
  {
   "cell_type": "code",
   "execution_count": 72,
   "id": "e68b5ded",
   "metadata": {
    "slideshow": {
     "slide_type": "fragment"
    }
   },
   "outputs": [
    {
     "data": {
      "text/plain": [
       "Person {firstName = \"Lionel\", lastName = \"Messi\", age = 35, height = 1.68}"
      ]
     },
     "metadata": {},
     "output_type": "display_data"
    }
   ],
   "source": [
    "messi' = messi { firstName = \"Lionel\" }\n",
    "messi' "
   ]
  },
  {
   "cell_type": "markdown",
   "id": "3eccfed4",
   "metadata": {
    "slideshow": {
     "slide_type": "slide"
    }
   },
   "source": [
    "## Mixing Product and Union types"
   ]
  },
  {
   "cell_type": "code",
   "execution_count": 75,
   "id": "2bb088ba",
   "metadata": {
    "slideshow": {
     "slide_type": "fragment"
    }
   },
   "outputs": [
    {
     "data": {
      "text/plain": [
       "Circle (Pt 0.0 0.0) 5.0"
      ]
     },
     "metadata": {},
     "output_type": "display_data"
    },
    {
     "data": {
      "text/html": [
       "<style>/* Styles used for the Hoogle display in the pager */\n",
       ".hoogle-doc {\n",
       "display: block;\n",
       "padding-bottom: 1.3em;\n",
       "padding-left: 0.4em;\n",
       "}\n",
       ".hoogle-code {\n",
       "display: block;\n",
       "font-family: monospace;\n",
       "white-space: pre;\n",
       "}\n",
       ".hoogle-text {\n",
       "display: block;\n",
       "}\n",
       ".hoogle-name {\n",
       "color: green;\n",
       "font-weight: bold;\n",
       "}\n",
       ".hoogle-head {\n",
       "font-weight: bold;\n",
       "}\n",
       ".hoogle-sub {\n",
       "display: block;\n",
       "margin-left: 0.4em;\n",
       "}\n",
       ".hoogle-package {\n",
       "font-weight: bold;\n",
       "font-style: italic;\n",
       "}\n",
       ".hoogle-module {\n",
       "font-weight: bold;\n",
       "}\n",
       ".hoogle-class {\n",
       "font-weight: bold;\n",
       "}\n",
       ".get-type {\n",
       "color: green;\n",
       "font-weight: bold;\n",
       "font-family: monospace;\n",
       "display: block;\n",
       "white-space: pre-wrap;\n",
       "}\n",
       ".show-type {\n",
       "color: green;\n",
       "font-weight: bold;\n",
       "font-family: monospace;\n",
       "margin-left: 1em;\n",
       "}\n",
       ".mono {\n",
       "font-family: monospace;\n",
       "display: block;\n",
       "}\n",
       ".err-msg {\n",
       "color: red;\n",
       "font-style: italic;\n",
       "font-family: monospace;\n",
       "white-space: pre;\n",
       "display: block;\n",
       "}\n",
       "#unshowable {\n",
       "color: red;\n",
       "font-weight: bold;\n",
       "}\n",
       ".err-msg.in.collapse {\n",
       "padding-top: 0.7em;\n",
       "}\n",
       ".highlight-code {\n",
       "white-space: pre;\n",
       "font-family: monospace;\n",
       "}\n",
       ".suggestion-warning { \n",
       "font-weight: bold;\n",
       "color: rgb(200, 130, 0);\n",
       "}\n",
       ".suggestion-error { \n",
       "font-weight: bold;\n",
       "color: red;\n",
       "}\n",
       ".suggestion-name {\n",
       "font-weight: bold;\n",
       "}\n",
       "</style><span class='get-type'>c1 :: Shape</span>"
      ],
      "text/plain": [
       "c1 :: Shape"
      ]
     },
     "metadata": {},
     "output_type": "display_data"
    }
   ],
   "source": [
    "data Shape = Circle Point Double\n",
    "           | Rectangle Point Point deriving (Eq, Show)\n",
    "\n",
    "c1 = Circle origin 5.0\n",
    "c1\n",
    ":type c1"
   ]
  },
  {
   "cell_type": "code",
   "execution_count": null,
   "id": "dce1157f",
   "metadata": {
    "slideshow": {
     "slide_type": "fragment"
    }
   },
   "outputs": [],
   "source": [
    "area :: Shape -> Double\n",
    "\n",
    "area (Circle _ r)                      = pi * r ^ 2  \n",
    "area (Rectangle (Pt x1 y1) (Pt x2 y2)) = abs (x2 - x1) * abs (y2 - y1)"
   ]
  },
  {
   "cell_type": "markdown",
   "id": "ed0ea8fe",
   "metadata": {
    "slideshow": {
     "slide_type": "slide"
    }
   },
   "source": [
    "## Type Parameters"
   ]
  },
  {
   "cell_type": "markdown",
   "id": "f7f1e45a",
   "metadata": {},
   "source": [
    "Type constructors can take **types** as **parameters** and produce **new** types with the different combinations."
   ]
  },
  {
   "cell_type": "code",
   "execution_count": null,
   "id": "71f499cb",
   "metadata": {
    "slideshow": {
     "slide_type": "fragment"
    }
   },
   "outputs": [
    {
     "data": {
      "text/plain": [
       "Pair \"Nice\" True"
      ]
     },
     "metadata": {},
     "output_type": "display_data"
    },
    {
     "data": {
      "text/html": [
       "<style>/* Styles used for the Hoogle display in the pager */\n",
       ".hoogle-doc {\n",
       "display: block;\n",
       "padding-bottom: 1.3em;\n",
       "padding-left: 0.4em;\n",
       "}\n",
       ".hoogle-code {\n",
       "display: block;\n",
       "font-family: monospace;\n",
       "white-space: pre;\n",
       "}\n",
       ".hoogle-text {\n",
       "display: block;\n",
       "}\n",
       ".hoogle-name {\n",
       "color: green;\n",
       "font-weight: bold;\n",
       "}\n",
       ".hoogle-head {\n",
       "font-weight: bold;\n",
       "}\n",
       ".hoogle-sub {\n",
       "display: block;\n",
       "margin-left: 0.4em;\n",
       "}\n",
       ".hoogle-package {\n",
       "font-weight: bold;\n",
       "font-style: italic;\n",
       "}\n",
       ".hoogle-module {\n",
       "font-weight: bold;\n",
       "}\n",
       ".hoogle-class {\n",
       "font-weight: bold;\n",
       "}\n",
       "\n",
       ".get-type {\n",
       "color: green;\n",
       "font-weight: bold;\n",
       "font-family: monospace;\n",
       "display: block;\n",
       "white-space: pre-wrap;\n",
       "}\n",
       ".show-type {\n",
       "color: green;\n",
       "font-weight: bold;\n",
       "font-family: monospace;\n",
       "margin-left: 1em;\n",
       "}\n",
       ".mono {\n",
       "font-family: monospace;\n",
       "display: block;\n",
       "}\n",
       ".err-msg {\n",
       "color: red;\n",
       "font-style: italic;\n",
       "font-family: monospace;\n",
       "white-space: pre;\n",
       "display: block;\n",
       "}\n",
       "#unshowable {\n",
       "color: red;\n",
       "font-weight: bold;\n",
       "}\n",
       ".err-msg.in.collapse {\n",
       "padding-top: 0.7em;\n",
       "}\n",
       "\n",
       ".highlight-code {\n",
       "white-space: pre;\n",
       "font-family: monospace;\n",
       "}\n",
       "\n",
       ".suggestion-warning { \n",
       "font-weight: bold;\n",
       "color: rgb(200, 130, 0);\n",
       "}\n",
       ".suggestion-error { \n",
       "font-weight: bold;\n",
       "color: red;\n",
       "}\n",
       ".suggestion-name {\n",
       "font-weight: bold;\n",
       "}\n",
       "\n",
       "</style><span class='get-type'>p1 :: Pair String Bool</span>"
      ],
      "text/plain": [
       "p1 :: Pair String Bool"
      ]
     },
     "metadata": {},
     "output_type": "display_data"
    }
   ],
   "source": [
    "data Pair a b = Pair a b deriving (Eq, Show)\n",
    "\n",
    "p1 = Pair \"Nice\" True\n",
    "p1\n",
    "\n",
    "\n",
    ":t p1"
   ]
  },
  {
   "cell_type": "code",
   "execution_count": 85,
   "id": "45014c9b",
   "metadata": {
    "slideshow": {
     "slide_type": "fragment"
    }
   },
   "outputs": [
    {
     "data": {
      "text/plain": [
       "Pair \"Hello\" \"World\""
      ]
     },
     "metadata": {},
     "output_type": "display_data"
    },
    {
     "data": {
      "text/html": [
       "<style>/* Styles used for the Hoogle display in the pager */\n",
       ".hoogle-doc {\n",
       "display: block;\n",
       "padding-bottom: 1.3em;\n",
       "padding-left: 0.4em;\n",
       "}\n",
       ".hoogle-code {\n",
       "display: block;\n",
       "font-family: monospace;\n",
       "white-space: pre;\n",
       "}\n",
       ".hoogle-text {\n",
       "display: block;\n",
       "}\n",
       ".hoogle-name {\n",
       "color: green;\n",
       "font-weight: bold;\n",
       "}\n",
       ".hoogle-head {\n",
       "font-weight: bold;\n",
       "}\n",
       ".hoogle-sub {\n",
       "display: block;\n",
       "margin-left: 0.4em;\n",
       "}\n",
       ".hoogle-package {\n",
       "font-weight: bold;\n",
       "font-style: italic;\n",
       "}\n",
       ".hoogle-module {\n",
       "font-weight: bold;\n",
       "}\n",
       ".hoogle-class {\n",
       "font-weight: bold;\n",
       "}\n",
       ".get-type {\n",
       "color: green;\n",
       "font-weight: bold;\n",
       "font-family: monospace;\n",
       "display: block;\n",
       "white-space: pre-wrap;\n",
       "}\n",
       ".show-type {\n",
       "color: green;\n",
       "font-weight: bold;\n",
       "font-family: monospace;\n",
       "margin-left: 1em;\n",
       "}\n",
       ".mono {\n",
       "font-family: monospace;\n",
       "display: block;\n",
       "}\n",
       ".err-msg {\n",
       "color: red;\n",
       "font-style: italic;\n",
       "font-family: monospace;\n",
       "white-space: pre;\n",
       "display: block;\n",
       "}\n",
       "#unshowable {\n",
       "color: red;\n",
       "font-weight: bold;\n",
       "}\n",
       ".err-msg.in.collapse {\n",
       "padding-top: 0.7em;\n",
       "}\n",
       ".highlight-code {\n",
       "white-space: pre;\n",
       "font-family: monospace;\n",
       "}\n",
       ".suggestion-warning { \n",
       "font-weight: bold;\n",
       "color: rgb(200, 130, 0);\n",
       "}\n",
       ".suggestion-error { \n",
       "font-weight: bold;\n",
       "color: red;\n",
       "}\n",
       ".suggestion-name {\n",
       "font-weight: bold;\n",
       "}\n",
       "</style><span class='get-type'>p2 :: Pair [Char] [Char]</span>"
      ],
      "text/plain": [
       "p2 :: Pair [Char] [Char]"
      ]
     },
     "metadata": {},
     "output_type": "display_data"
    },
    {
     "ename": "",
     "evalue": "",
     "output_type": "error",
     "traceback": [
      "<interactive>:1:7: error:\n    • Couldn't match type ‘String’ with ‘Bool’\n      Expected type: Pair String Bool\n        Actual type: Pair String String\n    • In the second argument of ‘(==)’, namely ‘p2’\n      In the expression: p1 == p2\n      In an equation for ‘it’: it = p1 == p2"
     ]
    }
   ],
   "source": [
    "p2 = Pair \"Hello\" \"World\"\n",
    "p2\n",
    ":t p2\n",
    "\n",
    "p1 == p2"
   ]
  },
  {
   "cell_type": "markdown",
   "id": "f486db46",
   "metadata": {
    "slideshow": {
     "slide_type": "slide"
    }
   },
   "source": [
    "## Recursive Types"
   ]
  },
  {
   "cell_type": "markdown",
   "id": "c4370992",
   "metadata": {
    "slideshow": {
     "slide_type": "-"
    }
   },
   "source": [
    "When defining a _type_  (**X**) you can create _constructors_ that have fields that are of the same _type_ (**X**)."
   ]
  },
  {
   "cell_type": "markdown",
   "id": "860f9adc",
   "metadata": {
    "slideshow": {
     "slide_type": "fragment"
    }
   },
   "source": [
    "For example:\n",
    "\n",
    "```haskell\n",
    "data IntTree = Nil\n",
    "             | Node Int IntTree IntTree\n",
    "```"
   ]
  },
  {
   "cell_type": "code",
   "execution_count": 88,
   "id": "e6dae4d3",
   "metadata": {
    "slideshow": {
     "slide_type": "fragment"
    }
   },
   "outputs": [
    {
     "data": {
      "text/html": [
       "<style>/* Styles used for the Hoogle display in the pager */\n",
       ".hoogle-doc {\n",
       "display: block;\n",
       "padding-bottom: 1.3em;\n",
       "padding-left: 0.4em;\n",
       "}\n",
       ".hoogle-code {\n",
       "display: block;\n",
       "font-family: monospace;\n",
       "white-space: pre;\n",
       "}\n",
       ".hoogle-text {\n",
       "display: block;\n",
       "}\n",
       ".hoogle-name {\n",
       "color: green;\n",
       "font-weight: bold;\n",
       "}\n",
       ".hoogle-head {\n",
       "font-weight: bold;\n",
       "}\n",
       ".hoogle-sub {\n",
       "display: block;\n",
       "margin-left: 0.4em;\n",
       "}\n",
       ".hoogle-package {\n",
       "font-weight: bold;\n",
       "font-style: italic;\n",
       "}\n",
       ".hoogle-module {\n",
       "font-weight: bold;\n",
       "}\n",
       ".hoogle-class {\n",
       "font-weight: bold;\n",
       "}\n",
       ".get-type {\n",
       "color: green;\n",
       "font-weight: bold;\n",
       "font-family: monospace;\n",
       "display: block;\n",
       "white-space: pre-wrap;\n",
       "}\n",
       ".show-type {\n",
       "color: green;\n",
       "font-weight: bold;\n",
       "font-family: monospace;\n",
       "margin-left: 1em;\n",
       "}\n",
       ".mono {\n",
       "font-family: monospace;\n",
       "display: block;\n",
       "}\n",
       ".err-msg {\n",
       "color: red;\n",
       "font-style: italic;\n",
       "font-family: monospace;\n",
       "white-space: pre;\n",
       "display: block;\n",
       "}\n",
       "#unshowable {\n",
       "color: red;\n",
       "font-weight: bold;\n",
       "}\n",
       ".err-msg.in.collapse {\n",
       "padding-top: 0.7em;\n",
       "}\n",
       ".highlight-code {\n",
       "white-space: pre;\n",
       "font-family: monospace;\n",
       "}\n",
       ".suggestion-warning { \n",
       "font-weight: bold;\n",
       "color: rgb(200, 130, 0);\n",
       "}\n",
       ".suggestion-error { \n",
       "font-weight: bold;\n",
       "color: red;\n",
       "}\n",
       ".suggestion-name {\n",
       "font-weight: bold;\n",
       "}\n",
       "</style><span class='get-type'>t1 :: forall a. Num a => Tree a</span>"
      ],
      "text/plain": [
       "t1 :: forall a. Num a => Tree a"
      ]
     },
     "metadata": {},
     "output_type": "display_data"
    },
    {
     "data": {
      "text/html": [
       "<style>/* Styles used for the Hoogle display in the pager */\n",
       ".hoogle-doc {\n",
       "display: block;\n",
       "padding-bottom: 1.3em;\n",
       "padding-left: 0.4em;\n",
       "}\n",
       ".hoogle-code {\n",
       "display: block;\n",
       "font-family: monospace;\n",
       "white-space: pre;\n",
       "}\n",
       ".hoogle-text {\n",
       "display: block;\n",
       "}\n",
       ".hoogle-name {\n",
       "color: green;\n",
       "font-weight: bold;\n",
       "}\n",
       ".hoogle-head {\n",
       "font-weight: bold;\n",
       "}\n",
       ".hoogle-sub {\n",
       "display: block;\n",
       "margin-left: 0.4em;\n",
       "}\n",
       ".hoogle-package {\n",
       "font-weight: bold;\n",
       "font-style: italic;\n",
       "}\n",
       ".hoogle-module {\n",
       "font-weight: bold;\n",
       "}\n",
       ".hoogle-class {\n",
       "font-weight: bold;\n",
       "}\n",
       ".get-type {\n",
       "color: green;\n",
       "font-weight: bold;\n",
       "font-family: monospace;\n",
       "display: block;\n",
       "white-space: pre-wrap;\n",
       "}\n",
       ".show-type {\n",
       "color: green;\n",
       "font-weight: bold;\n",
       "font-family: monospace;\n",
       "margin-left: 1em;\n",
       "}\n",
       ".mono {\n",
       "font-family: monospace;\n",
       "display: block;\n",
       "}\n",
       ".err-msg {\n",
       "color: red;\n",
       "font-style: italic;\n",
       "font-family: monospace;\n",
       "white-space: pre;\n",
       "display: block;\n",
       "}\n",
       "#unshowable {\n",
       "color: red;\n",
       "font-weight: bold;\n",
       "}\n",
       ".err-msg.in.collapse {\n",
       "padding-top: 0.7em;\n",
       "}\n",
       ".highlight-code {\n",
       "white-space: pre;\n",
       "font-family: monospace;\n",
       "}\n",
       ".suggestion-warning { \n",
       "font-weight: bold;\n",
       "color: rgb(200, 130, 0);\n",
       "}\n",
       ".suggestion-error { \n",
       "font-weight: bold;\n",
       "color: red;\n",
       "}\n",
       ".suggestion-name {\n",
       "font-weight: bold;\n",
       "}\n",
       "</style><span class='get-type'>(Node \"Hello\" Nil Nil) :: Tree [Char]</span>"
      ],
      "text/plain": [
       "(Node \"Hello\" Nil Nil) :: Tree [Char]"
      ]
     },
     "metadata": {},
     "output_type": "display_data"
    }
   ],
   "source": [
    "data Tree a = Nil | Node a (Tree a) (Tree a)  deriving (Eq, Show)\n",
    "\n",
    "t1 = Node 20 (Node 10 Nil Nil) (Node 30 Nil Nil)\n",
    ":t t1\n",
    ":t (Node \"Hello\" Nil Nil)"
   ]
  },
  {
   "cell_type": "code",
   "execution_count": 90,
   "id": "22478178",
   "metadata": {
    "slideshow": {
     "slide_type": "fragment"
    }
   },
   "outputs": [
    {
     "data": {
      "text/plain": [
       "60"
      ]
     },
     "metadata": {},
     "output_type": "display_data"
    }
   ],
   "source": [
    "sum::(Num a) => Tree a -> a\n",
    "\n",
    "sum Nil = 0\n",
    "sum (Node x left right) = x + sum left + sum right\n",
    "\n",
    "sum t1"
   ]
  },
  {
   "cell_type": "markdown",
   "id": "e5f9f785",
   "metadata": {
    "slideshow": {
     "slide_type": "slide"
    }
   },
   "source": [
    "## Error Handling\n",
    "\n",
    "You can classify errors in:\n"
   ]
  },
  {
   "cell_type": "markdown",
   "id": "5b3f845e",
   "metadata": {
    "slideshow": {
     "slide_type": "fragment"
    }
   },
   "source": [
    "* Fatal or Unexpected errors, they can rarely happen.\n",
    "    - **error** function (Usually in _pure_ code)\n",
    "    - **Exception** type (Used in IO code)"
   ]
  },
  {
   "cell_type": "markdown",
   "id": "011ac39f",
   "metadata": {
    "slideshow": {
     "slide_type": "fragment"
    }
   },
   "source": [
    "* Recoverable errors, you want the programmer to acknowledged and managed or propagate it\n",
    "    - `Maybe` : Return a valid value or `Nothing` (Like returning `null` in Java & others) \n",
    "    - `Either`: Return a valid value or some data describing the error."
   ]
  },
  {
   "cell_type": "markdown",
   "id": "e397af3e",
   "metadata": {
    "slideshow": {
     "slide_type": "slide"
    }
   },
   "source": [
    "## error"
   ]
  },
  {
   "cell_type": "markdown",
   "id": "d5b0ee29",
   "metadata": {
    "slideshow": {
     "slide_type": "fragment"
    }
   },
   "source": [
    "```haskell\n",
    "head                    :: [a] -> a\n",
    "head (x:_)              =  x\n",
    "head []                 =  error \"Prelude.head: empty list\"\n",
    "```"
   ]
  },
  {
   "cell_type": "code",
   "execution_count": 91,
   "id": "96e1e96a",
   "metadata": {
    "slideshow": {
     "slide_type": "fragment"
    }
   },
   "outputs": [
    {
     "ename": "",
     "evalue": "",
     "output_type": "error",
     "traceback": [
      "Prelude.head: empty list"
     ]
    }
   ],
   "source": [
    "head []"
   ]
  },
  {
   "cell_type": "code",
   "execution_count": 92,
   "id": "2b4453ad",
   "metadata": {
    "slideshow": {
     "slide_type": "fragment"
    }
   },
   "outputs": [
    {
     "data": {
      "text/plain": [
       "3"
      ]
     },
     "metadata": {},
     "output_type": "display_data"
    },
    {
     "ename": "",
     "evalue": "",
     "output_type": "error",
     "traceback": [
      "Trying to get maximum of an empty list\nCallStack (from HasCallStack):\n  error, called at <interactive>:2:15 in interactive:Ghci3519"
     ]
    }
   ],
   "source": [
    "maximumE :: (Ord a) => [a] -> a\n",
    "maximumE [] = error \"Trying to get maximum of an empty list\"\n",
    "maximumE l  = foldr1 max l\n",
    "\n",
    "maximumE [2, 3, 1]\n",
    "maximumE []"
   ]
  },
  {
   "cell_type": "markdown",
   "id": "ccddb30f",
   "metadata": {
    "slideshow": {
     "slide_type": "slide"
    }
   },
   "source": [
    "## Maybe"
   ]
  },
  {
   "cell_type": "markdown",
   "id": "ed86d158",
   "metadata": {
    "slideshow": {
     "slide_type": "fragment"
    }
   },
   "source": [
    "data Maybe a = Nothing\n",
    "             | Just a"
   ]
  },
  {
   "cell_type": "code",
   "execution_count": null,
   "id": "bf1165c2",
   "metadata": {
    "slideshow": {
     "slide_type": "fragment"
    }
   },
   "outputs": [
    {
     "data": {
      "text/html": [
       "<style>/* Styles used for the Hoogle display in the pager */\n",
       ".hoogle-doc {\n",
       "display: block;\n",
       "padding-bottom: 1.3em;\n",
       "padding-left: 0.4em;\n",
       "}\n",
       ".hoogle-code {\n",
       "display: block;\n",
       "font-family: monospace;\n",
       "white-space: pre;\n",
       "}\n",
       ".hoogle-text {\n",
       "display: block;\n",
       "}\n",
       ".hoogle-name {\n",
       "color: green;\n",
       "font-weight: bold;\n",
       "}\n",
       ".hoogle-head {\n",
       "font-weight: bold;\n",
       "}\n",
       ".hoogle-sub {\n",
       "display: block;\n",
       "margin-left: 0.4em;\n",
       "}\n",
       ".hoogle-package {\n",
       "font-weight: bold;\n",
       "font-style: italic;\n",
       "}\n",
       ".hoogle-module {\n",
       "font-weight: bold;\n",
       "}\n",
       ".hoogle-class {\n",
       "font-weight: bold;\n",
       "}\n",
       "\n",
       ".get-type {\n",
       "color: green;\n",
       "font-weight: bold;\n",
       "font-family: monospace;\n",
       "display: block;\n",
       "white-space: pre-wrap;\n",
       "}\n",
       ".show-type {\n",
       "color: green;\n",
       "font-weight: bold;\n",
       "font-family: monospace;\n",
       "margin-left: 1em;\n",
       "}\n",
       ".mono {\n",
       "font-family: monospace;\n",
       "display: block;\n",
       "}\n",
       ".err-msg {\n",
       "color: red;\n",
       "font-style: italic;\n",
       "font-family: monospace;\n",
       "white-space: pre;\n",
       "display: block;\n",
       "}\n",
       "#unshowable {\n",
       "color: red;\n",
       "font-weight: bold;\n",
       "}\n",
       ".err-msg.in.collapse {\n",
       "padding-top: 0.7em;\n",
       "}\n",
       "\n",
       ".highlight-code {\n",
       "white-space: pre;\n",
       "font-family: monospace;\n",
       "}\n",
       "\n",
       ".suggestion-warning { \n",
       "font-weight: bold;\n",
       "color: rgb(200, 130, 0);\n",
       "}\n",
       ".suggestion-error { \n",
       "font-weight: bold;\n",
       "color: red;\n",
       "}\n",
       ".suggestion-name {\n",
       "font-weight: bold;\n",
       "}\n",
       "\n",
       "</style><div class=\"suggestion-name\" style=\"clear:both;\">Use maximum</div><div class=\"suggestion-row\" style=\"float: left;\"><div class=\"suggestion-warning\">Found:</div><div class=\"highlight-code\" id=\"haskell\">foldr1 max</div></div><div class=\"suggestion-row\" style=\"float: left;\"><div class=\"suggestion-warning\">Why Not:</div><div class=\"highlight-code\" id=\"haskell\">maximum</div></div>"
      ],
      "text/plain": [
       "Line 3: Use maximum\n",
       "Found:\n",
       "foldr1 max\n",
       "Why not:\n",
       "maximum"
      ]
     },
     "metadata": {},
     "output_type": "display_data"
    },
    {
     "data": {
      "text/plain": [
       "Just 3"
      ]
     },
     "metadata": {},
     "output_type": "display_data"
    },
    {
     "data": {
      "text/plain": [
       "Nothing"
      ]
     },
     "metadata": {},
     "output_type": "display_data"
    }
   ],
   "source": [
    "maximumM :: (Ord a) => [a] -> Maybe  a\n",
    "maximumM [] = Nothing\n",
    "maximumM l  = Just (foldr1 max l)\n",
    "\n",
    "maximumM [2, 3, 1]\n",
    "maximumM []"
   ]
  },
  {
   "cell_type": "markdown",
   "id": "8a9a7d8c",
   "metadata": {
    "slideshow": {
     "slide_type": "fragment"
    }
   },
   "source": [
    "Usage, for example add 5 to `maximum` result"
   ]
  },
  {
   "cell_type": "code",
   "execution_count": 97,
   "id": "4ce150b8",
   "metadata": {
    "slideshow": {
     "slide_type": "fragment"
    }
   },
   "outputs": [
    {
     "data": {
      "text/plain": [
       "Just 8"
      ]
     },
     "metadata": {},
     "output_type": "display_data"
    }
   ],
   "source": [
    "add5toM l = case maximumM l of \n",
    "                Just x  -> Just (x + 5)\n",
    "                Nothing -> Nothing\n",
    "                \n",
    "add5toM [2, 3, 1]                "
   ]
  },
  {
   "cell_type": "code",
   "execution_count": null,
   "id": "986586e9",
   "metadata": {
    "slideshow": {
     "slide_type": "fragment"
    }
   },
   "outputs": [
    {
     "data": {
      "text/plain": [
       "Just 8"
      ]
     },
     "metadata": {},
     "output_type": "display_data"
    }
   ],
   "source": [
    "add5toM l = (+5) <$> maximumM l\n",
    "add5toM [2, 3, 1]  "
   ]
  },
  {
   "cell_type": "markdown",
   "id": "bcdc512b",
   "metadata": {
    "slideshow": {
     "slide_type": "slide"
    }
   },
   "source": [
    "## Either"
   ]
  },
  {
   "cell_type": "markdown",
   "id": "34798a20",
   "metadata": {
    "slideshow": {
     "slide_type": "fragment"
    }
   },
   "source": [
    "```haskell\n",
    "data Either a b = Left  a\n",
    "                | Right b\n",
    "```                "
   ]
  },
  {
   "cell_type": "code",
   "execution_count": 102,
   "id": "00d17997",
   "metadata": {
    "slideshow": {
     "slide_type": "fragment"
    }
   },
   "outputs": [
    {
     "data": {
      "text/plain": [
       "Right 3"
      ]
     },
     "metadata": {},
     "output_type": "display_data"
    },
    {
     "data": {
      "text/plain": [
       "Left \"Trying to get maximum of an empty list\""
      ]
     },
     "metadata": {},
     "output_type": "display_data"
    }
   ],
   "source": [
    "maximumE :: (Ord a) => [a] -> Either String a\n",
    "maximumE [] = Left \"Trying to get maximum of an empty list\"\n",
    "maximumE l  = Right $ foldr1 max l\n",
    "\n",
    "maximumE [2, 3, 1]\n",
    "maximumE []"
   ]
  },
  {
   "cell_type": "code",
   "execution_count": 105,
   "id": "abde8e2c",
   "metadata": {
    "slideshow": {
     "slide_type": "fragment"
    }
   },
   "outputs": [
    {
     "data": {
      "text/plain": [
       "Right 8"
      ]
     },
     "metadata": {},
     "output_type": "display_data"
    }
   ],
   "source": [
    "add5toM l = case maximumE l of \n",
    "                Right x -> Right (x + 5)\n",
    "                Left e  -> Left e\n",
    "                \n",
    "add5toM [2, 3, 1]                "
   ]
  },
  {
   "cell_type": "code",
   "execution_count": 108,
   "id": "5fed8e98",
   "metadata": {
    "slideshow": {
     "slide_type": "fragment"
    }
   },
   "outputs": [
    {
     "data": {
      "text/plain": [
       "Right 8"
      ]
     },
     "metadata": {},
     "output_type": "display_data"
    },
    {
     "data": {
      "text/plain": [
       "Left \"Trying to get maximum of an empty list\""
      ]
     },
     "metadata": {},
     "output_type": "display_data"
    }
   ],
   "source": [
    "add5toM l = fmap (+5) $ maximumE l\n",
    "add5toM [2, 3, 1]  \n",
    "add5toM []"
   ]
  },
  {
   "cell_type": "markdown",
   "id": "52b486ae",
   "metadata": {
    "slideshow": {
     "slide_type": "slide"
    }
   },
   "source": [
    "## Type Classes"
   ]
  },
  {
   "cell_type": "markdown",
   "id": "23667364",
   "metadata": {
    "slideshow": {
     "slide_type": "fragment"
    }
   },
   "source": [
    "* Type classes are a type system construct that supports ad hoc polymorphism in an structured way. They define a set of functions that are shared across multiple types."
   ]
  },
  {
   "cell_type": "markdown",
   "id": "44b76028",
   "metadata": {
    "slideshow": {
     "slide_type": "fragment"
    }
   },
   "source": [
    "* They are **not** like **<s>classes</s>** in object oriented languages. "
   ]
  },
  {
   "cell_type": "markdown",
   "id": "4f699183",
   "metadata": {
    "slideshow": {
     "slide_type": "fragment"
    }
   },
   "source": [
    "* They are somewhat similar to **interfaces** in Java but they are not restricted to a predefined class hierarchy (You can make any type an **instance** of a type class **after** is defined)."
   ]
  },
  {
   "cell_type": "markdown",
   "id": "ca0306a3",
   "metadata": {
    "slideshow": {
     "slide_type": "fragment"
    }
   },
   "source": [
    "* In other words it allows **decoupling** between a type definition and the implementation of a given behaviour."
   ]
  },
  {
   "cell_type": "markdown",
   "id": "fb67133b",
   "metadata": {
    "slideshow": {
     "slide_type": "fragment"
    }
   },
   "source": [
    "* They have been implemented (more or less) in:\n",
    "    - Scala 3 (`trait`, `given`)\n",
    "    - C++20 (`concept`)\n",
    "    - Swift (`protocol`, `extension`)\n",
    "    - Rust (`trait`, `impl`)"
   ]
  },
  {
   "cell_type": "markdown",
   "id": "30e53f1a",
   "metadata": {
    "slideshow": {
     "slide_type": "slide"
    }
   },
   "source": [
    "## Type Classes - Show"
   ]
  },
  {
   "cell_type": "code",
   "execution_count": 21,
   "id": "9306780c",
   "metadata": {
    "slideshow": {
     "slide_type": "fragment"
    }
   },
   "outputs": [],
   "source": [
    "data Fraction = Integer :/: Integer"
   ]
  },
  {
   "cell_type": "markdown",
   "id": "96aefabc",
   "metadata": {
    "slideshow": {
     "slide_type": "fragment"
    }
   },
   "source": [
    "```haskell\n",
    "class Show a where\n",
    "    show :: a   -> String\n",
    "```"
   ]
  },
  {
   "cell_type": "code",
   "execution_count": 22,
   "id": "206653fd",
   "metadata": {
    "slideshow": {
     "slide_type": "fragment"
    }
   },
   "outputs": [
    {
     "data": {
      "text/plain": [
       "1/2"
      ]
     },
     "metadata": {},
     "output_type": "display_data"
    }
   ],
   "source": [
    "instance Show Fraction where\n",
    "    show (n :/: d) = show n ++ \"/\" ++ show d\n",
    "    \n",
    "1 :/: 2"
   ]
  },
  {
   "cell_type": "markdown",
   "id": "f017f64f",
   "metadata": {
    "slideshow": {
     "slide_type": "slide"
    }
   },
   "source": [
    "## Type Classes - Eq"
   ]
  },
  {
   "cell_type": "markdown",
   "id": "454a5641",
   "metadata": {
    "slideshow": {
     "slide_type": "fragment"
    }
   },
   "source": [
    "```haskell\n",
    "class Eq a where\n",
    "    (==) :: a -> a -> Bool\n",
    "    (/=) :: a -> a -> Bool\n",
    "    \n",
    "    x /= y               = not (x == y)\n",
    "```           "
   ]
  },
  {
   "cell_type": "code",
   "execution_count": 11,
   "id": "5a491f19",
   "metadata": {
    "slideshow": {
     "slide_type": "fragment"
    }
   },
   "outputs": [
    {
     "data": {
      "text/plain": [
       "True"
      ]
     },
     "metadata": {},
     "output_type": "display_data"
    }
   ],
   "source": [
    "instance Eq Fraction where \n",
    "    (==) (n1 :/: d1) (n2 :/: d2) = n1*d2 == n2 * d1\n",
    "    \n",
    "1 :/: 2 == 2 :/: 4    \n"
   ]
  },
  {
   "cell_type": "markdown",
   "id": "a9e4cad1",
   "metadata": {
    "slideshow": {
     "slide_type": "slide"
    }
   },
   "source": [
    "## Type Classes - Ord\n",
    "\n",
    "```haskell\n",
    "class  (Eq a) => Ord a  where\n",
    "    (<), (<=), (>), (>=) :: a -> a -> Bool\n",
    "    max, min             :: a -> a -> a\n",
    "    compare              :: a -> a -> Ordering\n",
    "```           "
   ]
  },
  {
   "cell_type": "code",
   "execution_count": null,
   "id": "76bee5a1",
   "metadata": {
    "slideshow": {
     "slide_type": "fragment"
    }
   },
   "outputs": [
    {
     "data": {
      "text/plain": [
       "True"
      ]
     },
     "metadata": {},
     "output_type": "display_data"
    },
    {
     "data": {
      "text/plain": [
       "GT"
      ]
     },
     "metadata": {},
     "output_type": "display_data"
    },
    {
     "data": {
      "text/plain": [
       "1/3"
      ]
     },
     "metadata": {},
     "output_type": "display_data"
    }
   ],
   "source": [
    "instance Ord Fraction where \n",
    "  (<=) (n1 :/: d1) (n2 :/: d2) = n1*d2 <= n2 * d1\n",
    " \n",
    " \n",
    "(1:/:2) > (1:/:3)\n",
    "\n",
    "compare (1:/:2) (1:/:3)\n",
    "\n",
    "\n",
    "min (1:/:2) (1:/:3)"
   ]
  },
  {
   "cell_type": "code",
   "execution_count": 15,
   "id": "01dde939",
   "metadata": {
    "slideshow": {
     "slide_type": "fragment"
    }
   },
   "outputs": [
    {
     "data": {
      "text/plain": [
       "[1/6,1/2,2/3,3/4]"
      ]
     },
     "metadata": {},
     "output_type": "display_data"
    }
   ],
   "source": [
    "import Data.List\n",
    "\n",
    "sort [1:/:2, 2:/:3, 1:/:6, 3:/:4]"
   ]
  },
  {
   "cell_type": "markdown",
   "id": "232bdf6c",
   "metadata": {
    "slideshow": {
     "slide_type": "slide"
    }
   },
   "source": [
    "## Type Classes - Num"
   ]
  },
  {
   "cell_type": "code",
   "execution_count": 23,
   "id": "83ca2476",
   "metadata": {
    "slideshow": {
     "slide_type": "fragment"
    }
   },
   "outputs": [
    {
     "data": {
      "text/plain": [
       "5/6"
      ]
     },
     "metadata": {},
     "output_type": "display_data"
    }
   ],
   "source": [
    "add::Fraction -> Fraction -> Fraction\n",
    "add (n1 :/: d1) (n2 :/: d2) = (n1*d2 + n2*d1) :/: (d1*d2)\n",
    "\n",
    "(1:/:2) `add` (1:/: 3)"
   ]
  },
  {
   "cell_type": "markdown",
   "id": "a26916d7",
   "metadata": {
    "slideshow": {
     "slide_type": "fragment"
    }
   },
   "source": [
    "```haskell\n",
    "class  Num a  where\n",
    "    (+), (-), (*)       :: a -> a -> a\n",
    "    negate              :: a -> a         -- negate x == (-x)\n",
    "    abs                 :: a -> a\n",
    "    signum              :: a -> a\n",
    "    fromInteger         :: Integer -> a\n",
    "```           "
   ]
  },
  {
   "cell_type": "code",
   "execution_count": null,
   "id": "32cb39e2",
   "metadata": {
    "slideshow": {
     "slide_type": "fragment"
    }
   },
   "outputs": [
    {
     "data": {
      "text/html": [
       "<style>/* Styles used for the Hoogle display in the pager */\n",
       ".hoogle-doc {\n",
       "display: block;\n",
       "padding-bottom: 1.3em;\n",
       "padding-left: 0.4em;\n",
       "}\n",
       ".hoogle-code {\n",
       "display: block;\n",
       "font-family: monospace;\n",
       "white-space: pre;\n",
       "}\n",
       ".hoogle-text {\n",
       "display: block;\n",
       "}\n",
       ".hoogle-name {\n",
       "color: green;\n",
       "font-weight: bold;\n",
       "}\n",
       ".hoogle-head {\n",
       "font-weight: bold;\n",
       "}\n",
       ".hoogle-sub {\n",
       "display: block;\n",
       "margin-left: 0.4em;\n",
       "}\n",
       ".hoogle-package {\n",
       "font-weight: bold;\n",
       "font-style: italic;\n",
       "}\n",
       ".hoogle-module {\n",
       "font-weight: bold;\n",
       "}\n",
       ".hoogle-class {\n",
       "font-weight: bold;\n",
       "}\n",
       "\n",
       ".get-type {\n",
       "color: green;\n",
       "font-weight: bold;\n",
       "font-family: monospace;\n",
       "display: block;\n",
       "white-space: pre-wrap;\n",
       "}\n",
       ".show-type {\n",
       "color: green;\n",
       "font-weight: bold;\n",
       "font-family: monospace;\n",
       "margin-left: 1em;\n",
       "}\n",
       ".mono {\n",
       "font-family: monospace;\n",
       "display: block;\n",
       "}\n",
       ".err-msg {\n",
       "color: red;\n",
       "font-style: italic;\n",
       "font-family: monospace;\n",
       "white-space: pre;\n",
       "display: block;\n",
       "}\n",
       "#unshowable {\n",
       "color: red;\n",
       "font-weight: bold;\n",
       "}\n",
       ".err-msg.in.collapse {\n",
       "padding-top: 0.7em;\n",
       "}\n",
       "\n",
       ".highlight-code {\n",
       "white-space: pre;\n",
       "font-family: monospace;\n",
       "}\n",
       "\n",
       ".suggestion-warning { \n",
       "font-weight: bold;\n",
       "color: rgb(200, 130, 0);\n",
       "}\n",
       ".suggestion-error { \n",
       "font-weight: bold;\n",
       "color: red;\n",
       "}\n",
       ".suggestion-name {\n",
       "font-weight: bold;\n",
       "}\n",
       "\n",
       "</style><div class=\"suggestion-name\" style=\"clear:both;\">Use foldr</div><div class=\"suggestion-row\" style=\"float: left;\"><div class=\"suggestion-warning\">Found:</div><div class=\"highlight-code\" id=\"haskell\">sum [] = 0\n",
       "sum (x : xs) = x + (sum xs)</div></div><div class=\"suggestion-row\" style=\"float: left;\"><div class=\"suggestion-warning\">Why Not:</div><div class=\"highlight-code\" id=\"haskell\">sum xs = foldr (+) 0 xs</div></div><div class=\"suggestion-name\" style=\"clear:both;\">Redundant bracket</div><div class=\"suggestion-row\" style=\"float: left;\"><div class=\"suggestion-warning\">Found:</div><div class=\"highlight-code\" id=\"haskell\">x + (sum xs)</div></div><div class=\"suggestion-row\" style=\"float: left;\"><div class=\"suggestion-warning\">Why Not:</div><div class=\"highlight-code\" id=\"haskell\">x + sum xs</div></div>"
      ],
      "text/plain": [
       "Line 17: Use foldr\n",
       "Found:\n",
       "sum [] = 0\n",
       "sum (x : xs) = x + (sum xs)\n",
       "Why not:\n",
       "sum xs = foldr (+) 0 xsLine 18: Redundant bracket\n",
       "Found:\n",
       "x + (sum xs)\n",
       "Why not:\n",
       "x + sum xs"
      ]
     },
     "metadata": {},
     "output_type": "display_data"
    },
    {
     "data": {
      "text/plain": [
       "-1/6"
      ]
     },
     "metadata": {},
     "output_type": "display_data"
    },
    {
     "data": {
      "text/plain": [
       "1/6"
      ]
     },
     "metadata": {},
     "output_type": "display_data"
    },
    {
     "data": {
      "text/plain": [
       "1/6"
      ]
     },
     "metadata": {},
     "output_type": "display_data"
    },
    {
     "data": {
      "text/plain": [
       "6/8"
      ]
     },
     "metadata": {},
     "output_type": "display_data"
    },
    {
     "data": {
      "text/plain": [
       "-1"
      ]
     },
     "metadata": {},
     "output_type": "display_data"
    }
   ],
   "source": [
    "instance Num Fraction where\n",
    "    (+) (n1 :/: d1) (n2 :/: d2) = (n1*d2 + n2*d1) :/: (d1*d2)\n",
    "    (-) (n1 :/: d1) (n2 :/: d2) = (n1*d2 - n2*d1) :/: (d1*d2)\n",
    "    (*) (n1 :/: d1) (n2 :/: d2) = (n1*n2) :/: (d1*d2)\n",
    "    \n",
    "    fromInteger n    = n :/: 1\n",
    "    abs (n :/: d)    = abs n :/: abs d\n",
    "    signum (n :/: d) = (signum (n*d)) :/: 1\n",
    "\n",
    "    \n",
    "f = 1:/:2 + 1:/:3 - 1\n",
    "f\n",
    "abs f\n",
    "- f\n",
    "\n",
    "sum :: (Num a) => [a] -> a\n",
    "sum [] = 0\n",
    "sum (x:xs) = x + (sum xs)\n",
    "\n",
    "sum [1 :/: 2, 1 :/: 4]\n",
    "\n",
    "signum (-10)"
   ]
  }
 ],
 "metadata": {
  "celltoolbar": "Slideshow",
  "kernelspec": {
   "display_name": "Haskell",
   "language": "haskell",
   "name": "haskell"
  },
  "language_info": {
   "codemirror_mode": "ihaskell",
   "file_extension": ".hs",
   "mimetype": "text/x-haskell",
   "name": "haskell",
   "pygments_lexer": "Haskell",
   "version": "9.6.4"
  }
 },
 "nbformat": 4,
 "nbformat_minor": 5
}
