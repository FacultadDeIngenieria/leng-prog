{
 "cells": [
  {
   "cell_type": "code",
   "execution_count": 2,
   "id": "94346184",
   "metadata": {
    "slideshow": {
     "slide_type": "skip"
    }
   },
   "outputs": [],
   "source": [
    ":option no-lint\n",
    ":option no-show-types\n",
    "import Data.List\n",
    "import Control.Monad\n",
    "{-# LANGUAGE AllowAmbiguousTypes #-}"
   ]
  },
  {
   "cell_type": "markdown",
   "id": "72449707",
   "metadata": {
    "slideshow": {
     "slide_type": "slide"
    }
   },
   "source": [
    "# Functors & Monads"
   ]
  },
  {
   "cell_type": "markdown",
   "id": "31ff17be",
   "metadata": {
    "slideshow": {
     "slide_type": "slide"
    }
   },
   "source": [
    "## Functors\n",
    "\n",
    "> Functors are **structure-preserving** maps between **categories**.\n",
    "\n",
    "![Functors](images/functor.jpeg)"
   ]
  },
  {
   "cell_type": "markdown",
   "id": "2f766c22",
   "metadata": {
    "slideshow": {
     "slide_type": "fragment"
    }
   },
   "source": [
    "* So what is connected in one category will be connected (**mapped**) in the other category\n",
    "* Also function __composition__ will be preserved\n",
    "* And __identity__ morphisms will be mapped between categories"
   ]
  },
  {
   "cell_type": "markdown",
   "id": "1a25e2d7",
   "metadata": {
    "slideshow": {
     "slide_type": "slide"
    }
   },
   "source": [
    "## In pictures"
   ]
  },
  {
   "cell_type": "markdown",
   "id": "de1e2fcc",
   "metadata": {
    "slideshow": {
     "slide_type": "fragment"
    }
   },
   "source": [
    "Suppose we have a value\n",
    "![Functors](images/fs-value.png)"
   ]
  },
  {
   "cell_type": "markdown",
   "id": "367c47f4",
   "metadata": {
    "slideshow": {
     "slide_type": "fragment"
    }
   },
   "source": [
    "We now how to apply a function, for example (+3), to this value\n",
    "![Functors](images/fs-value_apply.png)"
   ]
  },
  {
   "cell_type": "markdown",
   "id": "4ac0cd31",
   "metadata": {
    "slideshow": {
     "slide_type": "slide"
    }
   },
   "source": [
    "Now Suppose that this values is inside a **box** (a _context_). Like `Just 2` or `[2]` or `Right 2` or `IO a`\n",
    "![Functors](images/fs-value_and_context.png)"
   ]
  },
  {
   "cell_type": "markdown",
   "id": "da3ef538",
   "metadata": {
    "slideshow": {
     "slide_type": "fragment"
    }
   },
   "source": [
    "Now we cannot apply a normal function to it.\n",
    "![Functors](images/fs-no_fmap_ouch.png)"
   ]
  },
  {
   "cell_type": "markdown",
   "id": "8874ddcd",
   "metadata": {
    "slideshow": {
     "slide_type": "slide"
    }
   },
   "source": [
    "## In Code"
   ]
  },
  {
   "cell_type": "code",
   "execution_count": 3,
   "id": "6e837179",
   "metadata": {
    "slideshow": {
     "slide_type": "fragment"
    }
   },
   "outputs": [
    {
     "data": {
      "text/plain": [
       "5"
      ]
     },
     "metadata": {},
     "output_type": "display_data"
    }
   ],
   "source": [
    "(+3) 2"
   ]
  },
  {
   "cell_type": "code",
   "execution_count": 4,
   "id": "bd83aa77",
   "metadata": {
    "slideshow": {
     "slide_type": "fragment"
    }
   },
   "outputs": [
    {
     "ename": "",
     "evalue": "",
     "output_type": "error",
     "traceback": [
      "<interactive>:1:1: error: [GHC-39999]\n    • No instance for ‘Num (Maybe Integer)’ arising from a use of ‘it’\n    • In the first argument of ‘print’, namely ‘it’\n      In a stmt of an interactive GHCi command: print it"
     ]
    }
   ],
   "source": [
    "(+3) $ Just 2"
   ]
  },
  {
   "cell_type": "markdown",
   "id": "7f0369dc",
   "metadata": {
    "slideshow": {
     "slide_type": "slide"
    }
   },
   "source": [
    "## What we need is to apply the function **inside** the `Functor`"
   ]
  },
  {
   "cell_type": "markdown",
   "id": "de315501",
   "metadata": {
    "slideshow": {
     "slide_type": "fragment"
    }
   },
   "source": [
    "### In Pictures again.\n",
    "![Functors](images/fs-fmap_just.png)"
   ]
  },
  {
   "cell_type": "code",
   "execution_count": 5,
   "id": "66e7c50f",
   "metadata": {
    "slideshow": {
     "slide_type": "fragment"
    }
   },
   "outputs": [
    {
     "data": {
      "text/plain": [
       "Just 5"
      ]
     },
     "metadata": {},
     "output_type": "display_data"
    }
   ],
   "source": [
    "fmap (+3) (Just 2)"
   ]
  },
  {
   "cell_type": "markdown",
   "id": "2ed7cd00",
   "metadata": {
    "slideshow": {
     "slide_type": "slide"
    }
   },
   "source": [
    "### How is it defined"
   ]
  },
  {
   "cell_type": "markdown",
   "id": "2787a8b6",
   "metadata": {
    "slideshow": {
     "slide_type": "fragment"
    }
   },
   "source": [
    "```haskell\n",
    "class Functor f where  \n",
    "    fmap :: (a -> b) -> f a -> f b  \n",
    "    (<$>) a b = fmap a b\n",
    "        \n",
    "```    "
   ]
  },
  {
   "cell_type": "markdown",
   "id": "c7ab7699",
   "metadata": {
    "slideshow": {
     "slide_type": "fragment"
    }
   },
   "source": [
    "#### Maybe\n",
    "\n",
    "```haskell\n",
    "instance Functor Maybe where  \n",
    "    fmap f (Just x) = Just (f x)  \n",
    "    fmap f Nothing = Nothing  \n",
    "```   "
   ]
  },
  {
   "cell_type": "code",
   "execution_count": 6,
   "id": "eb331fdb",
   "metadata": {
    "slideshow": {
     "slide_type": "fragment"
    }
   },
   "outputs": [
    {
     "data": {
      "text/plain": [
       "Just 14"
      ]
     },
     "metadata": {},
     "output_type": "display_data"
    },
    {
     "data": {
      "text/plain": [
       "Nothing"
      ]
     },
     "metadata": {},
     "output_type": "display_data"
    }
   ],
   "source": [
    "(+4) <$> Just 10\n",
    "(+4) <$> Nothing"
   ]
  },
  {
   "cell_type": "markdown",
   "id": "34226dca",
   "metadata": {
    "slideshow": {
     "slide_type": "slide"
    }
   },
   "source": [
    "### Either\n",
    "```haskell\n",
    "instance Functor Either where  \n",
    "    fmap f (Right x) = Right (f x)  \n",
    "    fmap f (Left  x) = Left  x\n",
    "```   "
   ]
  },
  {
   "cell_type": "code",
   "execution_count": 7,
   "id": "95364538",
   "metadata": {
    "slideshow": {
     "slide_type": "fragment"
    }
   },
   "outputs": [
    {
     "data": {
      "text/plain": [
       "Just 5"
      ]
     },
     "metadata": {},
     "output_type": "display_data"
    },
    {
     "data": {
      "text/plain": [
       "Just 5"
      ]
     },
     "metadata": {},
     "output_type": "display_data"
    },
    {
     "data": {
      "text/plain": [
       "Right 14"
      ]
     },
     "metadata": {},
     "output_type": "display_data"
    },
    {
     "data": {
      "text/plain": [
       "Left \"Error\""
      ]
     },
     "metadata": {},
     "output_type": "display_data"
    }
   ],
   "source": [
    "-- Using `fmap` (map over a functor)\n",
    "fmap (+3) $ Just 2\n",
    "\n",
    "-- Or use <$> \n",
    "(+3) <$> Just 2\n",
    "\n",
    "(+4) <$> Right 10\n",
    "(+4) <$> Left \"Error\""
   ]
  },
  {
   "cell_type": "markdown",
   "id": "85992b9d",
   "metadata": {
    "slideshow": {
     "slide_type": "slide"
    }
   },
   "source": [
    "## Others"
   ]
  },
  {
   "cell_type": "markdown",
   "id": "a65a8d54",
   "metadata": {
    "slideshow": {
     "slide_type": "fragment"
    }
   },
   "source": [
    "#### Maps"
   ]
  },
  {
   "cell_type": "code",
   "execution_count": 8,
   "id": "0b0155db",
   "metadata": {
    "slideshow": {
     "slide_type": "fragment"
    }
   },
   "outputs": [
    {
     "data": {
      "text/plain": [
       "fromList [(\"Apples\",100),(\"Oranges\",10)]"
      ]
     },
     "metadata": {},
     "output_type": "display_data"
    },
    {
     "data": {
      "text/plain": [
       "fromList [(\"Apples\",300),(\"Oranges\",210)]"
      ]
     },
     "metadata": {},
     "output_type": "display_data"
    }
   ],
   "source": [
    "import Data.Map as Map\n",
    "fruits = Map.fromList[(\"Apples\", 100), (\"Oranges\", 10)]\n",
    "fruits\n",
    "(+200) <$> fruits"
   ]
  },
  {
   "cell_type": "markdown",
   "id": "e1776935",
   "metadata": {
    "slideshow": {
     "slide_type": "fragment"
    }
   },
   "source": [
    "#### Defining our own"
   ]
  },
  {
   "cell_type": "code",
   "execution_count": 9,
   "id": "4aae61cd",
   "metadata": {
    "slideshow": {
     "slide_type": "fragment"
    }
   },
   "outputs": [],
   "source": [
    "data Tree a = Nil | Node a (Tree a) (Tree a)  deriving (Eq, Show)\n",
    "\n",
    "instance Functor Tree where  \n",
    "   fmap f Nil          = Nil\n",
    "   fmap f (Node x l r) = Node (f x) (fmap f l) (fmap f r)"
   ]
  },
  {
   "cell_type": "code",
   "execution_count": 10,
   "id": "2c6ea178",
   "metadata": {
    "slideshow": {
     "slide_type": "fragment"
    }
   },
   "outputs": [
    {
     "data": {
      "text/plain": [
       "Node 4 (Node 3 Nil Nil) (Node 5 Nil Nil)"
      ]
     },
     "metadata": {},
     "output_type": "display_data"
    },
    {
     "data": {
      "text/plain": [
       "Node 6 (Node 5 Nil Nil) (Node 7 Nil Nil)"
      ]
     },
     "metadata": {},
     "output_type": "display_data"
    },
    {
     "data": {
      "text/plain": [
       "Node 2.0 (Node 1.7320508075688772 Nil Nil) (Node 2.23606797749979 Nil Nil)"
      ]
     },
     "metadata": {},
     "output_type": "display_data"
    }
   ],
   "source": [
    "t = Node 4 (Node 3 Nil Nil) (Node 5 Nil Nil)\n",
    "t\n",
    "(+2) <$> t\n",
    "sqrt <$> t"
   ]
  },
  {
   "cell_type": "markdown",
   "id": "f170b26c",
   "metadata": {
    "slideshow": {
     "slide_type": "slide"
    }
   },
   "source": [
    "## Monads"
   ]
  },
  {
   "cell_type": "markdown",
   "id": "d0c2a678",
   "metadata": {
    "slideshow": {
     "slide_type": "fragment"
    }
   },
   "source": [
    "* In Algebra, more specifically in _Category Theory_ **Monads** are an algebraic structure.\n",
    "* A _monad_ is just a _monoid_ in the _category_ of _endofunctors_."
   ]
  },
  {
   "cell_type": "markdown",
   "id": "0299988b",
   "metadata": {
    "slideshow": {
     "slide_type": "fragment"
    }
   },
   "source": [
    "* Just don't care about that.\n",
    "* In **functional programming**, a **monad** is a **design pattern**.\n",
    "* They describe a way to combine **computations** between **'enriched'** values."
   ]
  },
  {
   "cell_type": "markdown",
   "id": "88846e46",
   "metadata": {
    "slideshow": {
     "slide_type": "slide"
    }
   },
   "source": [
    "## **Enriched** values ?"
   ]
  },
  {
   "cell_type": "markdown",
   "id": "0805e2ae",
   "metadata": {
    "slideshow": {
     "slide_type": "fragment"
    }
   },
   "source": [
    "How do you enriched a value ? You put it into a **\"box\"**.\n",
    "\n",
    "Actually the **box** is a **context** that adds additional info to the value."
   ]
  },
  {
   "cell_type": "markdown",
   "id": "e0e2354e",
   "metadata": {
    "slideshow": {
     "slide_type": "fragment"
    }
   },
   "source": [
    "![](images/fs-value_and_context.png)"
   ]
  },
  {
   "cell_type": "markdown",
   "id": "9e0b7675",
   "metadata": {
    "slideshow": {
     "slide_type": "fragment"
    }
   },
   "source": [
    "So, yes a `Monad` is a `Functor`, but know we want to do something more"
   ]
  },
  {
   "cell_type": "markdown",
   "id": "86e368bf",
   "metadata": {
    "slideshow": {
     "slide_type": "slide"
    }
   },
   "source": [
    "What Types of **contexts**:\n",
    "* `Maybe` : To represent a potentially missing value.\n",
    "* `Either`: To represent a successful operation or a failure.\n",
    "* `IO`: To represent side-effects\n",
    "* `State` : To attach state to a chain of computations.\n",
    "* `Future`: An asynchronous computation\n",
    "* `Reader`: To store shared configuration values\n",
    "* `Writer`: To accumulate values, for example to do logging.\n",
    "* List and other collections\n",
    "* Big etc...."
   ]
  },
  {
   "cell_type": "markdown",
   "id": "7cf1e9bc",
   "metadata": {
    "slideshow": {
     "slide_type": "slide"
    }
   },
   "source": [
    "## The problem\n",
    "\n",
    "What if the function we eant to apply **returns** a Monad."
   ]
  },
  {
   "cell_type": "code",
   "execution_count": 11,
   "id": "3a178816",
   "metadata": {
    "slideshow": {
     "slide_type": "fragment"
    }
   },
   "outputs": [
    {
     "data": {
      "text/plain": [
       "Nothing"
      ]
     },
     "metadata": {},
     "output_type": "display_data"
    },
    {
     "data": {
      "text/plain": [
       "Just 3"
      ]
     },
     "metadata": {},
     "output_type": "display_data"
    }
   ],
   "source": [
    "half::Int -> Maybe Int\n",
    "half x                                 -- Divide a number by 2. Succeeds ONLY if it is even\n",
    "    | even x    = Just (x `div` 2)\n",
    "    | otherwise = Nothing\n",
    "    \n",
    "half 3\n",
    "half 6"
   ]
  },
  {
   "cell_type": "markdown",
   "id": "2b17eb7c",
   "metadata": {
    "slideshow": {
     "slide_type": "fragment"
    }
   },
   "source": [
    "![Half](images/half.png)"
   ]
  },
  {
   "cell_type": "markdown",
   "id": "6265b4df",
   "metadata": {
    "slideshow": {
     "slide_type": "slide"
    }
   },
   "source": [
    "## The problem"
   ]
  },
  {
   "cell_type": "code",
   "execution_count": 12,
   "id": "49c7dff9",
   "metadata": {
    "slideshow": {
     "slide_type": "fragment"
    }
   },
   "outputs": [
    {
     "ename": "",
     "evalue": "",
     "output_type": "error",
     "traceback": [
      "<interactive>:1:8: error: [GHC-83865]\n    • Couldn't match expected type ‘Int’ with actual type ‘Maybe Int’\n    • In the second argument of ‘($)’, namely ‘half 24’\n      In the expression: half $ half 24\n      In an equation for ‘it’: it = half $ half 24"
     ]
    }
   ],
   "source": [
    "half $ half 24\n"
   ]
  },
  {
   "cell_type": "markdown",
   "id": "e81e36e8",
   "metadata": {
    "slideshow": {
     "slide_type": "fragment"
    }
   },
   "source": [
    "![HalfOuch](images/half_ouch.png)"
   ]
  },
  {
   "cell_type": "code",
   "execution_count": 13,
   "id": "935b0b02",
   "metadata": {
    "slideshow": {
     "slide_type": "fragment"
    }
   },
   "outputs": [
    {
     "data": {
      "text/plain": [
       "Just (Just 6)"
      ]
     },
     "metadata": {},
     "output_type": "display_data"
    }
   ],
   "source": [
    "half <$> half 24"
   ]
  },
  {
   "cell_type": "code",
   "execution_count": 14,
   "id": "9a114825",
   "metadata": {
    "slideshow": {
     "slide_type": "fragment"
    }
   },
   "outputs": [
    {
     "data": {
      "text/plain": [
       "Just 6"
      ]
     },
     "metadata": {},
     "output_type": "display_data"
    }
   ],
   "source": [
    "half 24 >>= half -- '>>=' is called 'flatMap' in other languages"
   ]
  },
  {
   "cell_type": "markdown",
   "id": "f204ca40",
   "metadata": {
    "slideshow": {
     "slide_type": "slide"
    }
   },
   "source": [
    "## Monad Definition"
   ]
  },
  {
   "cell_type": "markdown",
   "id": "b5825d71",
   "metadata": {
    "slideshow": {
     "slide_type": "fragment"
    }
   },
   "source": [
    "A Monad definition consists of **3** things\n",
    "```haskell\n",
    "class Monad m where                 --<-- The Monad Type definition\n",
    " return :: a -> m a                 --<-- A function that takes a value and\n",
    "                                          wraps it into the Monad\n",
    " \n",
    " (>>=) :: m a -> (a -> m b) -> m b  --<-- A function that chains 2 executions\n",
    "```    "
   ]
  },
  {
   "cell_type": "markdown",
   "id": "dda1fd1f",
   "metadata": {
    "slideshow": {
     "slide_type": "fragment"
    }
   },
   "source": [
    "![Bind](images/bind_def.png)"
   ]
  },
  {
   "cell_type": "code",
   "execution_count": 15,
   "id": "242adb09",
   "metadata": {
    "slideshow": {
     "slide_type": "fragment"
    }
   },
   "outputs": [
    {
     "data": {
      "text/plain": [
       "Just 3"
      ]
     },
     "metadata": {},
     "output_type": "display_data"
    },
    {
     "data": {
      "text/plain": [
       "Nothing"
      ]
     },
     "metadata": {},
     "output_type": "display_data"
    },
    {
     "data": {
      "text/plain": [
       "Just 3"
      ]
     },
     "metadata": {},
     "output_type": "display_data"
    }
   ],
   "source": [
    "half 6 \n",
    "half 6 >>= half\n",
    "half 24 >>= half >>= half"
   ]
  },
  {
   "cell_type": "markdown",
   "id": "f068b2da",
   "metadata": {
    "slideshow": {
     "slide_type": "slide"
    }
   },
   "source": [
    "## Maybe as a Monad"
   ]
  },
  {
   "cell_type": "markdown",
   "id": "e6351308",
   "metadata": {
    "slideshow": {
     "slide_type": "fragment"
    }
   },
   "source": [
    "The definition of `Maybe` as a monad:\n",
    "```haskell\n",
    "instance Monad Maybe where\n",
    "    return x         = Just x\n",
    "    Nothing  >>= fun = Nothing\n",
    "    Just val >>= fun = fun val\n",
    "```    "
   ]
  },
  {
   "cell_type": "markdown",
   "id": "ed3184d5",
   "metadata": {
    "slideshow": {
     "slide_type": "slide"
    }
   },
   "source": [
    "## More examples"
   ]
  },
  {
   "cell_type": "code",
   "execution_count": 48,
   "id": "f79e3904",
   "metadata": {},
   "outputs": [
    {
     "ename": "",
     "evalue": "",
     "output_type": "error",
     "traceback": [
      "Prelude.tail: empty list\nCallStack (from HasCallStack):\n  error, called at libraries/base/GHC/List.hs:1644:3 in base:GHC.List\n  errorEmptyList, called at libraries/base/GHC/List.hs:130:28 in base:GHC.List\n  tail, called at <interactive>:1:1 in interactive:Ghci1615"
     ]
    }
   ],
   "source": [
    "l = [1, 2, 3]\n",
    "\n",
    "tail $ tail $ tail $ tail l  "
   ]
  },
  {
   "cell_type": "code",
   "execution_count": 17,
   "id": "6499ae07",
   "metadata": {
    "cell_style": "center",
    "slideshow": {
     "slide_type": "fragment"
    }
   },
   "outputs": [
    {
     "data": {
      "text/plain": [
       "Left \"Trying to get tail from an empty list\""
      ]
     },
     "metadata": {},
     "output_type": "display_data"
    }
   ],
   "source": [
    "safeTail :: [a] -> Either String [a]\n",
    "safeTail []     = Left \"Trying to get tail from an empty list\"\n",
    "safeTail (_:xs) = Right xs\n",
    "\n",
    "\n",
    "safeTail l  >>= safeTail >>= safeTail >>= safeTail >>= safeTai"
   ]
  },
  {
   "cell_type": "code",
   "execution_count": 18,
   "id": "a4f6b7ad",
   "metadata": {
    "cell_style": "center",
    "slideshow": {
     "slide_type": "fragment"
    }
   },
   "outputs": [
    {
     "data": {
      "text/plain": [
       "Left \"Error: '5' is an odd number.\""
      ]
     },
     "metadata": {},
     "output_type": "display_data"
    }
   ],
   "source": [
    "safeHalf :: Int -> Either String Int\n",
    "safeHalf n                                 -- Divide a number by 2. Succeeds ONLY if it is even\n",
    "    | even n    = Right (n `div` 2)\n",
    "    | otherwise = Left  (\"Error: '\" ++ show n ++ \"' is an odd number.\")\n",
    "    \n",
    "safeHalf 20 >>= safeHalf >>= safeHalf >>= safeHalf  "
   ]
  },
  {
   "cell_type": "markdown",
   "id": "3d1d7cc5",
   "metadata": {
    "slideshow": {
     "slide_type": "slide"
    }
   },
   "source": [
    "## The `do` notation\n",
    "\n",
    "Suppose we want to create a `halfTwice` function"
   ]
  },
  {
   "cell_type": "code",
   "execution_count": 19,
   "id": "707b327f",
   "metadata": {
    "slideshow": {
     "slide_type": "fragment"
    }
   },
   "outputs": [
    {
     "data": {
      "text/plain": [
       "Left \"Error: '3' is an odd number.\""
      ]
     },
     "metadata": {},
     "output_type": "display_data"
    }
   ],
   "source": [
    "halfTwice n = safeHalf n >>= safeHalf\n",
    "halfTwice 6"
   ]
  },
  {
   "cell_type": "code",
   "execution_count": 20,
   "id": "389cff59",
   "metadata": {
    "slideshow": {
     "slide_type": "fragment"
    }
   },
   "outputs": [
    {
     "data": {
      "text/plain": [
       "Left \"Error: '3' is an odd number.\""
      ]
     },
     "metadata": {},
     "output_type": "display_data"
    }
   ],
   "source": [
    "halfTwice n = safeHalf n >>= (\\m -> safeHalf m)\n",
    "halfTwice 6"
   ]
  },
  {
   "cell_type": "code",
   "execution_count": 21,
   "id": "4e3c911f",
   "metadata": {
    "slideshow": {
     "slide_type": "fragment"
    }
   },
   "outputs": [
    {
     "data": {
      "text/plain": [
       "Left \"Error: '3' is an odd number.\""
      ]
     },
     "metadata": {},
     "output_type": "display_data"
    }
   ],
   "source": [
    "halfTwice n = do\n",
    "                m <- safeHalf n\n",
    "                safeHalf m                \n",
    "halfTwice 6                "
   ]
  },
  {
   "cell_type": "code",
   "execution_count": 22,
   "id": "2fa10dd1",
   "metadata": {
    "slideshow": {
     "slide_type": "fragment"
    }
   },
   "outputs": [],
   "source": [
    "f n = do m <- safeHalf n\n",
    "         safeHalf (m+1)   "
   ]
  },
  {
   "cell_type": "markdown",
   "id": "3a00a6fa",
   "metadata": {
    "slideshow": {
     "slide_type": "slide"
    }
   },
   "source": [
    "## The `do` notation\n",
    "\n",
    "`sumHalfs` function"
   ]
  },
  {
   "cell_type": "code",
   "execution_count": 23,
   "id": "d8c7be33",
   "metadata": {
    "slideshow": {
     "slide_type": "fragment"
    }
   },
   "outputs": [
    {
     "data": {
      "text/plain": [
       "Right 15"
      ]
     },
     "metadata": {},
     "output_type": "display_data"
    }
   ],
   "source": [
    "sumHalfs:: Int -> Int -> Either String Int \n",
    "sumHalfs n m = do\n",
    "        x <- safeHalf n  \n",
    "        y <- safeHalf m\n",
    "        return (x + y)\n",
    "sumHalfs 20 10"
   ]
  },
  {
   "cell_type": "code",
   "execution_count": 24,
   "id": "1ec0fef5",
   "metadata": {
    "slideshow": {
     "slide_type": "fragment"
    }
   },
   "outputs": [
    {
     "data": {
      "text/plain": [
       "Right 15"
      ]
     },
     "metadata": {},
     "output_type": "display_data"
    }
   ],
   "source": [
    "sumHalfs n m = safeHalf n  >>= (\\x ->\n",
    "               safeHalf m  >>= (\\y ->\n",
    "               return (x + y))) \n",
    "sumHalfs 20 10               "
   ]
  },
  {
   "cell_type": "markdown",
   "id": "88a12cc8",
   "metadata": {
    "slideshow": {
     "slide_type": "slide"
    }
   },
   "source": [
    "## IO is a Monad"
   ]
  },
  {
   "cell_type": "markdown",
   "id": "161d5a1d",
   "metadata": {
    "slideshow": {
     "slide_type": "fragment"
    }
   },
   "source": [
    "```haskell\n",
    "do \n",
    "    x <- getLine\n",
    "    putStrln (reverse x) \n",
    "```"
   ]
  },
  {
   "cell_type": "markdown",
   "id": "d5fa2159",
   "metadata": {
    "slideshow": {
     "slide_type": "fragment"
    }
   },
   "source": [
    "Gets translated to\n",
    "\n",
    "```haskell\n",
    "getLine >>= (\\x -> putStrLn (reverse x))\n",
    "```"
   ]
  },
  {
   "cell_type": "markdown",
   "id": "6ef09cfe",
   "metadata": {
    "slideshow": {
     "slide_type": "slide"
    }
   },
   "source": [
    "## Ignoring the result of the first expression"
   ]
  },
  {
   "cell_type": "markdown",
   "id": "f8a51b08",
   "metadata": {
    "slideshow": {
     "slide_type": "fragment"
    }
   },
   "source": [
    "There is another operator in the Monad definition, that chains the executions ignoring the value of the first expression (it just returns the second expression).\n",
    "```haskell\n",
    "(>>) :: m a -> m b -> m b\n",
    "m1 >> m2 = m1 >>= (\\_ -> m2) \n",
    "```"
   ]
  },
  {
   "cell_type": "markdown",
   "id": "6fa5ce7d",
   "metadata": {
    "slideshow": {
     "slide_type": "fragment"
    }
   },
   "source": [
    "```haskell\n",
    "do \n",
    "    putStrLn \"Hello\"\n",
    "    putStrLn \"World!\"\n",
    "```"
   ]
  },
  {
   "cell_type": "markdown",
   "id": "3b64062a",
   "metadata": {
    "slideshow": {
     "slide_type": "fragment"
    }
   },
   "source": [
    "Is translated to:\n",
    "\n",
    "```haskell\n",
    "putStrLn \"Hello\" >> putStrLn \"World!\"\n",
    "```"
   ]
  },
  {
   "cell_type": "markdown",
   "id": "e27e78db",
   "metadata": {
    "slideshow": {
     "slide_type": "slide"
    }
   },
   "source": [
    "## What is different about IO ?\n",
    "\n",
    "> There is no way to get a value **out** of the IO monad\n"
   ]
  },
  {
   "cell_type": "markdown",
   "id": "1dcffa7e",
   "metadata": {
    "slideshow": {
     "slide_type": "fragment"
    }
   },
   "source": [
    "For example with `Maybe` you can do, something like:\n",
    "\n",
    "```haskell\n",
    "add:: Maybe Int -> Maybe Int -> Int\n",
    "add (Just x) (Just y) = x + y\n",
    "```"
   ]
  },
  {
   "cell_type": "markdown",
   "id": "6f858bf4",
   "metadata": {
    "slideshow": {
     "slide_type": "fragment"
    }
   },
   "source": [
    "But with IO...."
   ]
  },
  {
   "cell_type": "code",
   "execution_count": 25,
   "id": "111e3bb3",
   "metadata": {
    "slideshow": {
     "slide_type": "fragment"
    }
   },
   "outputs": [
    {
     "ename": "",
     "evalue": "",
     "output_type": "error",
     "traceback": [
      "<interactive>:2:13: error: [GHC-76037] Not in scope: data constructor ‘IO’\n<interactive>:2:6: error: [GHC-76037] Not in scope: data constructor ‘IO’"
     ]
    }
   ],
   "source": [
    "add::IO Int -> IO Int -> Int\n",
    "add (IO x) (IO y) = x + y "
   ]
  },
  {
   "cell_type": "markdown",
   "id": "2cc3ef58",
   "metadata": {
    "slideshow": {
     "slide_type": "slide"
    }
   },
   "source": [
    "## What you can do is:\n"
   ]
  },
  {
   "cell_type": "code",
   "execution_count": 26,
   "id": "58dc03a0",
   "metadata": {
    "slideshow": {
     "slide_type": "fragment"
    }
   },
   "outputs": [],
   "source": [
    "add::IO Int -> IO Int -> IO Int\n",
    "add a b = do \n",
    "    x <- a\n",
    "    y <- b\n",
    "    return (x+y)"
   ]
  },
  {
   "cell_type": "markdown",
   "id": "389d14bf",
   "metadata": {
    "slideshow": {
     "slide_type": "fragment"
    }
   },
   "source": [
    "So... **_What Happens in IO, Stays in IO_**"
   ]
  },
  {
   "cell_type": "markdown",
   "id": "8685daec",
   "metadata": {
    "slideshow": {
     "slide_type": "slide"
    }
   },
   "source": [
    "## Other Monad Operations \n",
    "### sequence \n",
    "`sequence :: (Monad m) => t (m a) -> m (t a)`\n",
    "\n",
    "Evaluate each monadic action in the structure from left to right, and collect the results\n"
   ]
  },
  {
   "cell_type": "code",
   "execution_count": 27,
   "id": "0b18cb7c",
   "metadata": {
    "slideshow": {
     "slide_type": "fragment"
    }
   },
   "outputs": [
    {
     "data": {
      "text/plain": [
       "Just [1,2,4]"
      ]
     },
     "metadata": {},
     "output_type": "display_data"
    },
    {
     "data": {
      "text/plain": [
       "Nothing"
      ]
     },
     "metadata": {},
     "output_type": "display_data"
    },
    {
     "data": {
      "text/plain": [
       "Left \"xxx\""
      ]
     },
     "metadata": {},
     "output_type": "display_data"
    }
   ],
   "source": [
    "sequence [Just 1, Just 2, Just 4]\n",
    "sequence [Just 1, Nothing, Just 2]\n",
    "sequence [Right 1, Left \"xxx\", Right 4]"
   ]
  },
  {
   "cell_type": "code",
   "execution_count": 28,
   "id": "e1a55484",
   "metadata": {
    "slideshow": {
     "slide_type": "fragment"
    }
   },
   "outputs": [
    {
     "data": {
      "text/plain": [
       "Just [1,2,4]"
      ]
     },
     "metadata": {},
     "output_type": "display_data"
    }
   ],
   "source": [
    "--   sequence [Just 1, Just 2, Just 4] it is the same as:\n",
    "do \n",
    "    x <- Just 1\n",
    "    y <- Just 2\n",
    "    z <- Just 4\n",
    "    return [x, y, z] "
   ]
  },
  {
   "cell_type": "markdown",
   "id": "6f4c2a72",
   "metadata": {
    "slideshow": {
     "slide_type": "slide"
    }
   },
   "source": [
    "**`sequence_`** same as `sequence` but results are not collected"
   ]
  },
  {
   "cell_type": "code",
   "execution_count": null,
   "id": "878a9317",
   "metadata": {
    "slideshow": {
     "slide_type": "fragment"
    }
   },
   "outputs": [
    {
     "data": {
      "text/plain": [
       "1\n",
       "Hello\n",
       "3"
      ]
     },
     "metadata": {},
     "output_type": "display_data"
    }
   ],
   "source": [
    "\n",
    "sequence_ [print 1, putStrLn \"Hello\", print 3]\n"
   ]
  },
  {
   "cell_type": "markdown",
   "id": "8712e89f",
   "metadata": {
    "slideshow": {
     "slide_type": "slide"
    }
   },
   "source": [
    "## Other Monad Operations\n",
    "\n",
    "`mapM :: (Monad m) => (a -> m b) -> t a -> m (t b)`\n",
    "\n",
    "Map each element of a structure (for example a list) to a monadic action.\n",
    "\n",
    "And then evaluate these actions from left to right, and collect the results.\n",
    "\n",
    "It is equivalent to `sequence . map`"
   ]
  },
  {
   "cell_type": "markdown",
   "id": "d95a2a59",
   "metadata": {
    "slideshow": {
     "slide_type": "slide"
    }
   },
   "source": [
    "### Example. Printing a list of words:"
   ]
  },
  {
   "cell_type": "code",
   "execution_count": 30,
   "id": "1b0a5b69",
   "metadata": {
    "slideshow": {
     "slide_type": "fragment"
    }
   },
   "outputs": [],
   "source": [
    "printList [] = return ()\n",
    "printList (x:xs) =\n",
    "    do \n",
    "       putStrLn x\n",
    "       printList xs       "
   ]
  },
  {
   "cell_type": "code",
   "execution_count": 31,
   "id": "809c84a5",
   "metadata": {
    "slideshow": {
     "slide_type": "fragment"
    }
   },
   "outputs": [
    {
     "data": {
      "text/plain": [
       "The\n",
       "quick\n",
       "brown\n",
       "fox\n",
       "[(),(),(),()]"
      ]
     },
     "metadata": {},
     "output_type": "display_data"
    }
   ],
   "source": [
    "mapM putStrLn [\"The\",\"quick\",\"brown\",\"fox\"]"
   ]
  },
  {
   "cell_type": "code",
   "execution_count": 32,
   "id": "217bfd4c",
   "metadata": {
    "slideshow": {
     "slide_type": "fragment"
    }
   },
   "outputs": [
    {
     "data": {
      "text/plain": [
       "Hello\n",
       "World"
      ]
     },
     "metadata": {},
     "output_type": "display_data"
    }
   ],
   "source": [
    "mapM_ putStrLn [\"Hello\", \"World\"]"
   ]
  },
  {
   "cell_type": "markdown",
   "id": "434231d9",
   "metadata": {
    "slideshow": {
     "slide_type": "slide"
    }
   },
   "source": [
    "## Other Monad Operations\n",
    "\n",
    "```haskell\n",
    "forM_ :: (Monad m) =>  [a] -> (a -> m b) -> m ()\n",
    "forM_ l f = mapM_ f l\n",
    "```\n",
    "(Just Flip `mapM_` arguments)\n"
   ]
  },
  {
   "cell_type": "code",
   "execution_count": 33,
   "id": "5850b5e6",
   "metadata": {
    "slideshow": {
     "slide_type": "fragment"
    }
   },
   "outputs": [
    {
     "data": {
      "text/plain": [
       "Apples\n",
       "-----\n",
       "Bananas\n",
       "-----\n",
       "Oranges\n",
       "-----"
      ]
     },
     "metadata": {},
     "output_type": "display_data"
    }
   ],
   "source": [
    "fruits = [\"Apples\", \"Bananas\", \"Oranges\"]\n",
    "\n",
    "forM_ fruits $ \\fruit -> do\n",
    "    putStrLn fruit\n",
    "    putStrLn \"-----\""
   ]
  },
  {
   "cell_type": "markdown",
   "id": "b26d74e5",
   "metadata": {
    "slideshow": {
     "slide_type": "fragment"
    }
   },
   "source": [
    "`filterM :: (Monad m) => (a -> m Bool) -> [a] -> m [a]`\n",
    "\n",
    "`foldM :: (Monad m) => (a -> b -> m a) -> a -> [b] -> m a`"
   ]
  },
  {
   "cell_type": "markdown",
   "id": "059e7c0c",
   "metadata": {
    "slideshow": {
     "slide_type": "slide"
    }
   },
   "source": [
    "## The Writer Monad\n"
   ]
  },
  {
   "cell_type": "markdown",
   "id": "42f04509",
   "metadata": {
    "slideshow": {
     "slide_type": "fragment"
    }
   },
   "source": [
    "`Writer` is a `Monad` that enriches a value with additional information that you can write while doing your computations.\n",
    "\n",
    "Like attaching a notebook to the box."
   ]
  },
  {
   "cell_type": "markdown",
   "id": "cd03260d",
   "metadata": {
    "slideshow": {
     "slide_type": "fragment"
    }
   },
   "source": [
    "Its type is something like:\n",
    "\n",
    "`type Writer w v = Writer (v, w)`  \n",
    "\n",
    "Where `w` is the object you write things to and `v` is the your value."
   ]
  },
  {
   "cell_type": "markdown",
   "id": "1261a08b",
   "metadata": {
    "slideshow": {
     "slide_type": "fragment"
    }
   },
   "source": [
    "You can create a writer with function:\n",
    "\n",
    "`writer:: (v, w) -> Writer w v` For example:\n",
    "\n",
    "`writer (10, \"This is the price.\")`"
   ]
  },
  {
   "cell_type": "markdown",
   "id": "bf3bc158",
   "metadata": {
    "slideshow": {
     "slide_type": "slide"
    }
   },
   "source": [
    "## The Writer Monad\n",
    "\n",
    "#### Example"
   ]
  },
  {
   "cell_type": "code",
   "execution_count": 47,
   "id": "164b2421",
   "metadata": {},
   "outputs": [
    {
     "data": {
      "text/plain": [
       "(30,\"Just adding: 10 to 20\")"
      ]
     },
     "metadata": {},
     "output_type": "display_data"
    }
   ],
   "source": [
    "import Control.Monad.Writer\n",
    "\n",
    "addWithLog:: Int -> Int -> Writer String Int\n",
    "addWithLog x y = writer (x+y, \"Just adding: \" ++ show x ++ \" to \" ++ show y)\n",
    "\n",
    "s = addWithLog 10 20\n",
    "runWriter s"
   ]
  },
  {
   "cell_type": "markdown",
   "id": "2c539246",
   "metadata": {
    "slideshow": {
     "slide_type": "fragment"
    }
   },
   "source": [
    "Then to extract the value from the writer you invoke the function:\n",
    "\n",
    "`runWriter :: Writer w a -> (a, w)`"
   ]
  },
  {
   "cell_type": "code",
   "execution_count": 35,
   "id": "f9d4b1a8",
   "metadata": {
    "slideshow": {
     "slide_type": "fragment"
    }
   },
   "outputs": [
    {
     "data": {
      "text/plain": [
       "(30,\"Just adding: 10 to 20\")"
      ]
     },
     "metadata": {},
     "output_type": "display_data"
    },
    {
     "data": {
      "text/plain": [
       "30"
      ]
     },
     "metadata": {},
     "output_type": "display_data"
    },
    {
     "data": {
      "text/plain": [
       "\"Just adding: 10 to 20\""
      ]
     },
     "metadata": {},
     "output_type": "display_data"
    }
   ],
   "source": [
    "runWriter s\n",
    "\n",
    "fst $ runWriter s\n",
    "snd $ runWriter s "
   ]
  },
  {
   "cell_type": "markdown",
   "id": "f31daf78",
   "metadata": {
    "slideshow": {
     "slide_type": "slide"
    }
   },
   "source": [
    "## Using for logging\n",
    "\n",
    "#### Example"
   ]
  },
  {
   "cell_type": "code",
   "execution_count": 36,
   "id": "c9594c34",
   "metadata": {
    "slideshow": {
     "slide_type": "fragment"
    }
   },
   "outputs": [
    {
     "data": {
      "text/plain": [
       "3"
      ]
     },
     "metadata": {},
     "output_type": "display_data"
    }
   ],
   "source": [
    "hcf :: Int -> Int -> Int  \n",
    "hcf a b   \n",
    "    | b == 0    = a  \n",
    "    | otherwise = hcf b (a `mod` b)\n",
    "hcf 24 27    "
   ]
  },
  {
   "cell_type": "markdown",
   "id": "9c90df90",
   "metadata": {
    "slideshow": {
     "slide_type": "fragment"
    }
   },
   "source": [
    "Want to add some logging, so I make it return a `Writer`"
   ]
  },
  {
   "cell_type": "code",
   "execution_count": 37,
   "id": "9770d497",
   "metadata": {
    "slideshow": {
     "slide_type": "fragment"
    }
   },
   "outputs": [
    {
     "data": {
      "text/plain": [
       "(3,[])"
      ]
     },
     "metadata": {},
     "output_type": "display_data"
    }
   ],
   "source": [
    "hcf :: Int -> Int -> Writer [String] Int  \n",
    "hcf a b   \n",
    "    | b == 0    = do\n",
    "                      return a  \n",
    "    | otherwise = hcf b (a `mod` b)      \n",
    "\n",
    "runWriter (hcf 24 27) "
   ]
  },
  {
   "cell_type": "code",
   "execution_count": 38,
   "id": "678cde8e",
   "metadata": {
    "slideshow": {
     "slide_type": "fragment"
    }
   },
   "outputs": [
    {
     "data": {
      "text/plain": [
       "(3,[\"Return: 3\"])"
      ]
     },
     "metadata": {},
     "output_type": "display_data"
    }
   ],
   "source": [
    "hcf :: Int -> Int -> Writer [String] Int  \n",
    "hcf a b   \n",
    "    | b == 0    = do\n",
    "                     writer (a, [\"Return: \" ++ show a])  \n",
    "    | otherwise = hcf b (a `mod` b)      \n",
    "\n",
    "runWriter (hcf 24 27)  "
   ]
  },
  {
   "cell_type": "markdown",
   "id": "23a5186e",
   "metadata": {
    "slideshow": {
     "slide_type": "slide"
    }
   },
   "source": [
    "## Using Tell\n",
    "\n",
    "I can use the function: `tell` that receives the value I want to `write` in the context of a `Writer`\n",
    "\n",
    "The Info will be added to the _notebook_.\n",
    "\n"
   ]
  },
  {
   "cell_type": "code",
   "execution_count": 39,
   "id": "8e7bdeda",
   "metadata": {
    "slideshow": {
     "slide_type": "fragment"
    }
   },
   "outputs": [],
   "source": [
    "hcf :: Int -> Int -> Writer [String] Int  \n",
    "hcf a b   \n",
    "    | b == 0    = do\n",
    "      tell [\"Return: \" ++ show a]\n",
    "      return a  \n",
    "    | otherwise = do\n",
    "      tell [show a ++ \" mod \" ++ show b ++ \" = \" ++ show (a `mod` b)] \n",
    "      hcf b (a `mod` b)       "
   ]
  },
  {
   "cell_type": "code",
   "execution_count": 40,
   "id": "93eaa2b7",
   "metadata": {
    "slideshow": {
     "slide_type": "fragment"
    }
   },
   "outputs": [
    {
     "data": {
      "text/plain": [
       "(3,[\"24 mod 27 = 24\",\"27 mod 24 = 3\",\"24 mod 3 = 0\",\"Return: 3\"])"
      ]
     },
     "metadata": {},
     "output_type": "display_data"
    }
   ],
   "source": [
    "runWriter $ hcf 24 27"
   ]
  },
  {
   "cell_type": "code",
   "execution_count": 41,
   "id": "5fc108e1",
   "metadata": {
    "slideshow": {
     "slide_type": "fragment"
    }
   },
   "outputs": [
    {
     "data": {
      "text/plain": [
       "3"
      ]
     },
     "metadata": {},
     "output_type": "display_data"
    }
   ],
   "source": [
    "fst $ runWriter $ hcf 24 27"
   ]
  },
  {
   "cell_type": "code",
   "execution_count": 42,
   "id": "5ca1d55f",
   "metadata": {
    "slideshow": {
     "slide_type": "fragment"
    }
   },
   "outputs": [
    {
     "data": {
      "text/plain": [
       "24 mod 27 = 24\n",
       "27 mod 24 = 3\n",
       "24 mod 3 = 0\n",
       "Return: 3"
      ]
     },
     "metadata": {},
     "output_type": "display_data"
    }
   ],
   "source": [
    "mapM_ putStrLn $ snd $ runWriter $ hcf 24 27"
   ]
  },
  {
   "cell_type": "markdown",
   "id": "b88f98d1",
   "metadata": {
    "slideshow": {
     "slide_type": "slide"
    }
   },
   "source": [
    "## Add some Info\n"
   ]
  },
  {
   "cell_type": "code",
   "execution_count": 43,
   "id": "f742ce76",
   "metadata": {
    "slideshow": {
     "slide_type": "fragment"
    }
   },
   "outputs": [],
   "source": [
    "hcf :: Int -> Int -> Writer [String] Int \n",
    "hcf a b  = do\n",
    "    tell [\"\"] \n",
    "    tell [\"hcd \" ++ show a ++ \" \" ++ show b] \n",
    "    if b == 0 then  do\n",
    "      tell [\"Return: \" ++ show a]\n",
    "      return a  \n",
    "    else do\n",
    "      tell [show a ++ \" mod \" ++ show b ++ \" = \" ++ show (a `mod` b)] \n",
    "      hcf b (a `mod` b)\n",
    " "
   ]
  },
  {
   "cell_type": "code",
   "execution_count": 44,
   "id": "eb0ab728",
   "metadata": {
    "slideshow": {
     "slide_type": "fragment"
    }
   },
   "outputs": [
    {
     "data": {
      "text/plain": [
       "\n",
       "hcd 24 27\n",
       "24 mod 27 = 24\n",
       "\n",
       "hcd 27 24\n",
       "27 mod 24 = 3\n",
       "\n",
       "hcd 24 3\n",
       "24 mod 3 = 0\n",
       "\n",
       "hcd 3 0\n",
       "Return: 3"
      ]
     },
     "metadata": {},
     "output_type": "display_data"
    }
   ],
   "source": [
    "mapM_ putStrLn $ snd $ runWriter $ hcf 24 27"
   ]
  }
 ],
 "metadata": {
  "celltoolbar": "Slideshow",
  "kernelspec": {
   "display_name": "Haskell",
   "language": "haskell",
   "name": "haskell"
  },
  "language_info": {
   "codemirror_mode": "ihaskell",
   "file_extension": ".hs",
   "mimetype": "text/x-haskell",
   "name": "haskell",
   "pygments_lexer": "Haskell",
   "version": "9.6.4"
  }
 },
 "nbformat": 4,
 "nbformat_minor": 5
}
