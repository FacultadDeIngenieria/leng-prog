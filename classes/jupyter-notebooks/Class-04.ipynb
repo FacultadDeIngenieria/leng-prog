{
 "cells": [
  {
   "cell_type": "markdown",
   "id": "f7fe7e54",
   "metadata": {
    "pycharm": {
     "name": "#%% md\n"
    },
    "slideshow": {
     "slide_type": "slide"
    }
   },
   "source": [
    "# Input Output\n",
    "# Modules"
   ]
  },
  {
   "cell_type": "code",
   "execution_count": 48,
   "id": "94346184",
   "metadata": {
    "slideshow": {
     "slide_type": "skip"
    }
   },
   "outputs": [],
   "source": [
    ":option no-lint\n",
    ":option no-show-types\n",
    "import Data.List"
   ]
  },
  {
   "cell_type": "markdown",
   "id": "8955f1bf",
   "metadata": {
    "slideshow": {
     "slide_type": "slide"
    }
   },
   "source": [
    "## Finally .. Hello World\n"
   ]
  },
  {
   "cell_type": "code",
   "execution_count": 49,
   "id": "da02478a",
   "metadata": {
    "slideshow": {
     "slide_type": "fragment"
    }
   },
   "outputs": [
    {
     "data": {
      "text/plain": [
       "Hello, World!"
      ]
     },
     "metadata": {},
     "output_type": "display_data"
    }
   ],
   "source": [
    "main = putStrLn \"Hello, World!\"\n",
    "main"
   ]
  },
  {
   "cell_type": "markdown",
   "id": "8076030e",
   "metadata": {
    "slideshow": {
     "slide_type": "fragment"
    }
   },
   "source": [
    "Compile and run from the command line:\n",
    "```shell\n",
    "❯ stack ghc hello.hs\n",
    "[1 of 2] Compiling Main             ( hello.hs, hello.o )\n",
    "[2 of 2] Linking hello\n",
    "❯ ./hello\n",
    "Hello, World!\n",
    "```"
   ]
  },
  {
   "cell_type": "markdown",
   "id": "e52537af",
   "metadata": {
    "slideshow": {
     "slide_type": "slide"
    }
   },
   "source": [
    "## Types in IO operations\n",
    "\n",
    "- ALL IO operations has some type `IO a`\n",
    "- Where `IO` is a `data` type: `data IO a`\n",
    "- For Example:\n",
    "    - `getLine::IO String`\n",
    "    - `putStrLn:String -> IO ()`\n",
    "    - main can be any `IO a`\n",
    "- Remember `()` is the tuple with no elements: **Unit**\n"
   ]
  },
  {
   "cell_type": "markdown",
   "id": "b352fdaa",
   "metadata": {
    "slideshow": {
     "slide_type": "slide"
    }
   },
   "source": [
    "## Another example\n",
    "\n",
    "Printing a value of any type that can be converted to a `String`"
   ]
  },
  {
   "cell_type": "code",
   "execution_count": 50,
   "id": "2bc0cf9f",
   "metadata": {
    "slideshow": {
     "slide_type": "fragment"
    }
   },
   "outputs": [
    {
     "data": {
      "text/plain": [
       "[1,2,3]"
      ]
     },
     "metadata": {},
     "output_type": "display_data"
    }
   ],
   "source": [
    "print::(Show a) => a -> IO ()\n",
    "print x = putStrLn (show x)\n",
    "\n",
    "main:: IO ()\n",
    "main = print [1, 2, 3]\n",
    "\n",
    "main"
   ]
  },
  {
   "cell_type": "markdown",
   "id": "b6cbe2f6",
   "metadata": {
    "slideshow": {
     "slide_type": "slide"
    }
   },
   "source": [
    "## How to make several IO actions ?\n"
   ]
  },
  {
   "cell_type": "markdown",
   "id": "b97adb08",
   "metadata": {
    "slideshow": {
     "slide_type": "fragment"
    }
   },
   "source": [
    "The `do` notation.\n",
    "For example:"
   ]
  },
  {
   "cell_type": "code",
   "execution_count": 51,
   "id": "73e80f46",
   "metadata": {
    "slideshow": {
     "slide_type": "fragment"
    }
   },
   "outputs": [
    {
     "data": {
      "text/plain": [
       "Welcome!\n",
       "Bienvenido!\n",
       "Bienvenue!\n",
       "Benvenuto!"
      ]
     },
     "metadata": {},
     "output_type": "display_data"
    }
   ],
   "source": [
    "main = do\n",
    "            putStrLn \"Welcome!\"\n",
    "            putStrLn \"Bienvenido!\"\n",
    "            putStrLn \"Bienvenue!\"\n",
    "            putStrLn \"Benvenuto!\"\n",
    "\n",
    "main"
   ]
  },
  {
   "cell_type": "markdown",
   "id": "4cd54af2",
   "metadata": {
    "slideshow": {
     "slide_type": "slide"
    }
   },
   "source": [
    "## How to use the value `returned` from an `IO` operation ?\n",
    "\n",
    "For example I want to read a line from the input (`getLine`) and then print it"
   ]
  },
  {
   "cell_type": "code",
   "execution_count": 52,
   "id": "4583b59b",
   "metadata": {
    "slideshow": {
     "slide_type": "fragment"
    }
   },
   "outputs": [
    {
     "ename": "",
     "evalue": "",
     "output_type": "error",
     "traceback": [
      "<interactive>:1:30: error: [GHC-83865]\n    • Couldn't match expected type: String\n                  with actual type: IO String\n    • In the second argument of ‘(++)’, namely ‘getLine’\n      In the first argument of ‘putStrLn’, namely ‘(\"Hello \" ++ getLine)’\n      In the expression: putStrLn (\"Hello \" ++ getLine)"
     ]
    }
   ],
   "source": [
    "main = putStrLn (\"Hello \" ++ getLine) "
   ]
  },
  {
   "cell_type": "markdown",
   "id": "abde3af9",
   "metadata": {
    "slideshow": {
     "slide_type": "fragment"
    }
   },
   "source": [
    "Houston, we've had a problem here"
   ]
  },
  {
   "cell_type": "markdown",
   "id": "da141a58",
   "metadata": {
    "slideshow": {
     "slide_type": "slide"
    }
   },
   "source": [
    "## Do syntax extracting values from an `IO` operation "
   ]
  },
  {
   "cell_type": "code",
   "execution_count": 53,
   "id": "da4609bd",
   "metadata": {
    "slideshow": {
     "slide_type": "fragment"
    }
   },
   "outputs": [],
   "source": [
    "main = do\n",
    "         name <- getLine\n",
    "         putStrLn (\"Hello \" ++ name) "
   ]
  },
  {
   "cell_type": "markdown",
   "id": "8e8706b1",
   "metadata": {
    "slideshow": {
     "slide_type": "fragment"
    }
   },
   "source": [
    "Compile and run from the command line:\n",
    "```shell\n",
    "❯ stack ghc hello1\n",
    "[1 of 2] Compiling Main             ( hello1.hs, hello1.o )\n",
    "[2 of 2] Linking hello1\n",
    "❯ ./hello1\n",
    "John\n",
    "Hello John\n",
    "```"
   ]
  },
  {
   "cell_type": "markdown",
   "id": "3da20ff3",
   "metadata": {
    "slideshow": {
     "slide_type": "slide"
    }
   },
   "source": [
    "### Writting a function that returns an `IO a`\n",
    "\n",
    "For example I want to write a function that reads a line and returns it reversed"
   ]
  },
  {
   "cell_type": "markdown",
   "id": "d74a4587",
   "metadata": {
    "slideshow": {
     "slide_type": "fragment"
    }
   },
   "source": [
    "```haskell\n",
    "readReversed = do\n",
    "                 name <- getLine\n",
    "                 reverse name\n",
    "```                 \n",
    "It doesn't work, because `reverse` returns a `String` and haskell is expecting an `IO` of some type (Why??)"
   ]
  },
  {
   "cell_type": "markdown",
   "id": "fc495dfb",
   "metadata": {
    "slideshow": {
     "slide_type": "fragment"
    }
   },
   "source": [
    "You can use the `return` function: `return::x -> IO x`. It takes any value and _wraps_ it into an `IO`\n",
    "```haskell\n",
    "readReversed::IO String\n",
    "readReversed = do\n",
    "                 name <- getLine\n",
    "                 return (reverse name)\n",
    "```                 "
   ]
  },
  {
   "cell_type": "markdown",
   "id": "179d280f",
   "metadata": {
    "slideshow": {
     "slide_type": "slide"
    }
   },
   "source": [
    "## Create a loop using an if"
   ]
  },
  {
   "cell_type": "code",
   "execution_count": 54,
   "id": "06a33f4b",
   "metadata": {
    "slideshow": {
     "slide_type": "fragment"
    }
   },
   "outputs": [
    {
     "data": {
      "text/plain": [
       "\"Hello!\"\n",
       "\"Hello!\"\n",
       "\"Hello!\""
      ]
     },
     "metadata": {},
     "output_type": "display_data"
    }
   ],
   "source": [
    "-- We can do:\n",
    "printN :: (Show a) => Int -> a -> IO ()\n",
    "printN n x = do if n <= 0 then return ()\n",
    "                else do\n",
    "                    print x\n",
    "                    printN (n-1) x\n",
    "printN 3 \"Hello!\""
   ]
  },
  {
   "cell_type": "markdown",
   "id": "e6e8cba8",
   "metadata": {
    "slideshow": {
     "slide_type": "fragment"
    }
   },
   "source": [
    "Actually there is a function `unless` defined like:\n",
    "```haskell\n",
    "unless::Bool -> IO () -> IO ()\n",
    "unless b e = do\n",
    "    if b then return () else e\n",
    "```    "
   ]
  },
  {
   "cell_type": "markdown",
   "id": "2f229174",
   "metadata": {
    "slideshow": {
     "slide_type": "fragment"
    }
   },
   "source": [
    "```haskell\n",
    "printN n x = unless (n <= 0) $ do\n",
    "                print x\n",
    "                printN (n-1) x\n",
    "             \n",
    "\n",
    "```"
   ]
  },
  {
   "cell_type": "markdown",
   "id": "59a4cf1b",
   "metadata": {
    "slideshow": {
     "slide_type": "slide"
    }
   },
   "source": [
    "## Number lines of a file"
   ]
  },
  {
   "cell_type": "code",
   "execution_count": 55,
   "id": "5a41c575",
   "metadata": {
    "slideshow": {
     "slide_type": "fragment"
    }
   },
   "outputs": [],
   "source": [
    "-- Read the input until eof and print the lines numbered\n",
    "import System.IO( isEOF )\n",
    "\n",
    "main = num 0\n",
    "\n",
    "num:: Int -> IO ()\n",
    "num n = do\n",
    "           eof <- isEOF\n",
    "           unless eof $ do\n",
    "                line <- getLine\n",
    "                putStrLn $ show n ++ \": \" ++ line\n",
    "                num (n + 1)             "
   ]
  },
  {
   "cell_type": "markdown",
   "id": "3e978bc2",
   "metadata": {
    "slideshow": {
     "slide_type": "slide"
    }
   },
   "source": [
    "## Read from a disk file"
   ]
  },
  {
   "cell_type": "code",
   "execution_count": 56,
   "id": "ac8d6c5a",
   "metadata": {
    "slideshow": {
     "slide_type": "fragment"
    }
   },
   "outputs": [
    {
     "data": {
      "text/plain": [
       "1: Lorem ipsum dolor sit amet, consectetur adipiscing elit.\n",
       "2: Donec magna odio, placerat nec nulla in, tempus rhoncus lorem.\n",
       "3: Curabitur vitae dignissim erat. Suspendisse egestas magna et tempus rutrum."
      ]
     },
     "metadata": {},
     "output_type": "display_data"
    }
   ],
   "source": [
    "numFile::String -> IO ()\n",
    "numFile fileName = do\n",
    "   content <- readFile fileName\n",
    "   printLines 1 (lines content)\n",
    "\n",
    "printLines::Int -> [String] -> IO ()\n",
    "printLines _ [] = return ()\n",
    "printLines n (x:xs) = do\n",
    "                         putStrLn $ show n ++ \": \"++ x\n",
    "                         printLines (n+1) xs\n",
    "                         \n",
    "numFile \"text/lorem-ipsum.txt\"  \n"
   ]
  },
  {
   "cell_type": "markdown",
   "id": "b2aa9cbf",
   "metadata": {
    "slideshow": {
     "slide_type": "slide"
    }
   },
   "source": [
    "## Using, command line arguments"
   ]
  },
  {
   "cell_type": "code",
   "execution_count": 57,
   "id": "f4c391fd",
   "metadata": {
    "slideshow": {
     "slide_type": "fragment"
    }
   },
   "outputs": [],
   "source": [
    "import System.Environment\n",
    "\n",
    "main = do\n",
    "   args <- getArgs\n",
    "   if length args == 0 then do\n",
    "       putStrLn \"Please specify the filename\"\n",
    "       return ()\n",
    "   else \n",
    "       numFile (head args) \n",
    "       "
   ]
  },
  {
   "cell_type": "markdown",
   "id": "cb509b1e",
   "metadata": {
    "slideshow": {
     "slide_type": "slide"
    }
   },
   "source": [
    "## Modules\n"
   ]
  },
  {
   "cell_type": "markdown",
   "id": "a6ff9e5a",
   "metadata": {
    "slideshow": {
     "slide_type": "fragment"
    }
   },
   "source": [
    "* A `module` defines a collection of definitions: **functions**, **types (data & others)**, **classes** and **values**"
   ]
  },
  {
   "cell_type": "markdown",
   "id": "834e7ee6",
   "metadata": {
    "slideshow": {
     "slide_type": "fragment"
    }
   },
   "source": [
    "* In an environment created by a set of `imports` (resources brought into scope from other modules). "
   ]
  },
  {
   "cell_type": "markdown",
   "id": "f3963c3b",
   "metadata": {
    "slideshow": {
     "slide_type": "fragment"
    }
   },
   "source": [
    "* It `exports` some of these resources, making them available to other modules "
   ]
  },
  {
   "cell_type": "markdown",
   "id": "b0318a4b",
   "metadata": {
    "slideshow": {
     "slide_type": "fragment"
    }
   },
   "source": [
    "* A Haskell **program** is a collection of modules, one of which, by convention, must be called `Main` and must export the value `main`, which must be a computation of type `IO t` for some type `t` "
   ]
  },
  {
   "cell_type": "markdown",
   "id": "fb435fd4",
   "metadata": {
    "slideshow": {
     "slide_type": "fragment"
    }
   },
   "source": [
    "* A `package` is a **library** of Haskell `modules`.\n",
    "    - There is a default [base](https://hackage.haskell.org/package/base) package that contains (btween others) the, imported by default, `Prelude` module, plus many others.\n",
    "    - Many other packages can be obtained from [The haskell package Repository](https://hackage.haskell.org)\n",
    "    - And of course you can build your own"
   ]
  },
  {
   "cell_type": "markdown",
   "id": "5704abb6",
   "metadata": {
    "slideshow": {
     "slide_type": "fragment"
    }
   },
   "source": [
    "   * Tools like [Stack](https://docs.haskellstack.org/en/stable/README/) simplify project building, including installation of needed packages. "
   ]
  },
  {
   "cell_type": "markdown",
   "id": "f27c4be9",
   "metadata": {
    "slideshow": {
     "slide_type": "slide"
    }
   },
   "source": [
    "## Module Example"
   ]
  },
  {
   "cell_type": "markdown",
   "id": "80803b2d",
   "metadata": {
    "slideshow": {
     "slide_type": "fragment"
    }
   },
   "source": [
    "```haskell\n",
    "module WordCount (wordCount, wordsOf) where\n",
    "\n",
    "import Data.Char\n",
    "import qualified Data.Map as M\n",
    "\n",
    "wordCount :: String -> Result\n",
    "wordCount text = foldl addToMap M.empty (wordsOf text)\n",
    "  where addToMap m w = M.insertWith (+) w 1 m\n",
    "\n",
    "normalize:: String -> String\n",
    "normalize (x:xs) = toLower x : normalize xs\n",
    "\n",
    "-- etc\n",
    "```"
   ]
  },
  {
   "cell_type": "markdown",
   "id": "d220aecc",
   "metadata": {
    "slideshow": {
     "slide_type": "fragment"
    }
   },
   "source": [
    "* Here we are implementing a `module` **WordCount**, that defines several functions, but **only** exports the functions **wordCount** and **wordsOf**."
   ]
  },
  {
   "cell_type": "markdown",
   "id": "b60ddb09",
   "metadata": {
    "slideshow": {
     "slide_type": "fragment"
    }
   },
   "source": [
    "* We are importing the `Data.Char` module and the `Data.Map` one."
   ]
  },
  {
   "cell_type": "markdown",
   "id": "dff8ea58",
   "metadata": {
    "slideshow": {
     "slide_type": "fragment"
    }
   },
   "source": [
    "* Data.Map is imported qualified as `M`, so we have to prefix its references with `M.` as in `M.insertWith`"
   ]
  },
  {
   "cell_type": "markdown",
   "id": "cdeec80b",
   "metadata": {
    "slideshow": {
     "slide_type": "slide"
    }
   },
   "source": [
    "## Import Syntax Alternatives"
   ]
  },
  {
   "cell_type": "markdown",
   "id": "7ab7763c",
   "metadata": {
    "slideshow": {
     "slide_type": "fragment"
    }
   },
   "source": [
    "```haskell\n",
    "module A(x,y) where\n",
    "```"
   ]
  },
  {
   "cell_type": "markdown",
   "id": "da162854",
   "metadata": {
    "slideshow": {
     "slide_type": "fragment"
    }
   },
   "source": [
    "| Import declaration              |\tNames brought into scope  |\n",
    "|---------------------------------|---------------------------|\n",
    "| import A\t                      | x, y, A.x, A.y            |\n",
    "| import A(x)\t                  | x, A.x                    |\n",
    "| import qualified A              |\tA.x, A.y                  |\n",
    "| import qualified A as B\t      | B.x, B.y                  |\n",
    "| import A hiding (x)\t          | y, A.y                    |"
   ]
  },
  {
   "cell_type": "markdown",
   "id": "ea671279",
   "metadata": {
    "slideshow": {
     "slide_type": "fragment"
    }
   },
   "source": [
    "| Import declaration              |\tNames brought into scope  |\n",
    "|---------------------------------|---------------------------|\n",
    "| import A()\t                  | (nothing)                 |\n",
    "| import qualified A()\t          | (nothing)                 |\n",
    "| import qualified A(x)\t          | A.x                       |\n",
    "| import A hiding ()\t          | x, y, A.x, A.y            |\n",
    "| import qualified A hiding ()    | A.x, A.y                  |\n",
    "| import qualified A hiding (x)\t  | A.y                       |\n",
    "| import A as B\t                  | x, y, B.x, B.y            |\n",
    "| import A as B(x)\t              | x, B.x                    |"
   ]
  },
  {
   "cell_type": "markdown",
   "id": "210b9fa3",
   "metadata": {
    "slideshow": {
     "slide_type": "slide"
    }
   },
   "source": [
    "## Exporting"
   ]
  },
  {
   "cell_type": "markdown",
   "id": "c2425eb2",
   "metadata": {
    "slideshow": {
     "slide_type": "fragment"
    }
   },
   "source": [
    "```haskell\n",
    "module Tree where\n",
    "\n",
    "data Tree a = Nil | Node a (Tree a) (Tree a) \n",
    "\n",
    "singleton x         = Node x Nil Nil\n",
    "left (Node _ l _)   = l\n",
    "right(Node _ _ r)   = r\n",
    "fromList .....\n",
    "... etc\n",
    "```"
   ]
  },
  {
   "cell_type": "markdown",
   "id": "8aa70157",
   "metadata": {
    "slideshow": {
     "slide_type": "fragment"
    }
   },
   "source": [
    "```haskell\n",
    "module Tree where\n",
    "```\n",
    "Exports everything"
   ]
  },
  {
   "cell_type": "markdown",
   "id": "0ab1a0c0",
   "metadata": {
    "slideshow": {
     "slide_type": "fragment"
    }
   },
   "source": [
    "```haskell\n",
    "module Tree (Tree, singleton, fromList, left, right) where\n",
    "```\n",
    "Export the functions `singleton` ... `right` and the `Tree` type. But **not** the `Nil` and `Node` constructors"
   ]
  },
  {
   "cell_type": "markdown",
   "id": "75c43ae4",
   "metadata": {
    "slideshow": {
     "slide_type": "fragment"
    }
   },
   "source": [
    "```haskell\n",
    "module Tree (Tree(Nil), ...) where\n",
    "```\n",
    "Exports the `Tree` type including the `Nil` constructor."
   ]
  },
  {
   "cell_type": "markdown",
   "id": "84cfe52b",
   "metadata": {
    "slideshow": {
     "slide_type": "fragment"
    }
   },
   "source": [
    "```haskell\n",
    "module Tree (Tree(..), ...) where\n",
    "```\n",
    "Exports the `Tree` type with **all** its constructors."
   ]
  },
  {
   "cell_type": "markdown",
   "id": "782b284d",
   "metadata": {
    "slideshow": {
     "slide_type": "slide"
    }
   },
   "source": [
    "## The Map type\n",
    "\n",
    "> Maps (a.k.a. dictionaries) allow you to store associations between unique keys and values. \n",
    "\n",
    "`data Map k v`\n",
    "\n",
    "`data IntMap v` (Key is an Int)\n",
    "\n",
    "[See Documentation](https://haskell-containers.readthedocs.io/en/latest/map.html)"
   ]
  },
  {
   "cell_type": "markdown",
   "id": "bc7f0f19",
   "metadata": {
    "slideshow": {
     "slide_type": "fragment"
    }
   },
   "source": [
    "Maps are **inmutable** so any update functions do not modify the map that you passed in, they return a new `Map`"
   ]
  },
  {
   "cell_type": "code",
   "execution_count": 58,
   "id": "93b2cd4e",
   "metadata": {
    "slideshow": {
     "slide_type": "fragment"
    }
   },
   "outputs": [
    {
     "data": {
      "text/plain": [
       "fromList [(\"Apples\",100),(\"Oranges\",10)]"
      ]
     },
     "metadata": {},
     "output_type": "display_data"
    },
    {
     "data": {
      "text/plain": [
       "fromList [(\"Apples\",100),(\"Bananas\",1000),(\"Oranges\",10)]"
      ]
     },
     "metadata": {},
     "output_type": "display_data"
    }
   ],
   "source": [
    "import qualified Data.Map as Map\n",
    "\n",
    "fruits     = Map.fromList[(\"Apples\", 100), (\"Oranges\", 10)]\n",
    "moreFruits = Map.insert \"Bananas\" 1000 fruits\n",
    "\n",
    "fruits\n",
    "moreFruits "
   ]
  },
  {
   "cell_type": "markdown",
   "id": "c72917f8",
   "metadata": {
    "slideshow": {
     "slide_type": "slide"
    }
   },
   "source": [
    "## Examples"
   ]
  },
  {
   "cell_type": "markdown",
   "id": "56a1bd25",
   "metadata": {
    "slideshow": {
     "slide_type": "fragment"
    }
   },
   "source": [
    "The number of Apples and Bananas"
   ]
  },
  {
   "cell_type": "code",
   "execution_count": 59,
   "id": "1ed5d20a",
   "metadata": {
    "slideshow": {
     "slide_type": "-"
    }
   },
   "outputs": [
    {
     "data": {
      "text/plain": [
       "Just 100"
      ]
     },
     "metadata": {},
     "output_type": "display_data"
    },
    {
     "data": {
      "text/plain": [
       "Nothing"
      ]
     },
     "metadata": {},
     "output_type": "display_data"
    },
    {
     "data": {
      "text/plain": [
       "0"
      ]
     },
     "metadata": {},
     "output_type": "display_data"
    },
    {
     "data": {
      "text/plain": [
       "1000"
      ]
     },
     "metadata": {},
     "output_type": "display_data"
    }
   ],
   "source": [
    "Map.lookup \"Apples\" fruits\n",
    "Map.lookup \"Bananas\" fruits\n",
    "Map.findWithDefault 0 \"Bananas\" fruits\n",
    "Map.findWithDefault 0 \"Bananas\" moreFruits"
   ]
  },
  {
   "cell_type": "markdown",
   "id": "ab544cdc",
   "metadata": {
    "slideshow": {
     "slide_type": "fragment"
    }
   },
   "source": [
    "Do I have \"Bananas\" in the moreFruits Map ?"
   ]
  },
  {
   "cell_type": "code",
   "execution_count": null,
   "id": "e6a48f47",
   "metadata": {
    "slideshow": {
     "slide_type": "-"
    }
   },
   "outputs": [
    {
     "data": {
      "text/plain": [
       "True"
      ]
     },
     "metadata": {},
     "output_type": "display_data"
    }
   ],
   "source": [
    "Map.member \"Bananas\" moreFruits"
   ]
  },
  {
   "cell_type": "markdown",
   "id": "6a2c5bc3",
   "metadata": {
    "slideshow": {
     "slide_type": "fragment"
    }
   },
   "source": [
    "Update the number of \"Bananas\" and delete the Oranges"
   ]
  },
  {
   "cell_type": "code",
   "execution_count": null,
   "id": "7541bb5a",
   "metadata": {
    "slideshow": {
     "slide_type": "-"
    }
   },
   "outputs": [
    {
     "data": {
      "text/plain": [
       "fromList [(\"Apples\",100),(\"Bananas\",1000),(\"Oranges\",10)]"
      ]
     },
     "metadata": {},
     "output_type": "display_data"
    },
    {
     "data": {
      "text/plain": [
       "fromList [(\"Apples\",100),(\"Bananas\",200)]"
      ]
     },
     "metadata": {},
     "output_type": "display_data"
    }
   ],
   "source": [
    "moreFruits\n",
    "fruitSalad = Map.delete \"Oranges\" $ Map.insert \"Bananas\" 200 moreFruits\n",
    "fruitSalad"
   ]
  },
  {
   "cell_type": "markdown",
   "id": "be983533",
   "metadata": {
    "slideshow": {
     "slide_type": "fragment"
    }
   },
   "source": [
    "Create a richer Fruit Salad"
   ]
  },
  {
   "cell_type": "code",
   "execution_count": null,
   "id": "bdbd2090",
   "metadata": {
    "slideshow": {
     "slide_type": "fragment"
    }
   },
   "outputs": [
    {
     "data": {
      "text/plain": [
       "fromList [(\"Apples\",100),(\"Bananas\",200),(\"Kiwis\",30),(\"Pears\",20)]"
      ]
     },
     "metadata": {},
     "output_type": "display_data"
    }
   ],
   "source": [
    "Map.union fruitSalad $ Map.fromList [(\"Pears\", 20), (\"Kiwis\", 30)]"
   ]
  }
 ],
 "metadata": {
  "celltoolbar": "Slideshow",
  "kernelspec": {
   "display_name": "Haskell",
   "language": "haskell",
   "name": "haskell"
  },
  "language_info": {
   "codemirror_mode": "ihaskell",
   "file_extension": ".hs",
   "mimetype": "text/x-haskell",
   "name": "haskell",
   "pygments_lexer": "Haskell",
   "version": "9.6.4"
  }
 },
 "nbformat": 4,
 "nbformat_minor": 5
}
