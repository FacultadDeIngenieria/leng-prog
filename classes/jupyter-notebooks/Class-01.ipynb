{
 "cells": [
  {
   "cell_type": "markdown",
   "id": "f7fe7e54",
   "metadata": {
    "pycharm": {
     "name": "#%% md\n"
    },
    "slideshow": {
     "slide_type": "slide"
    }
   },
   "source": [
    "<h1 style=\"text-align: center;\">Programming Languages</h1>"
   ]
  },
  {
   "cell_type": "markdown",
   "id": "b0449910",
   "metadata": {
    "pycharm": {
     "name": "#%% md\n"
    },
    "slideshow": {
     "slide_type": "slide"
    }
   },
   "source": [
    "<h2 style=\"text-align: ;\">What is a Language?</h2>\n",
    "\n",
    "### Definition:\n",
    "\n",
    ">  A language is a system of communication\n"
   ]
  },
  {
   "cell_type": "markdown",
   "id": "809069f9",
   "metadata": {
    "pycharm": {
     "name": "#%% md\n"
    },
    "slideshow": {
     "slide_type": "fragment"
    }
   },
   "source": [
    "* A Human language is a system of comunication between Humans\n",
    "* A Programming language is a formal, artificial language language to instruct a computer to perform an algorithm."
   ]
  },
  {
   "cell_type": "markdown",
   "id": "2e42ee1b",
   "metadata": {
    "pycharm": {
     "name": "#%% md\n"
    },
    "slideshow": {
     "slide_type": "slide"
    }
   },
   "source": [
    "<h2 style=\"text-align: ;\">Why to study programming Languages?</h2>"
   ]
  },
  {
   "cell_type": "markdown",
   "id": "efd5e0f0",
   "metadata": {
    "pycharm": {
     "name": "#%% md\n"
    },
    "slideshow": {
     "slide_type": "fragment"
    }
   },
   "source": [
    "* Increased ability to express ideas\n",
    "* Improved background for choosing appropriate language\n",
    "* Increase ability to learn a new Language\n",
    "* Learn from other ways to approach programming"
   ]
  },
  {
   "cell_type": "markdown",
   "id": "27ef338d",
   "metadata": {
    "pycharm": {
     "name": "#%% md\n"
    },
    "slideshow": {
     "slide_type": "slide"
    }
   },
   "source": [
    "<h2 style=\"text-align: ;\">Why there are so many programming Languages?</h2>"
   ]
  },
  {
   "cell_type": "markdown",
   "id": "ad22aa2b",
   "metadata": {
    "pycharm": {
     "name": "#%% md\n"
    },
    "slideshow": {
     "slide_type": "fragment"
    }
   },
   "source": [
    "* Different Domain Areas\n",
    "* Evolution over time\n",
    "* There are differnet ways to look at a problem. This gave rise to **Programming language Paradigms**\n",
    "* And Because we are smarter and just want to prove it.\n"
   ]
  },
  {
   "cell_type": "markdown",
   "id": "32e31bd3",
   "metadata": {
    "pycharm": {
     "name": "#%% md\n"
    },
    "slideshow": {
     "slide_type": "slide"
    }
   },
   "source": [
    "<h2 style=\"text-align: ;\">Some Domain Areas</h2>\n",
    "\n",
    "* Scientific applications\n",
    "* Business applications\n",
    "* Artificial Intelligence\n",
    "* Systems programming \n",
    "* Scripting language\n",
    "* Parallel processing\n",
    "* Information Retrieval"
   ]
  },
  {
   "cell_type": "markdown",
   "id": "35078c67",
   "metadata": {
    "pycharm": {
     "name": "#%% md\n"
    },
    "slideshow": {
     "slide_type": "slide"
    }
   },
   "source": [
    "<h2 style=\"text-align: ;\">Programming Language Paradigms</h2>\n",
    "\n",
    "* Imperative: Uses **statements** (commands for the computer) that change a program's state.\n",
    "    - Structured\n",
    "    - Procedural"
   ]
  },
  {
   "cell_type": "markdown",
   "id": "0d972096",
   "metadata": {
    "pycharm": {
     "name": "#%% md\n"
    },
    "slideshow": {
     "slide_type": "fragment"
    }
   },
   "source": [
    "* Object Oriented: Paradigm based on modeling programming entities (Objects) as abstractions (Classes)\n",
    "* Functional: Paradigm that treats all computation as the evaluation of mathematical functions.\n",
    "* Logic or Rule based: Based in formal logic: a program is a set of sentences in logical form, \n",
    "* Others:\n",
    "    - Event Driven, Aspect Oriented, Reflective, Array Oriented"
   ]
  },
  {
   "cell_type": "markdown",
   "id": "8a03cce8",
   "metadata": {
    "pycharm": {
     "name": "#%% md\n"
    },
    "slideshow": {
     "slide_type": "slide"
    }
   },
   "source": [
    "<h2 style=\"text-align: center;\">Type Systems</h2>\n",
    "\n",
    "### Static Typing (AKA Strong typing)\n",
    "> The types of the variables are known at **compile time**. So the compiler can verify that they are used consistently.  \n",
    "\n"
   ]
  },
  {
   "cell_type": "markdown",
   "id": "0f345eab",
   "metadata": {
    "slideshow": {
     "slide_type": "fragment"
    }
   },
   "source": [
    "  \n",
    "### Dynamic Typing (AKA Weak or Duck typing)\n",
    "> The types of the variables are known **only** at **runtime**. They are not tied to the variables, so they can change depending on the current execution flow."
   ]
  },
  {
   "cell_type": "markdown",
   "id": "29432741",
   "metadata": {
    "slideshow": {
     "slide_type": "slide"
    }
   },
   "source": [
    "<h2 style=\"text-align: center;\">Type Systems - Pros & Cons</h2>\n",
    "\n",
    "### Dynamic Typing\n",
    "* You don't have to write the type of the variable. Code is more consice.\n",
    "* It's simpler to write functions that work over different types (Polymorphism)\n",
    "* OK for small, not critical code"
   ]
  },
  {
   "cell_type": "markdown",
   "id": "87ced19a",
   "metadata": {
    "slideshow": {
     "slide_type": "fragment"
    }
   },
   "source": [
    "### Static Typing\n",
    "* Code is better documented, and easier to understand by others\n",
    "* More errors detected earlier in development.\n",
    "* IDEs can help you to detect functions and methods\n",
    "* Fewer errors at runtime and in shipped code.\n",
    "* Allows for compiler optimisation which yields faster code."
   ]
  },
  {
   "cell_type": "markdown",
   "id": "52868014",
   "metadata": {
    "pycharm": {
     "name": "#%% md\n"
    },
    "slideshow": {
     "slide_type": "slide"
    }
   },
   "source": [
    "<h2 style=\"text-align: ;\">Attributes of a good programming language</h2>\n",
    "\n",
    "* Write-ability\n",
    "* Readability, Maintainability\n",
    "* Reliability\n",
    "* Others:\n",
    "    - Efficiency\n",
    "    - Portability\n",
    "    - Generality. Extensibility\n",
    "    - Availability of tools and libraries"
   ]
  },
  {
   "cell_type": "markdown",
   "id": "f1db987a",
   "metadata": {
    "pycharm": {
     "name": "#%% md\n"
    },
    "slideshow": {
     "slide_type": "slide"
    }
   },
   "source": [
    "<h1 style=\"text-align: center;\">Functional Programming - Haskell</h1>"
   ]
  },
  {
   "cell_type": "markdown",
   "id": "0a95cadc",
   "metadata": {
    "pycharm": {
     "name": "#%% md\n"
    },
    "slideshow": {
     "slide_type": "slide"
    }
   },
   "source": [
    "<h2 style=\"text-align: center;\">Haskell - Brief History</h2>\n",
    "\n",
    "---\n"
   ]
  },
  {
   "cell_type": "markdown",
   "id": "95594f05",
   "metadata": {
    "pycharm": {
     "name": "#%% md\n"
    },
    "slideshow": {
     "slide_type": "fragment"
    }
   },
   "source": [
    "* Alonzo Church. Lambda Calculus - 1930 (also Haskell Curry on Combinatory logic)"
   ]
  },
  {
   "cell_type": "markdown",
   "id": "d1754864",
   "metadata": {
    "pycharm": {
     "name": "#%% md\n"
    },
    "slideshow": {
     "slide_type": "fragment"
    }
   },
   "source": [
    "* LISP - 1960 (Scheme, Clojure)\n",
    "* ML, Miranda - 1980"
   ]
  },
  {
   "cell_type": "markdown",
   "id": "bf34b1f7",
   "metadata": {
    "pycharm": {
     "name": "#%% md\n"
    },
    "slideshow": {
     "slide_type": "fragment"
    }
   },
   "source": [
    "* Simon Peyton Jones, Phil Wadler, etc.\n",
    "    - Haskell Language Report 1990\n",
    "    - Glasgow Haskell Compiler 1992"
   ]
  },
  {
   "cell_type": "markdown",
   "id": "32e61b0b",
   "metadata": {
    "pycharm": {
     "name": "#%% md\n"
    },
    "slideshow": {
     "slide_type": "slide"
    }
   },
   "source": [
    "<h2 style=\"text-align: center;\">Haskell - Main Features</h2>\n",
    "\n",
    "---\n"
   ]
  },
  {
   "cell_type": "markdown",
   "id": "74f8ce3a",
   "metadata": {
    "pycharm": {
     "name": "#%% md\n"
    },
    "slideshow": {
     "slide_type": "fragment"
    }
   },
   "source": [
    "* Statically Typed"
   ]
  },
  {
   "cell_type": "markdown",
   "id": "c77f14b2",
   "metadata": {
    "pycharm": {
     "name": "#%% md\n"
    },
    "slideshow": {
     "slide_type": "fragment"
    }
   },
   "source": [
    "* Type Inference"
   ]
  },
  {
   "cell_type": "markdown",
   "id": "52283ae0",
   "metadata": {
    "pycharm": {
     "name": "#%% md\n"
    },
    "slideshow": {
     "slide_type": "fragment"
    }
   },
   "source": [
    "* Purely functional\n",
    "    - Referential transparency (you can reason about program behavior as a rewrite system). \n",
    "    - Do **not** mutate state.\n",
    "    - Side-effecting IO operations live in their space and they are just a description of what to do based on the functional core"
   ]
  },
  {
   "cell_type": "markdown",
   "id": "a26e071c",
   "metadata": {
    "pycharm": {
     "name": "#%% md\n"
    },
    "slideshow": {
     "slide_type": "fragment"
    }
   },
   "source": [
    "* Lazy Evaluation: Functions and expression are not evaluated until needed."
   ]
  },
  {
   "cell_type": "markdown",
   "id": "b72a4e71",
   "metadata": {
    "pycharm": {
     "name": "#%% md\n"
    },
    "slideshow": {
     "slide_type": "slide"
    }
   },
   "source": [
    "<h3 style=\"text-align: center;\">First Steps</h2>\n",
    "\n",
    "---"
   ]
  },
  {
   "cell_type": "code",
   "execution_count": 2,
   "id": "d2f62a27",
   "metadata": {
    "slideshow": {
     "slide_type": "skip"
    }
   },
   "outputs": [],
   "source": [
    ":option no-lint\n",
    ":option no-show-types"
   ]
  },
  {
   "cell_type": "code",
   "execution_count": null,
   "id": "c430f975",
   "metadata": {
    "pycharm": {
     "name": "#%%\n"
    },
    "slideshow": {
     "slide_type": "fragment"
    }
   },
   "outputs": [],
   "source": [
    "3 + 4\n",
    "5 * 10\n",
    "(50 * 100) - 4999  / 3\n",
    "2^2 + 2**1.2\n",
    "\n",
    "3^3\n",
    "\n",
    "4 ** 0.5"
   ]
  },
  {
   "cell_type": "code",
   "execution_count": 4,
   "id": "c9e178c9",
   "metadata": {
    "pycharm": {
     "name": "#%%\n"
    },
    "slideshow": {
     "slide_type": "fragment"
    }
   },
   "outputs": [
    {
     "data": {
      "text/plain": [
       "False"
      ]
     },
     "metadata": {},
     "output_type": "display_data"
    },
    {
     "data": {
      "text/plain": [
       "True"
      ]
     },
     "metadata": {},
     "output_type": "display_data"
    },
    {
     "data": {
      "text/plain": [
       "True"
      ]
     },
     "metadata": {},
     "output_type": "display_data"
    },
    {
     "data": {
      "text/plain": [
       "False"
      ]
     },
     "metadata": {},
     "output_type": "display_data"
    }
   ],
   "source": [
    "10 == 20\n",
    "5 /= 2\n",
    "15 > 2^2 && 3 > 1/2 || 7 > 2\n",
    "not (\"Hello\" == \"He\" ++ \"llo\")"
   ]
  },
  {
   "cell_type": "code",
   "execution_count": 5,
   "id": "0713ace2",
   "metadata": {},
   "outputs": [
    {
     "data": {
      "text/plain": [
       "0.6666666666666666"
      ]
     },
     "metadata": {},
     "output_type": "display_data"
    },
    {
     "data": {
      "text/plain": [
       "1"
      ]
     },
     "metadata": {},
     "output_type": "display_data"
    }
   ],
   "source": [
    "-- div vs '/' rem. infix, vs prefix\n",
    "\n",
    "(/) 2 3\n",
    "\n",
    "5 `div` 3"
   ]
  },
  {
   "cell_type": "markdown",
   "id": "0a961da2",
   "metadata": {
    "pycharm": {
     "name": "#%% md\n"
    },
    "slideshow": {
     "slide_type": "slide"
    }
   },
   "source": [
    "<h3 style=\"text-align: center;\">First Functions</h2>\n",
    "\n",
    "---"
   ]
  },
  {
   "cell_type": "code",
   "execution_count": 6,
   "id": "621e51cb",
   "metadata": {
    "scrolled": true,
    "slideshow": {
     "slide_type": "fragment"
    }
   },
   "outputs": [],
   "source": [
    "succ n = n+1\n",
    "square n = n*n\n",
    "double n = 2*n \n"
   ]
  },
  {
   "cell_type": "code",
   "execution_count": 7,
   "id": "a7471947",
   "metadata": {
    "slideshow": {
     "slide_type": "fragment"
    }
   },
   "outputs": [
    {
     "data": {
      "text/plain": [
       "3"
      ]
     },
     "metadata": {},
     "output_type": "display_data"
    },
    {
     "data": {
      "text/plain": [
       "25"
      ]
     },
     "metadata": {},
     "output_type": "display_data"
    },
    {
     "data": {
      "text/plain": [
       "24"
      ]
     },
     "metadata": {},
     "output_type": "display_data"
    }
   ],
   "source": [
    "succ 2\n",
    "square 5\n",
    "double 12"
   ]
  },
  {
   "cell_type": "code",
   "execution_count": 8,
   "id": "0fbfb085",
   "metadata": {
    "slideshow": {
     "slide_type": "fragment"
    }
   },
   "outputs": [
    {
     "data": {
      "text/html": [
       "<style>/* Styles used for the Hoogle display in the pager */\n",
       ".hoogle-doc {\n",
       "display: block;\n",
       "padding-bottom: 1.3em;\n",
       "padding-left: 0.4em;\n",
       "}\n",
       ".hoogle-code {\n",
       "display: block;\n",
       "font-family: monospace;\n",
       "white-space: pre;\n",
       "}\n",
       ".hoogle-text {\n",
       "display: block;\n",
       "}\n",
       ".hoogle-name {\n",
       "color: green;\n",
       "font-weight: bold;\n",
       "}\n",
       ".hoogle-head {\n",
       "font-weight: bold;\n",
       "}\n",
       ".hoogle-sub {\n",
       "display: block;\n",
       "margin-left: 0.4em;\n",
       "}\n",
       ".hoogle-package {\n",
       "font-weight: bold;\n",
       "font-style: italic;\n",
       "}\n",
       ".hoogle-module {\n",
       "font-weight: bold;\n",
       "}\n",
       ".hoogle-class {\n",
       "font-weight: bold;\n",
       "}\n",
       "\n",
       ".get-type {\n",
       "color: green;\n",
       "font-weight: bold;\n",
       "font-family: monospace;\n",
       "display: block;\n",
       "white-space: pre-wrap;\n",
       "}\n",
       ".show-type {\n",
       "color: green;\n",
       "font-weight: bold;\n",
       "font-family: monospace;\n",
       "margin-left: 1em;\n",
       "}\n",
       ".mono {\n",
       "font-family: monospace;\n",
       "display: block;\n",
       "}\n",
       ".err-msg {\n",
       "color: red;\n",
       "font-style: italic;\n",
       "font-family: monospace;\n",
       "white-space: pre;\n",
       "display: block;\n",
       "}\n",
       "#unshowable {\n",
       "color: red;\n",
       "font-weight: bold;\n",
       "}\n",
       ".err-msg.in.collapse {\n",
       "padding-top: 0.7em;\n",
       "}\n",
       "\n",
       ".highlight-code {\n",
       "white-space: pre;\n",
       "font-family: monospace;\n",
       "}\n",
       "\n",
       ".suggestion-warning { \n",
       "font-weight: bold;\n",
       "color: rgb(200, 130, 0);\n",
       "}\n",
       ".suggestion-error { \n",
       "font-weight: bold;\n",
       "color: red;\n",
       "}\n",
       ".suggestion-name {\n",
       "font-weight: bold;\n",
       "}\n",
       "\n",
       "</style><span class='get-type'>square :: forall {a}. Num a => a -> a</span>"
      ],
      "text/plain": [
       "square :: forall {a}. Num a => a -> a"
      ]
     },
     "metadata": {},
     "output_type": "display_data"
    }
   ],
   "source": [
    ":t square  "
   ]
  },
  {
   "cell_type": "code",
   "execution_count": 9,
   "id": "8947d417",
   "metadata": {
    "scrolled": true,
    "slideshow": {
     "slide_type": "fragment"
    }
   },
   "outputs": [
    {
     "data": {
      "text/plain": [
       "11"
      ]
     },
     "metadata": {},
     "output_type": "display_data"
    },
    {
     "ename": "",
     "evalue": "",
     "output_type": "error",
     "traceback": [
      "<interactive>:1:6: error: [GHC-39999]\n    • No instance for ‘Fractional Int’ arising from the literal ‘10.23’\n    • In the first argument of ‘succ’, namely ‘10.23’\n      In the expression: succ 10.23\n      In an equation for ‘it’: it = succ 10.23"
     ]
    }
   ],
   "source": [
    "succ:: Int -> Int\n",
    "succ n = n+1\n",
    "\n",
    "succ 10\n",
    "succ 10.23"
   ]
  },
  {
   "cell_type": "markdown",
   "id": "2e5f51f1",
   "metadata": {
    "pycharm": {
     "name": "#%% md\n"
    },
    "slideshow": {
     "slide_type": "slide"
    }
   },
   "source": [
    "<h3 style=\"text-align: center;\">Conditionals</h2>\n",
    "\n",
    "---"
   ]
  },
  {
   "cell_type": "markdown",
   "id": "c4713eaa",
   "metadata": {
    "slideshow": {
     "slide_type": "fragment"
    }
   },
   "source": [
    "#### If"
   ]
  },
  {
   "cell_type": "code",
   "execution_count": 10,
   "id": "846144c5",
   "metadata": {
    "slideshow": {
     "slide_type": "-"
    }
   },
   "outputs": [],
   "source": [
    "max:: Int -> Int -> Int\n",
    "max a b = if a > b then a else b\n",
    "\n",
    "factorial:: Int -> Int\n",
    "factorial n = if n <= 1 then 1 else n * factorial (n-1)  "
   ]
  },
  {
   "cell_type": "markdown",
   "id": "7cc2be5c",
   "metadata": {
    "slideshow": {
     "slide_type": "fragment"
    }
   },
   "source": [
    "#### Guards"
   ]
  },
  {
   "cell_type": "code",
   "execution_count": 11,
   "id": "58aea07d",
   "metadata": {
    "slideshow": {
     "slide_type": "-"
    }
   },
   "outputs": [],
   "source": [
    "max a b\n",
    "    | a > b     = a\n",
    "    | otherwise = b\n",
    " \n",
    "factorial n \n",
    "    | n <= 1    = 1\n",
    "    | otherwise = n * factorial (n-1)"
   ]
  },
  {
   "cell_type": "markdown",
   "id": "3312c334",
   "metadata": {
    "slideshow": {
     "slide_type": "slide"
    }
   },
   "source": [
    "<h3 style=\"text-align: center;\">Where and Let</h2>\n",
    "\n"
   ]
  },
  {
   "cell_type": "code",
   "execution_count": 12,
   "id": "f2658df2",
   "metadata": {
    "slideshow": {
     "slide_type": "fragment"
    }
   },
   "outputs": [
    {
     "data": {
      "text/plain": [
       "4"
      ]
     },
     "metadata": {},
     "output_type": "display_data"
    }
   ],
   "source": [
    "max4:: Int -> Int -> Int -> Int -> Int\n",
    "max4 i j k n = max max12 max34\n",
    "    where max12 = max i j \n",
    "          max34 = max k n\n",
    "max4 1 2 4 3           "
   ]
  },
  {
   "cell_type": "code",
   "execution_count": 13,
   "id": "fa7c2a0d",
   "metadata": {
    "slideshow": {
     "slide_type": "fragment"
    }
   },
   "outputs": [
    {
     "data": {
      "text/plain": [
       "4"
      ]
     },
     "metadata": {},
     "output_type": "display_data"
    }
   ],
   "source": [
    "max4 i j k n =\n",
    "    let \n",
    "        max12 = max i j \n",
    "        max34 = max k n\n",
    "    in  max max12 max34\n",
    "max4 1 2 4 3               "
   ]
  },
  {
   "cell_type": "markdown",
   "id": "fd2429d4",
   "metadata": {
    "pycharm": {
     "name": "#%% md\n"
    },
    "slideshow": {
     "slide_type": "slide"
    }
   },
   "source": [
    "<h3 style=\"text-align: center;\">Pattern Matching</h2>\n",
    "\n",
    "---"
   ]
  },
  {
   "cell_type": "code",
   "execution_count": 14,
   "id": "3e2b3832",
   "metadata": {
    "slideshow": {
     "slide_type": "fragment"
    }
   },
   "outputs": [
    {
     "data": {
      "text/plain": [
       "21"
      ]
     },
     "metadata": {},
     "output_type": "display_data"
    }
   ],
   "source": [
    "fibo:: Int -> Int\n",
    "fibo 1 = 1\n",
    "fibo 2 = 2\n",
    "fibo n = fibo (n-1) + fibo (n-2)  \n",
    "\n",
    "fibo 7"
   ]
  },
  {
   "cell_type": "markdown",
   "id": "6de253dc",
   "metadata": {
    "slideshow": {
     "slide_type": "slide"
    }
   },
   "source": [
    "### Tuples"
   ]
  },
  {
   "cell_type": "code",
   "execution_count": 24,
   "id": "c792b9ba",
   "metadata": {
    "slideshow": {
     "slide_type": "fragment"
    }
   },
   "outputs": [
    {
     "data": {
      "text/plain": [
       "(\"Oranges\",10,0.25)"
      ]
     },
     "metadata": {},
     "output_type": "display_data"
    }
   ],
   "source": [
    "oranges:: (String, Int, Float)\n",
    "oranges = (\"Oranges\", 10, 0.25)\n",
    "oranges"
   ]
  },
  {
   "cell_type": "markdown",
   "id": "2e587e60",
   "metadata": {
    "slideshow": {
     "slide_type": "fragment"
    }
   },
   "source": [
    "**Unit**:\n",
    "A Tuple with `0` elements.\n",
    "It has only one value. \n",
    "It's value is `()` and the type is also `()`"
   ]
  },
  {
   "cell_type": "code",
   "execution_count": 26,
   "id": "b1b3e283",
   "metadata": {
    "slideshow": {
     "slide_type": "fragment"
    }
   },
   "outputs": [
    {
     "data": {
      "text/plain": [
       "()"
      ]
     },
     "metadata": {},
     "output_type": "display_data"
    }
   ],
   "source": [
    "x :: ()\n",
    "x = ()\n",
    "x"
   ]
  },
  {
   "cell_type": "markdown",
   "id": "3b145d37",
   "metadata": {
    "slideshow": {
     "slide_type": "fragment"
    }
   },
   "source": [
    "**Pattern Matching** with tuples"
   ]
  },
  {
   "cell_type": "code",
   "execution_count": 27,
   "id": "83429b52",
   "metadata": {
    "slideshow": {
     "slide_type": "fragment"
    }
   },
   "outputs": [
    {
     "data": {
      "text/plain": [
       "0.25"
      ]
     },
     "metadata": {},
     "output_type": "display_data"
    }
   ],
   "source": [
    "price:: (String, Int, Float) -> Float\n",
    "price (_, _, p) = p\n",
    "\n",
    "price (\"Oranges\", 10, 0.25)"
   ]
  },
  {
   "cell_type": "markdown",
   "id": "fa0dec7e",
   "metadata": {
    "slideshow": {
     "slide_type": "slide"
    }
   },
   "source": [
    "#### Exercise: Quadratic Equation\n",
    "\n",
    "---\n",
    "> \n",
    "> $ax^2+bx+c = 0$\n",
    ">\n",
    "> $x_1,_2=\\frac{-b\\pm\\sqrt{b^2-4ac}}{2a}$"
   ]
  },
  {
   "cell_type": "code",
   "execution_count": 17,
   "id": "44e13ecc",
   "metadata": {
    "slideshow": {
     "slide_type": "fragment"
    }
   },
   "outputs": [],
   "source": [
    "quadratic:: Double -> Double -> Double -> Double\n",
    "quadratic a b c = (-b + sqrt (b^2 - 4 * a * c)) / (2 * a)"
   ]
  },
  {
   "cell_type": "code",
   "execution_count": 18,
   "id": "c9e72651",
   "metadata": {
    "slideshow": {
     "slide_type": "fragment"
    }
   },
   "outputs": [],
   "source": [
    "quadratic:: Double -> Double -> Double -> Double\n",
    "quadratic a b c = (-b + sq) / (2 * a)\n",
    "    where \n",
    "        sq   = sqrt (b^2 - 4 * a * c) "
   ]
  },
  {
   "cell_type": "markdown",
   "id": "3a7e3db4",
   "metadata": {
    "slideshow": {
     "slide_type": "slide"
    }
   },
   "source": [
    "#### Exercise: Validate Negative Radicand\n",
    "\n",
    "---"
   ]
  },
  {
   "cell_type": "code",
   "execution_count": 19,
   "id": "dc521a62",
   "metadata": {
    "slideshow": {
     "slide_type": "fragment"
    }
   },
   "outputs": [],
   "source": [
    "quadratic:: Double -> Double -> Double -> Double\n",
    "quadratic a b c \n",
    "        | r < 0     = error \"Not real roots\"\n",
    "        | otherwise = (-b + sq) / (2 * a)\n",
    "    where \n",
    "        r   = b^2 - 4 * a * c \n",
    "        sq  = sqrt r \n"
   ]
  },
  {
   "cell_type": "markdown",
   "id": "ae67da38",
   "metadata": {
    "slideshow": {
     "slide_type": "slide"
    }
   },
   "source": [
    "#### Exercise: Return both results\n",
    "\n",
    "---"
   ]
  },
  {
   "cell_type": "code",
   "execution_count": null,
   "id": "82ea7827",
   "metadata": {
    "slideshow": {
     "slide_type": "fragment"
    }
   },
   "outputs": [
    {
     "data": {
      "text/plain": [
       "(1.0,-1.0)"
      ]
     },
     "metadata": {},
     "output_type": "display_data"
    }
   ],
   "source": [
    "quadratic:: Double -> Double -> Double -> (Double, Double)\n",
    "quadratic a b c \n",
    "        | r < 0     = error \"Not real roots\"\n",
    "        | otherwise = ((-b + sq) / a2, (-b - sq) / a2)\n",
    "    where \n",
    "        r   = b^2 - 4 * a * c \n",
    "        sq  = sqrt r\n",
    "        a2  = 2 * a\n",
    "\n",
    "quadratic 1 0 (-1)"
   ]
  },
  {
   "cell_type": "markdown",
   "id": "da4ca6f9",
   "metadata": {
    "slideshow": {
     "slide_type": "slide"
    }
   },
   "source": [
    "#### Exercise: Check degenerate cases\n",
    "\n",
    "---"
   ]
  },
  {
   "cell_type": "code",
   "execution_count": null,
   "id": "29a04096",
   "metadata": {
    "slideshow": {
     "slide_type": "fragment"
    }
   },
   "outputs": [
    {
     "data": {
      "text/plain": [
       "(1.0,1.0)"
      ]
     },
     "metadata": {},
     "output_type": "display_data"
    }
   ],
   "source": [
    "quadratic:: Float -> Float -> Float -> (Float, Float)\n",
    "quadratic a b c\n",
    "    | a == 0 && b == 0 = error \"Invalid a == 0, b == 0\"\n",
    "    | r < 0            = error \"Imaginary root\"\n",
    "    | a == 0           = (cb, cb)\n",
    "    | otherwise        = (t1 + t2, t1 - t2)\n",
    "    where\n",
    "        r = b**2 - 4 * a * c\n",
    "        t1 = -b / (2 * a)\n",
    "        t2 = sqrt r / (2*a)\n",
    "        cb = (-c) / b\n",
    "        \n",
    "quadratic 0 1.0 (-1)        "
   ]
  }
 ],
 "metadata": {
  "celltoolbar": "Slideshow",
  "kernelspec": {
   "display_name": "Haskell",
   "language": "haskell",
   "name": "haskell"
  },
  "language_info": {
   "codemirror_mode": "ihaskell",
   "file_extension": ".hs",
   "mimetype": "text/x-haskell",
   "name": "haskell",
   "pygments_lexer": "Haskell",
   "version": "9.6.4"
  }
 },
 "nbformat": 4,
 "nbformat_minor": 5
}
