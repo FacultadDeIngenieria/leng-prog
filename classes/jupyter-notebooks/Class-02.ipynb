{
 "cells": [
  {
   "cell_type": "markdown",
   "id": "f7fe7e54",
   "metadata": {
    "pycharm": {
     "name": "#%% md\n"
    },
    "slideshow": {
     "slide_type": "slide"
    }
   },
   "source": [
    "<h1 style=\"text-align: center;\">Lists</h1>\n",
    "<h1 style=\"text-align: center;\">Higher order functions</h1>"
   ]
  },
  {
   "cell_type": "markdown",
   "id": "b0449910",
   "metadata": {
    "pycharm": {
     "name": "#%% md\n"
    },
    "slideshow": {
     "slide_type": "slide"
    }
   },
   "source": [
    "<h2 style=\"text-align: ;\">Lists</h2>\n",
    "\n",
    ">  A list in Haskell is a collection of items from a given type.\n"
   ]
  },
  {
   "cell_type": "code",
   "execution_count": 1,
   "id": "94346184",
   "metadata": {
    "slideshow": {
     "slide_type": "skip"
    }
   },
   "outputs": [],
   "source": [
    ":option no-lint\n",
    ":option no-show-types"
   ]
  },
  {
   "cell_type": "code",
   "execution_count": null,
   "id": "824620a5",
   "metadata": {
    "pycharm": {
     "name": "#%% md\n"
    },
    "slideshow": {
     "slide_type": "fragment"
    }
   },
   "outputs": [
    {
     "data": {
      "text/plain": [
       "([1,1,2,3,5],[1,2,6,24,120,111])"
      ]
     },
     "metadata": {},
     "output_type": "display_data"
    }
   ],
   "source": [
    "fibo = [1, 1, 2, 3, 5]\n",
    "fact = [1, 2, 6, 24, 120]\n",
    "(fibo, fact)"
   ]
  },
  {
   "cell_type": "markdown",
   "id": "1e3ae670",
   "metadata": {
    "slideshow": {
     "slide_type": "fragment"
    }
   },
   "source": [
    "> Strings are List of Chars"
   ]
  },
  {
   "cell_type": "code",
   "execution_count": 3,
   "id": "bbee73d9",
   "metadata": {
    "slideshow": {
     "slide_type": "fragment"
    }
   },
   "outputs": [
    {
     "data": {
      "text/plain": [
       "True"
      ]
     },
     "metadata": {},
     "output_type": "display_data"
    }
   ],
   "source": [
    "\"abcd\" == ['a', 'b', 'c', 'd'] "
   ]
  },
  {
   "cell_type": "code",
   "execution_count": 4,
   "id": "4d8e2bd0",
   "metadata": {
    "pycharm": {
     "name": "#%% md\n"
    },
    "slideshow": {
     "slide_type": "fragment"
    }
   },
   "outputs": [
    {
     "data": {
      "text/plain": [
       "[1,1,2,3,5,1,2,6,24,120]"
      ]
     },
     "metadata": {},
     "output_type": "display_data"
    },
    {
     "data": {
      "text/plain": [
       "120"
      ]
     },
     "metadata": {},
     "output_type": "display_data"
    }
   ],
   "source": [
    "fibo ++ fact\n",
    "fact !! (3+1)\n"
   ]
  },
  {
   "cell_type": "markdown",
   "id": "769d833e",
   "metadata": {
    "pycharm": {
     "name": "#%% md\n"
    },
    "slideshow": {
     "slide_type": "slide"
    }
   },
   "source": [
    "<h2 style=\"text-align: ;\">Head & Tail</h2>\n",
    "\n",
    "* A list can be either:\n",
    "    * The null list\n",
    "    * Or a pair **head** and **tail**\n",
    "* The **head** is an element\n",
    "* The **tail** is another **list**"
   ]
  },
  {
   "cell_type": "markdown",
   "id": "455c703e",
   "metadata": {
    "slideshow": {
     "slide_type": "fragment"
    }
   },
   "source": [
    "![list](images/listmonster.png)"
   ]
  },
  {
   "cell_type": "markdown",
   "id": "c1ad74dd",
   "metadata": {
    "pycharm": {
     "name": "#%% md\n"
    },
    "slideshow": {
     "slide_type": "slide"
    }
   },
   "source": [
    "<h2 style=\"text-align: ;\">Head & Tail</h2>"
   ]
  },
  {
   "cell_type": "code",
   "execution_count": 5,
   "id": "3160b62b",
   "metadata": {
    "slideshow": {
     "slide_type": "fragment"
    }
   },
   "outputs": [
    {
     "data": {
      "text/plain": [
       "1"
      ]
     },
     "metadata": {},
     "output_type": "display_data"
    },
    {
     "data": {
      "text/plain": [
       "[2,3]"
      ]
     },
     "metadata": {},
     "output_type": "display_data"
    }
   ],
   "source": [
    "l = [1, 2, 3]\n",
    "head l\n",
    "tail l "
   ]
  },
  {
   "cell_type": "code",
   "execution_count": null,
   "id": "eb899ade",
   "metadata": {
    "slideshow": {
     "slide_type": "fragment"
    }
   },
   "outputs": [
    {
     "data": {
      "text/plain": [
       "[]"
      ]
     },
     "metadata": {},
     "output_type": "display_data"
    }
   ],
   "source": [
    "tail (tail (tail l))"
   ]
  },
  {
   "cell_type": "code",
   "execution_count": 7,
   "id": "d05d8afa",
   "metadata": {
    "slideshow": {
     "slide_type": "fragment"
    }
   },
   "outputs": [
    {
     "data": {
      "text/plain": [
       "3"
      ]
     },
     "metadata": {},
     "output_type": "display_data"
    }
   ],
   "source": [
    "head (tail (tail l))"
   ]
  },
  {
   "cell_type": "code",
   "execution_count": 8,
   "id": "1e589030",
   "metadata": {
    "slideshow": {
     "slide_type": "fragment"
    }
   },
   "outputs": [
    {
     "data": {
      "text/plain": [
       "[]"
      ]
     },
     "metadata": {},
     "output_type": "display_data"
    }
   ],
   "source": [
    "tail $ tail $ tail l"
   ]
  },
  {
   "cell_type": "markdown",
   "id": "34980cc2",
   "metadata": {
    "pycharm": {
     "name": "#%% md\n"
    },
    "slideshow": {
     "slide_type": "slide"
    }
   },
   "source": [
    "<h2 style=\"text-align: ;\">Cons (:)</h2>"
   ]
  },
  {
   "cell_type": "markdown",
   "id": "22ebdba1",
   "metadata": {
    "slideshow": {
     "slide_type": "fragment"
    }
   },
   "source": [
    "![list](images/cons.png)"
   ]
  },
  {
   "cell_type": "code",
   "execution_count": null,
   "id": "483a5928",
   "metadata": {
    "slideshow": {
     "slide_type": "fragment"
    }
   },
   "outputs": [
    {
     "data": {
      "text/plain": [
       "True"
      ]
     },
     "metadata": {},
     "output_type": "display_data"
    },
    {
     "data": {
      "text/plain": [
       "([1,2,7,4,5],[1,2,3,4,5])"
      ]
     },
     "metadata": {},
     "output_type": "display_data"
    }
   ],
   "source": [
    "l1 = 1 : 2 : 3 : 4 : 5 : []\n",
    "l1 == [1, 2, 3, 4, 5]\n",
    "\n",
    "l2 = 1 : 2 : 7 : (tail $ tail $ tail l1)\n",
    "(l2, l1)"
   ]
  },
  {
   "cell_type": "markdown",
   "id": "588d8710",
   "metadata": {
    "pycharm": {
     "name": "#%% md\n"
    },
    "slideshow": {
     "slide_type": "slide"
    }
   },
   "source": [
    "<h2 style=\"text-align: ;\">Ranges</h2>\n",
    "\n",
    "* You can create a list using the syntax `[first..last]` or `[first, second .. last]`"
   ]
  },
  {
   "cell_type": "code",
   "execution_count": 10,
   "id": "a73eacc9",
   "metadata": {
    "slideshow": {
     "slide_type": "fragment"
    }
   },
   "outputs": [
    {
     "data": {
      "text/plain": [
       "[1,2,3,4,5,6,7,8,9,10]"
      ]
     },
     "metadata": {},
     "output_type": "display_data"
    },
    {
     "data": {
      "text/plain": [
       "[1,3,5,7,9,11]"
      ]
     },
     "metadata": {},
     "output_type": "display_data"
    },
    {
     "data": {
      "text/plain": [
       "[20,17,14,11,8,5,2]"
      ]
     },
     "metadata": {},
     "output_type": "display_data"
    }
   ],
   "source": [
    "[1..10]\n",
    "[1,3..12]\n",
    "[20,17..0]"
   ]
  },
  {
   "cell_type": "markdown",
   "id": "18fae91b",
   "metadata": {
    "slideshow": {
     "slide_type": "fragment"
    }
   },
   "source": [
    "* Infinity lists. You can create infinite using `[first..]` or `[first, second .. ]`"
   ]
  },
  {
   "cell_type": "code",
   "execution_count": 11,
   "id": "1111170e",
   "metadata": {
    "slideshow": {
     "slide_type": "fragment"
    }
   },
   "outputs": [
    {
     "data": {
      "text/plain": [
       "3"
      ]
     },
     "metadata": {},
     "output_type": "display_data"
    },
    {
     "data": {
      "text/plain": [
       "15"
      ]
     },
     "metadata": {},
     "output_type": "display_data"
    }
   ],
   "source": [
    "oddNumbers = [1,3..]\n",
    "\n",
    "head $ tail $ oddNumbers\n",
    "oddNumbers !! 7"
   ]
  },
  {
   "cell_type": "markdown",
   "id": "0173896d",
   "metadata": {
    "pycharm": {
     "name": "#%% md\n"
    },
    "slideshow": {
     "slide_type": "slide"
    }
   },
   "source": [
    "<h2 style=\"text-align: ;\">Other Methods </h2>\n",
    "\n",
    "* take, drop, splitAt"
   ]
  },
  {
   "cell_type": "code",
   "execution_count": 12,
   "id": "af2321d3",
   "metadata": {
    "pycharm": {
     "name": "#%% md\n"
    },
    "slideshow": {
     "slide_type": "fragment"
    }
   },
   "outputs": [
    {
     "data": {
      "text/plain": [
       "[1,3,5,7,9]"
      ]
     },
     "metadata": {},
     "output_type": "display_data"
    },
    {
     "data": {
      "text/plain": [
       "[11,13,15,17,19,21,23,25,27,29]"
      ]
     },
     "metadata": {},
     "output_type": "display_data"
    },
    {
     "data": {
      "text/plain": [
       "[1,3,5,7,9,11,13,15,17,19,21,23,25,27,29,31,33,35,37,39]"
      ]
     },
     "metadata": {},
     "output_type": "display_data"
    },
    {
     "data": {
      "text/plain": [
       "([1,3,5,7,9,11,13,15,17,19],[21,23,25,27,29,31,33,35,37,39])"
      ]
     },
     "metadata": {},
     "output_type": "display_data"
    }
   ],
   "source": [
    "take 5 oddNumbers \n",
    "take 10 $ drop 5 oddNumbers\n",
    "\n",
    "f = take 20 oddNumbers\n",
    "f\n",
    "splitAt 10 f"
   ]
  },
  {
   "cell_type": "markdown",
   "id": "84aabf8d",
   "metadata": {
    "slideshow": {
     "slide_type": "fragment"
    }
   },
   "source": [
    "* reverse, length, repeat, cycle, elem"
   ]
  },
  {
   "cell_type": "code",
   "execution_count": 13,
   "id": "92e4eee8",
   "metadata": {},
   "outputs": [
    {
     "data": {
      "text/plain": [
       "34"
      ]
     },
     "metadata": {},
     "output_type": "display_data"
    },
    {
     "data": {
      "text/plain": [
       "[10,9,8,7,6,5,4,3,2,1]"
      ]
     },
     "metadata": {},
     "output_type": "display_data"
    },
    {
     "data": {
      "text/plain": [
       "\"aaaaaaaaaa\""
      ]
     },
     "metadata": {},
     "output_type": "display_data"
    },
    {
     "data": {
      "text/plain": [
       "[[1,3,5],[1,3,5],[1,3,5],[1,3,5],[1,3,5],[1,3,5],[1,3,5],[1,3,5],[1,3,5],[1,3,5]]"
      ]
     },
     "metadata": {},
     "output_type": "display_data"
    },
    {
     "data": {
      "text/plain": [
       "[1,3,5,1,3,5,1,3,5,1]"
      ]
     },
     "metadata": {},
     "output_type": "display_data"
    },
    {
     "data": {
      "text/plain": [
       "False"
      ]
     },
     "metadata": {},
     "output_type": "display_data"
    }
   ],
   "source": [
    "length [100,97..0]\n",
    "reverse [1..10]\n",
    "take 10 $ repeat 'a'\n",
    "take 10 $ repeat [1, 3, 5]\n",
    "take 10 $ cycle [1, 3, 5]\n",
    "\n",
    "elem 2 [1, 3, 5]"
   ]
  },
  {
   "cell_type": "markdown",
   "id": "bd726143",
   "metadata": {
    "pycharm": {
     "name": "#%% md\n"
    },
    "slideshow": {
     "slide_type": "slide"
    }
   },
   "source": [
    "<h2 style=\"text-align: ;\">List pattern matching</h2>"
   ]
  },
  {
   "cell_type": "code",
   "execution_count": 14,
   "id": "6d142d33",
   "metadata": {
    "slideshow": {
     "slide_type": "fragment"
    }
   },
   "outputs": [
    {
     "data": {
      "text/plain": [
       "3"
      ]
     },
     "metadata": {},
     "output_type": "display_data"
    }
   ],
   "source": [
    "count:: [a] -> Int\n",
    "count []      = 0\n",
    "count (_: xs) = 1 + count xs \n",
    "\n",
    "count [1, 4, 7]"
   ]
  },
  {
   "cell_type": "code",
   "execution_count": null,
   "id": "d99a26c4",
   "metadata": {
    "slideshow": {
     "slide_type": "fragment"
    }
   },
   "outputs": [
    {
     "data": {
      "text/plain": [
       "False"
      ]
     },
     "metadata": {},
     "output_type": "display_data"
    },
    {
     "data": {
      "text/plain": [
       "True"
      ]
     },
     "metadata": {},
     "output_type": "display_data"
    }
   ],
   "source": [
    "member:: (Eq a) => a -> [a] -> Bool\n",
    "member _ []      = False\n",
    "member e (x:xs)  = e == x || member e xs\n",
    "\n",
    "member 10 [1, 2, 3]\n",
    "member [1,2] [[1,2], [1..5]]"
   ]
  },
  {
   "cell_type": "code",
   "execution_count": 16,
   "id": "2cec0666",
   "metadata": {
    "slideshow": {
     "slide_type": "fragment"
    }
   },
   "outputs": [
    {
     "data": {
      "text/plain": [
       "[1,2,3,4,5,6,7]"
      ]
     },
     "metadata": {},
     "output_type": "display_data"
    }
   ],
   "source": [
    "union:: [Int] -> [Int] -> [Int]\n",
    "union [] ys     = ys\n",
    "union (x:xs) ys\n",
    "      | member x ys = rest\n",
    "      | otherwise   = x : rest\n",
    "    where \n",
    "        rest = union xs ys\n",
    "\n",
    "union [1..3] [2..7]"
   ]
  },
  {
   "cell_type": "markdown",
   "id": "be6f6775",
   "metadata": {
    "pycharm": {
     "name": "#%% md\n"
    },
    "slideshow": {
     "slide_type": "slide"
    }
   },
   "source": [
    "<h2 style=\"text-align: ;\">List Comprehensions</h2>"
   ]
  },
  {
   "cell_type": "code",
   "execution_count": null,
   "id": "97ff60aa",
   "metadata": {
    "slideshow": {
     "slide_type": "fragment"
    }
   },
   "outputs": [
    {
     "data": {
      "text/plain": [
       "[1,4,9,16,25,36,49,64,81,100]"
      ]
     },
     "metadata": {},
     "output_type": "display_data"
    },
    {
     "data": {
      "text/plain": [
       "[7,14,21,28,35,42,49,56,63,70]"
      ]
     },
     "metadata": {},
     "output_type": "display_data"
    }
   ],
   "source": [
    "squares = [n*n | n <- [1..10]]\n",
    "squares\n",
    "\n",
    "nat = [1 .. ]\n",
    "take 10 [e | e <- nat, e `mod` 7 == 0]\n"
   ]
  },
  {
   "cell_type": "code",
   "execution_count": 18,
   "id": "38db604b",
   "metadata": {
    "slideshow": {
     "slide_type": "fragment"
    }
   },
   "outputs": [
    {
     "data": {
      "text/plain": [
       "[(1,1),(2,2),(3,6),(4,24),(5,120),(6,720),(7,5040),(8,40320),(9,362880),(10,3628800)]"
      ]
     },
     "metadata": {},
     "output_type": "display_data"
    }
   ],
   "source": [
    "fact n = if n == 1 then 1 else n * fact (n-1)\n",
    "factTable = [(n, fact n) | n <- [1..]]\n",
    "take 10 factTable"
   ]
  },
  {
   "cell_type": "code",
   "execution_count": null,
   "id": "0b593e7b",
   "metadata": {
    "slideshow": {
     "slide_type": "fragment"
    }
   },
   "outputs": [
    {
     "data": {
      "text/plain": [
       "[\"a1\",\"a2\",\"a3\",\"a4\",\"a5\",\"a6\",\"a7\",\"a8\",\"b1\",\"b2\",\"b3\",\"b4\",\"b5\",\"b6\",\"b7\",\"b8\",\"c1\",\"c2\",\"c3\",\"c4\",\"c5\",\"c6\",\"c7\",\"c8\",\"d1\",\"d2\",\"d3\",\"d4\",\"d5\",\"d6\",\"d7\",\"d8\",\"e1\",\"e2\",\"e3\",\"e4\",\"e5\",\"e6\",\"e7\",\"e8\",\"f1\",\"f2\",\"f3\",\"f4\",\"f5\",\"f6\",\"f7\",\"f8\",\"g1\",\"g2\",\"g3\",\"g4\",\"g5\",\"g6\",\"g7\",\"g8\",\"h1\",\"h2\",\"h3\",\"h4\",\"h5\",\"h6\",\"h7\",\"h8\"]"
      ]
     },
     "metadata": {},
     "output_type": "display_data"
    }
   ],
   "source": [
    "chessBoard = [i : (show b) | i <- ['a'..'h'], b <- [1..8]]\n",
    "chessBoard\n"
   ]
  },
  {
   "cell_type": "markdown",
   "id": "7e455915",
   "metadata": {
    "pycharm": {
     "name": "#%% md\n"
    },
    "slideshow": {
     "slide_type": "slide"
    }
   },
   "source": [
    "<h2 style=\"text-align: ;\">List Comprehensions - Continued </h2>"
   ]
  },
  {
   "cell_type": "code",
   "execution_count": 20,
   "id": "664d8bbb",
   "metadata": {
    "slideshow": {
     "slide_type": "fragment"
    }
   },
   "outputs": [
    {
     "data": {
      "text/plain": [
       "[(1,\"Bananas\"),(2,\"Apples\"),(3,\"Oranges\"),(4,\"Pears\")]"
      ]
     },
     "metadata": {},
     "output_type": "display_data"
    }
   ],
   "source": [
    "fruits = [\"Bananas\", \"Apples\", \"Oranges\", \"Pears\"]\n",
    "zip [1..] fruits"
   ]
  },
  {
   "cell_type": "code",
   "execution_count": 21,
   "id": "986d4a30",
   "metadata": {
    "slideshow": {
     "slide_type": "fragment"
    }
   },
   "outputs": [
    {
     "data": {
      "text/plain": [
       "[\"1. Bananas\",\"2. Apples\",\"3. Oranges\",\"4. Pears\"]"
      ]
     },
     "metadata": {},
     "output_type": "display_data"
    }
   ],
   "source": [
    "[show i ++ \". \" ++ fruit | (i, fruit) <- zip [1..] fruits]"
   ]
  },
  {
   "cell_type": "markdown",
   "id": "76512419",
   "metadata": {
    "slideshow": {
     "slide_type": "fragment"
    }
   },
   "source": [
    "$ \\sum_{i=0} a_i \\cdot x^i $"
   ]
  },
  {
   "cell_type": "code",
   "execution_count": 22,
   "id": "4726f2ab",
   "metadata": {
    "slideshow": {
     "slide_type": "fragment"
    }
   },
   "outputs": [],
   "source": [
    "poly :: [Double] -> Double -> Double\n",
    "poly xs x = sum [a * (x ** i) | (a, i) <- zip xs [0..]]  "
   ]
  },
  {
   "cell_type": "markdown",
   "id": "5993668a",
   "metadata": {
    "slideshow": {
     "slide_type": "fragment"
    }
   },
   "source": [
    "For example: $ 1 + 2 \\cdot x^2 $ where x = 2"
   ]
  },
  {
   "cell_type": "code",
   "execution_count": 23,
   "id": "f7e62e46",
   "metadata": {
    "slideshow": {
     "slide_type": "fragment"
    }
   },
   "outputs": [
    {
     "data": {
      "text/plain": [
       "9.0"
      ]
     },
     "metadata": {},
     "output_type": "display_data"
    }
   ],
   "source": [
    "poly [1, 0, 2] 2"
   ]
  },
  {
   "cell_type": "code",
   "execution_count": 24,
   "id": "73788c3a",
   "metadata": {
    "slideshow": {
     "slide_type": "fragment"
    }
   },
   "outputs": [
    {
     "data": {
      "text/plain": [
       "[1,3,10,20,20,100]"
      ]
     },
     "metadata": {},
     "output_type": "display_data"
    }
   ],
   "source": [
    "quicksort  []           =  []\n",
    "quicksort (x:xs)        =  quicksort [y | y <- xs, y<x ]\n",
    "                        ++ [x]\n",
    "                        ++ quicksort [y | y <- xs, y>=x]\n",
    "\n",
    "quicksort [10, 20, 3, 20, 100, 1]"
   ]
  },
  {
   "cell_type": "markdown",
   "id": "4be553c8",
   "metadata": {
    "pycharm": {
     "name": "#%% md\n"
    },
    "slideshow": {
     "slide_type": "slide"
    }
   },
   "source": [
    "<h2 style=\"text-align: ;\">Higher Order Functions</h2>\n",
    "\n",
    "* Functions as Arguments:"
   ]
  },
  {
   "cell_type": "code",
   "execution_count": 25,
   "id": "01db8f38",
   "metadata": {
    "slideshow": {
     "slide_type": "fragment"
    }
   },
   "outputs": [
    {
     "data": {
      "text/plain": [
       "720"
      ]
     },
     "metadata": {},
     "output_type": "display_data"
    },
    {
     "data": {
      "text/plain": [
       "81"
      ]
     },
     "metadata": {},
     "output_type": "display_data"
    },
    {
     "data": {
      "text/plain": [
       "[3]"
      ]
     },
     "metadata": {},
     "output_type": "display_data"
    }
   ],
   "source": [
    "applyTwice::(a -> a) -> a -> a\n",
    "applyTwice f x = f (f x)\n",
    "\n",
    "\n",
    "applyTwice fact 3\n",
    "square x = x*x\n",
    "applyTwice square 3\n",
    "\n",
    "applyTwice tail [1, 2, 3]"
   ]
  },
  {
   "cell_type": "markdown",
   "id": "43b7b028",
   "metadata": {
    "pycharm": {
     "name": "#%% md\n"
    },
    "slideshow": {
     "slide_type": "fragment"
    }
   },
   "source": [
    "* Return a Function"
   ]
  },
  {
   "cell_type": "code",
   "execution_count": 26,
   "id": "4e351200",
   "metadata": {
    "slideshow": {
     "slide_type": "fragment"
    }
   },
   "outputs": [
    {
     "data": {
      "text/plain": [
       "2"
      ]
     },
     "metadata": {},
     "output_type": "display_data"
    }
   ],
   "source": [
    "compose::(b -> c) -> (a -> b) -> (a -> c)\n",
    "compose f g = h\n",
    "    where h x = f (g x)\n",
    "\n",
    "rs = compose round sqrt\n",
    "rs 3"
   ]
  },
  {
   "cell_type": "markdown",
   "id": "8441681c",
   "metadata": {
    "pycharm": {
     "name": "#%% md\n"
    },
    "slideshow": {
     "slide_type": "slide"
    }
   },
   "source": [
    "<h2 style=\"text-align: ;\">Map</h2>"
   ]
  },
  {
   "cell_type": "markdown",
   "id": "aa2d52b1",
   "metadata": {
    "slideshow": {
     "slide_type": "-"
    }
   },
   "source": [
    "> `map` apply a function to each element of a list"
   ]
  },
  {
   "cell_type": "code",
   "execution_count": 27,
   "id": "6b90e039",
   "metadata": {
    "slideshow": {
     "slide_type": "fragment"
    }
   },
   "outputs": [
    {
     "data": {
      "text/plain": [
       "[1,6,120,5040,362880]"
      ]
     },
     "metadata": {},
     "output_type": "display_data"
    }
   ],
   "source": [
    "map :: (a -> b) -> [a] -> [b]\n",
    "map _ [] = []\n",
    "map f (x:xs) = f x : map f xs\n",
    "\n",
    "map fact [1,3 .. 9]"
   ]
  },
  {
   "cell_type": "code",
   "execution_count": 28,
   "id": "87cbf323",
   "metadata": {
    "slideshow": {
     "slide_type": "fragment"
    }
   },
   "outputs": [
    {
     "data": {
      "text/plain": [
       "\"aafteeoal\""
      ]
     },
     "metadata": {},
     "output_type": "display_data"
    }
   ],
   "source": [
    "wordList = [\"apply\",\"a\",\"function\",\"to\",\"each\",\"element\",\"of\",\"a\",\"list\"]\n",
    "\n",
    "map head wordList"
   ]
  },
  {
   "cell_type": "markdown",
   "id": "368cc553",
   "metadata": {
    "pycharm": {
     "name": "#%% md\n"
    },
    "slideshow": {
     "slide_type": "slide"
    }
   },
   "source": [
    "<h2 style=\"text-align: ;\">Filter</h2>"
   ]
  },
  {
   "cell_type": "markdown",
   "id": "6a223469",
   "metadata": {
    "slideshow": {
     "slide_type": "-"
    }
   },
   "source": [
    "> `filter` select all elements of a list that match a given predicate"
   ]
  },
  {
   "cell_type": "code",
   "execution_count": 29,
   "id": "6da9a2ef",
   "metadata": {
    "slideshow": {
     "slide_type": "fragment"
    }
   },
   "outputs": [
    {
     "data": {
      "text/plain": [
       "[2,4,6,8,10,12,14,16,18,20]"
      ]
     },
     "metadata": {},
     "output_type": "display_data"
    }
   ],
   "source": [
    "filter :: (a -> Bool) -> [a] -> [a]  \n",
    "filter _ [] = []  \n",
    "filter p (x:xs) \n",
    "    | p x       = x : filter p xs  \n",
    "    | otherwise = filter p xs  \n",
    "    \n",
    "filter even [1..20]    "
   ]
  },
  {
   "cell_type": "markdown",
   "id": "3b73ca95",
   "metadata": {
    "slideshow": {
     "slide_type": "fragment"
    }
   },
   "source": [
    "* Lambda - Define a function **in line**"
   ]
  },
  {
   "cell_type": "code",
   "execution_count": null,
   "id": "8e570bec",
   "metadata": {},
   "outputs": [
    {
     "data": {
      "text/plain": [
       "[20,30]"
      ]
     },
     "metadata": {},
     "output_type": "display_data"
    }
   ],
   "source": [
    "filter (\\x -> x > 10 && x < 100) [1000, 1, 20, 30, 2]"
   ]
  },
  {
   "cell_type": "markdown",
   "id": "283f946e",
   "metadata": {
    "pycharm": {
     "name": "#%% md\n"
    },
    "slideshow": {
     "slide_type": "slide"
    }
   },
   "source": [
    "<h2 style=\"text-align: ;\">Partial Application - Curried Functions</h2>\n",
    "\n",
    "> You can create a new function by _partially applying_ a function to some of its arguments\n",
    "\n",
    "* For example"
   ]
  },
  {
   "cell_type": "code",
   "execution_count": null,
   "id": "493a64e6",
   "metadata": {
    "slideshow": {
     "slide_type": "fragment"
    }
   },
   "outputs": [
    {
     "data": {
      "text/plain": [
       "45"
      ]
     },
     "metadata": {},
     "output_type": "display_data"
    },
    {
     "data": {
      "text/plain": [
       "9"
      ]
     },
     "metadata": {},
     "output_type": "display_data"
    }
   ],
   "source": [
    "multiply :: Int -> Int -> Int\n",
    "multiply x y = x*y\n",
    "\n",
    "triple = multiply 3\n",
    "triple 15\n",
    "triple 3"
   ]
  },
  {
   "cell_type": "code",
   "execution_count": 32,
   "id": "0b788eb3",
   "metadata": {
    "slideshow": {
     "slide_type": "fragment"
    }
   },
   "outputs": [
    {
     "data": {
      "text/plain": [
       "83.0"
      ]
     },
     "metadata": {},
     "output_type": "display_data"
    },
    {
     "data": {
      "text/plain": [
       "3.0"
      ]
     },
     "metadata": {},
     "output_type": "display_data"
    }
   ],
   "source": [
    "p1  = poly [3, 0, 1, 1] -- 3 + x^2 + x^3\n",
    "p1 4\n",
    "p1 0"
   ]
  },
  {
   "cell_type": "code",
   "execution_count": 33,
   "id": "ff7b9921",
   "metadata": {
    "slideshow": {
     "slide_type": "fragment"
    }
   },
   "outputs": [
    {
     "data": {
      "text/plain": [
       "\"aafteeoal\""
      ]
     },
     "metadata": {},
     "output_type": "display_data"
    }
   ],
   "source": [
    "heads = map head\n",
    "heads wordList"
   ]
  },
  {
   "cell_type": "markdown",
   "id": "4323205f",
   "metadata": {
    "pycharm": {
     "name": "#%% md\n"
    },
    "slideshow": {
     "slide_type": "slide"
    }
   },
   "source": [
    "## Operators and Infix Functions\n",
    "\n",
    "* You can use functions as Infix Operators. For example:"
   ]
  },
  {
   "cell_type": "code",
   "execution_count": 34,
   "id": "20fcf4c1",
   "metadata": {
    "slideshow": {
     "slide_type": "fragment"
    }
   },
   "outputs": [
    {
     "data": {
      "text/plain": [
       "3.3333333333333335"
      ]
     },
     "metadata": {},
     "output_type": "display_data"
    },
    {
     "data": {
      "text/plain": [
       "3"
      ]
     },
     "metadata": {},
     "output_type": "display_data"
    }
   ],
   "source": [
    "10 / 3\n",
    "10 `div` 3"
   ]
  },
  {
   "cell_type": "markdown",
   "id": "703a4c4c",
   "metadata": {
    "slideshow": {
     "slide_type": "fragment"
    }
   },
   "source": [
    "* Also you can Use operators as functions"
   ]
  },
  {
   "cell_type": "code",
   "execution_count": 35,
   "id": "e1d26f01",
   "metadata": {
    "slideshow": {
     "slide_type": "fragment"
    }
   },
   "outputs": [
    {
     "data": {
      "text/plain": [
       "3.3333333333333335"
      ]
     },
     "metadata": {},
     "output_type": "display_data"
    },
    {
     "data": {
      "text/plain": [
       "\"Hello  World!\""
      ]
     },
     "metadata": {},
     "output_type": "display_data"
    }
   ],
   "source": [
    "(/) 10 3\n",
    "(++) \"Hello \" \" World!\""
   ]
  },
  {
   "cell_type": "markdown",
   "id": "63f66152",
   "metadata": {
    "slideshow": {
     "slide_type": "fragment"
    }
   },
   "source": [
    "* You can also define your own operators"
   ]
  },
  {
   "cell_type": "code",
   "execution_count": 36,
   "id": "588bceb4",
   "metadata": {
    "slideshow": {
     "slide_type": "fragment"
    }
   },
   "outputs": [
    {
     "data": {
      "text/plain": [
       "(1,8)"
      ]
     },
     "metadata": {},
     "output_type": "display_data"
    }
   ],
   "source": [
    "(|*|) :: (Int, Int) -> (Int, Int) -> (Int, Int)\n",
    "(|*|) (n1, d1) (n2, d2) = (n1*n2, d1*d2)\n",
    " \n",
    "(1, 2) |*| (1, 4) "
   ]
  },
  {
   "cell_type": "markdown",
   "id": "f88a9aa2",
   "metadata": {
    "pycharm": {
     "name": "#%% md\n"
    },
    "slideshow": {
     "slide_type": "slide"
    }
   },
   "source": [
    "<h2 style=\"text-align: ;\">Partial Application - Operators</h2>\n",
    "\n",
    "> The operators of the language can be partially applied.\n",
    "\n",
    "* For example:"
   ]
  },
  {
   "cell_type": "code",
   "execution_count": 37,
   "id": "f429887f",
   "metadata": {
    "slideshow": {
     "slide_type": "fragment"
    }
   },
   "outputs": [
    {
     "data": {
      "text/plain": [
       "[3,4,5,6,7,8,9,10,11,12]"
      ]
     },
     "metadata": {},
     "output_type": "display_data"
    },
    {
     "data": {
      "text/plain": [
       "[1.0,2.0,3.0,4.0,5.0]"
      ]
     },
     "metadata": {},
     "output_type": "display_data"
    },
    {
     "data": {
      "text/plain": [
       "[1.0,0.5,0.3333333333333333,0.25,0.2]"
      ]
     },
     "metadata": {},
     "output_type": "display_data"
    },
    {
     "data": {
      "text/plain": [
       "[\"--Hello--\",\"--World--\"]"
      ]
     },
     "metadata": {},
     "output_type": "display_data"
    }
   ],
   "source": [
    "map (+2) [1..10]\n",
    "map (/2) [2,4..10]\n",
    "map (2/) [2,4..10]\n",
    "\n",
    "map ((\"--\" ++) . (++ \"--\")) [\"Hello\", \"World\"]\n"
   ]
  },
  {
   "cell_type": "code",
   "execution_count": 38,
   "id": "0dbfd902",
   "metadata": {
    "slideshow": {
     "slide_type": "fragment"
    }
   },
   "outputs": [
    {
     "data": {
      "text/plain": [
       "[100,25]"
      ]
     },
     "metadata": {},
     "output_type": "display_data"
    },
    {
     "data": {
      "text/plain": [
       "\"HelloWorld!\""
      ]
     },
     "metadata": {},
     "output_type": "display_data"
    }
   ],
   "source": [
    "filter (>10) [100, 2, 5, 25]\n",
    "filter (/=' ') \"Hello World!  \""
   ]
  },
  {
   "cell_type": "markdown",
   "id": "f61799a9",
   "metadata": {
    "pycharm": {
     "name": "#%% md\n"
    },
    "slideshow": {
     "slide_type": "slide"
    }
   },
   "source": [
    "<h2 style=\"text-align: ;\">Folds</h2>\n",
    "\n",
    "![Folds](images/folds.png)"
   ]
  },
  {
   "cell_type": "code",
   "execution_count": null,
   "id": "c1f68846",
   "metadata": {
    "slideshow": {
     "slide_type": "fragment"
    }
   },
   "outputs": [
    {
     "data": {
      "text/html": [
       "<style>/* Styles used for the Hoogle display in the pager */\n",
       ".hoogle-doc {\n",
       "display: block;\n",
       "padding-bottom: 1.3em;\n",
       "padding-left: 0.4em;\n",
       "}\n",
       ".hoogle-code {\n",
       "display: block;\n",
       "font-family: monospace;\n",
       "white-space: pre;\n",
       "}\n",
       ".hoogle-text {\n",
       "display: block;\n",
       "}\n",
       ".hoogle-name {\n",
       "color: green;\n",
       "font-weight: bold;\n",
       "}\n",
       ".hoogle-head {\n",
       "font-weight: bold;\n",
       "}\n",
       ".hoogle-sub {\n",
       "display: block;\n",
       "margin-left: 0.4em;\n",
       "}\n",
       ".hoogle-package {\n",
       "font-weight: bold;\n",
       "font-style: italic;\n",
       "}\n",
       ".hoogle-module {\n",
       "font-weight: bold;\n",
       "}\n",
       ".hoogle-class {\n",
       "font-weight: bold;\n",
       "}\n",
       "\n",
       ".get-type {\n",
       "color: green;\n",
       "font-weight: bold;\n",
       "font-family: monospace;\n",
       "display: block;\n",
       "white-space: pre-wrap;\n",
       "}\n",
       ".show-type {\n",
       "color: green;\n",
       "font-weight: bold;\n",
       "font-family: monospace;\n",
       "margin-left: 1em;\n",
       "}\n",
       ".mono {\n",
       "font-family: monospace;\n",
       "display: block;\n",
       "}\n",
       ".err-msg {\n",
       "color: red;\n",
       "font-style: italic;\n",
       "font-family: monospace;\n",
       "white-space: pre;\n",
       "display: block;\n",
       "}\n",
       "#unshowable {\n",
       "color: red;\n",
       "font-weight: bold;\n",
       "}\n",
       ".err-msg.in.collapse {\n",
       "padding-top: 0.7em;\n",
       "}\n",
       "\n",
       ".highlight-code {\n",
       "white-space: pre;\n",
       "font-family: monospace;\n",
       "}\n",
       "\n",
       ".suggestion-warning { \n",
       "font-weight: bold;\n",
       "color: rgb(200, 130, 0);\n",
       "}\n",
       ".suggestion-error { \n",
       "font-weight: bold;\n",
       "color: red;\n",
       "}\n",
       ".suggestion-name {\n",
       "font-weight: bold;\n",
       "}\n",
       "\n",
       "</style><div class=\"suggestion-name\" style=\"clear:both;\">Use sum</div><div class=\"suggestion-row\" style=\"float: left;\"><div class=\"suggestion-warning\">Found:</div><div class=\"highlight-code\" id=\"haskell\">foldr (+) 0</div></div><div class=\"suggestion-row\" style=\"float: left;\"><div class=\"suggestion-warning\">Why Not:</div><div class=\"highlight-code\" id=\"haskell\">sum</div></div><div class=\"suggestion-name\" style=\"clear:both;\">Use sum</div><div class=\"suggestion-row\" style=\"float: left;\"><div class=\"suggestion-warning\">Found:</div><div class=\"highlight-code\" id=\"haskell\">foldl (+) 0</div></div><div class=\"suggestion-row\" style=\"float: left;\"><div class=\"suggestion-warning\">Why Not:</div><div class=\"highlight-code\" id=\"haskell\">sum</div></div>"
      ],
      "text/plain": [
       "Line 1: Use sum\n",
       "Found:\n",
       "foldr (+) 0\n",
       "Why not:\n",
       "sumLine 2: Use sum\n",
       "Found:\n",
       "foldl (+) 0\n",
       "Why not:\n",
       "sum"
      ]
     },
     "metadata": {},
     "output_type": "display_data"
    },
    {
     "data": {
      "text/plain": [
       "10"
      ]
     },
     "metadata": {},
     "output_type": "display_data"
    },
    {
     "data": {
      "text/plain": [
       "10"
      ]
     },
     "metadata": {},
     "output_type": "display_data"
    }
   ],
   "source": [
    "foldr (+) 0 [1..4]\n",
    "foldl (+) 0 [1..4]"
   ]
  },
  {
   "cell_type": "code",
   "execution_count": null,
   "id": "0e5b81e1",
   "metadata": {
    "slideshow": {
     "slide_type": "fragment"
    }
   },
   "outputs": [
    {
     "data": {
      "text/plain": [
       "-10"
      ]
     },
     "metadata": {},
     "output_type": "display_data"
    },
    {
     "data": {
      "text/plain": [
       "-2"
      ]
     },
     "metadata": {},
     "output_type": "display_data"
    }
   ],
   "source": [
    "foldl (-) 0 [1..4]\n",
    "\n",
    "-- (((0 - 1) - 2) - 3) - 4 \n",
    "foldr (-) 0 [1..4]\n",
    "-- 1 - (2 - (3 - (4 - 0))) "
   ]
  },
  {
   "cell_type": "markdown",
   "id": "9dba8dba",
   "metadata": {
    "pycharm": {
     "name": "#%% md\n"
    },
    "slideshow": {
     "slide_type": "slide"
    }
   },
   "source": [
    "<h2 style=\"text-align: ;\">Foldl1 Foldr1</h2>"
   ]
  },
  {
   "cell_type": "markdown",
   "id": "8d2e6c26",
   "metadata": {
    "pycharm": {
     "name": "#%% md\n"
    },
    "slideshow": {
     "slide_type": "fragment"
    }
   },
   "source": [
    "* foldl1 takes the **first** element as the initial value\n",
    "```haskell\n",
    "foldl1 (+) [1..4]\n",
    "```"
   ]
  },
  {
   "cell_type": "markdown",
   "id": "61f52331",
   "metadata": {
    "pycharm": {
     "name": "#%% md\n"
    },
    "slideshow": {
     "slide_type": "fragment"
    }
   },
   "source": [
    "* foldr1 takes the **last** element as the initial value\n",
    "```haskell\n",
    "foldr1 (-) [1..4]\n",
    "```"
   ]
  },
  {
   "cell_type": "markdown",
   "id": "4bf09891",
   "metadata": {
    "pycharm": {
     "name": "#%% md\n"
    },
    "slideshow": {
     "slide_type": "fragment"
    }
   },
   "source": [
    "* Both **fail** when applied to the **empty** list `[]`"
   ]
  },
  {
   "cell_type": "markdown",
   "id": "2d8af416",
   "metadata": {
    "pycharm": {
     "name": "#%% md\n"
    },
    "slideshow": {
     "slide_type": "slide"
    }
   },
   "source": [
    "<h2 style=\"text-align: ;\">Rewrite other functions with Folds</h2>\n"
   ]
  },
  {
   "cell_type": "code",
   "execution_count": 41,
   "id": "2b974044",
   "metadata": {
    "slideshow": {
     "slide_type": "fragment"
    }
   },
   "outputs": [
    {
     "data": {
      "text/plain": [
       "[2,4,6,8,10]"
      ]
     },
     "metadata": {},
     "output_type": "display_data"
    }
   ],
   "source": [
    "filter2 p l = foldr f [] l \n",
    "    where\n",
    "        f x acc = if p x then x : acc else acc\n",
    "\n",
    "filter2 even [1..10]"
   ]
  },
  {
   "cell_type": "code",
   "execution_count": 42,
   "id": "131c3dba",
   "metadata": {
    "slideshow": {
     "slide_type": "fragment"
    }
   },
   "outputs": [],
   "source": [
    "fact2 n = foldl (*) 1 [1..n] "
   ]
  },
  {
   "cell_type": "code",
   "execution_count": 43,
   "id": "48a2f31d",
   "metadata": {
    "slideshow": {
     "slide_type": "fragment"
    }
   },
   "outputs": [
    {
     "data": {
      "text/plain": [
       "[4,3,2,1]"
      ]
     },
     "metadata": {},
     "output_type": "display_data"
    }
   ],
   "source": [
    "reverse2 = foldl (\\acc x -> x : acc) []\n",
    "\n",
    "reverse2 [1..4]\n",
    "-- 4 : (3 : (2 : (1 : []))) "
   ]
  },
  {
   "cell_type": "code",
   "execution_count": 44,
   "id": "daddc8fe",
   "metadata": {
    "slideshow": {
     "slide_type": "fragment"
    }
   },
   "outputs": [
    {
     "data": {
      "text/plain": [
       "10"
      ]
     },
     "metadata": {},
     "output_type": "display_data"
    }
   ],
   "source": [
    "maximum2 = foldl1 max\n",
    "\n",
    "maximum2 [1, 10, 2, 7]"
   ]
  },
  {
   "cell_type": "code",
   "execution_count": null,
   "id": "d5cc5175",
   "metadata": {},
   "outputs": [],
   "source": []
  },
  {
   "cell_type": "markdown",
   "id": "218c80db",
   "metadata": {
    "pycharm": {
     "name": "#%% md\n"
    },
    "slideshow": {
     "slide_type": "slide"
    }
   },
   "source": [
    "<h2 style=\"text-align: ;\">Application: Split an String</h2>\n",
    "\n",
    "```haskell\n",
    "split :: (Char -> Bool) -> String -> [String]\n",
    "split predicate string\n",
    "\n",
    "isSep c = c ==' ' || c == ',' \n",
    "split isSep \"Banana, Apple, Lemon\"\n",
    "    [\"Banana\", \"Apple\", \"Lemon\"]\n",
    "```"
   ]
  },
  {
   "cell_type": "code",
   "execution_count": 45,
   "id": "8fa6de67",
   "metadata": {
    "slideshow": {
     "slide_type": "skip"
    }
   },
   "outputs": [
    {
     "data": {
      "text/plain": [
       "True"
      ]
     },
     "metadata": {},
     "output_type": "display_data"
    }
   ],
   "source": [
    "isSep c = c ==' ' || c == ',' \n",
    "\n",
    "isSep ','"
   ]
  },
  {
   "cell_type": "code",
   "execution_count": 46,
   "id": "28a248d8",
   "metadata": {
    "slideshow": {
     "slide_type": "skip"
    }
   },
   "outputs": [
    {
     "ename": "",
     "evalue": "",
     "output_type": "error",
     "traceback": [
      "<interactive>:1:1: error: [GHC-44432] The type signature for ‘takeUntil’ lacks an accompanying binding"
     ]
    }
   ],
   "source": [
    "takeUntil :: (Char -> Bool) -> String -> String\n",
    "\n",
    "-- takeUntil isSep \"Banana, Apple\" -> \"Banana\" "
   ]
  },
  {
   "cell_type": "code",
   "execution_count": 47,
   "id": "cf951438",
   "metadata": {
    "slideshow": {
     "slide_type": "skip"
    }
   },
   "outputs": [
    {
     "ename": "",
     "evalue": "",
     "output_type": "error",
     "traceback": [
      "<interactive>:1:1: error: [GHC-44432] The type signature for ‘dropWhile’ lacks an accompanying binding"
     ]
    }
   ],
   "source": [
    "dropWhile :: (Char -> Bool) -> String -> String\n",
    "\n",
    "-- dropWhile isSep \", Apple\" -> \"Apple\" "
   ]
  },
  {
   "cell_type": "code",
   "execution_count": 48,
   "id": "0fa21c44",
   "metadata": {
    "slideshow": {
     "slide_type": "skip"
    }
   },
   "outputs": [
    {
     "ename": "",
     "evalue": "",
     "output_type": "error",
     "traceback": [
      "<interactive>:1:1: error: [GHC-44432] The type signature for ‘takeUntil2’ lacks an accompanying binding"
     ]
    }
   ],
   "source": [
    "takeUntil2 :: (Char -> Bool) -> String -> (String, String)\n",
    "-- takeUntil2 isSep \"Banana, Apple\" -> (\"Banana\", \", Apple\") "
   ]
  },
  {
   "cell_type": "code",
   "execution_count": 49,
   "id": "177f7d11",
   "metadata": {
    "scrolled": true,
    "slideshow": {
     "slide_type": "skip"
    }
   },
   "outputs": [
    {
     "ename": "",
     "evalue": "",
     "output_type": "error",
     "traceback": [
      "<interactive>:1:38: error: Illegal type: ‘[String, String]’ Perhaps you intended to use DataKinds\n<interactive>:1:1: error: [GHC-44432] The type signature for ‘split’ lacks an accompanying binding"
     ]
    }
   ],
   "source": [
    "split :: (Char -> Bool) -> String -> [String, String]"
   ]
  }
 ],
 "metadata": {
  "celltoolbar": "Slideshow",
  "kernelspec": {
   "display_name": "Haskell",
   "language": "haskell",
   "name": "haskell"
  },
  "language_info": {
   "codemirror_mode": "ihaskell",
   "file_extension": ".hs",
   "mimetype": "text/x-haskell",
   "name": "haskell",
   "pygments_lexer": "Haskell",
   "version": "9.6.4"
  }
 },
 "nbformat": 4,
 "nbformat_minor": 5
}
